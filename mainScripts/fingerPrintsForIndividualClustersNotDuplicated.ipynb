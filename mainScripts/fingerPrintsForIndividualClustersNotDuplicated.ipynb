{
 "cells": [
  {
   "cell_type": "code",
   "execution_count": 82,
   "metadata": {},
   "outputs": [],
   "source": [
    "##Creates CDK fingerprints for the not-duplicated clusters list"
   ]
  },
  {
   "cell_type": "code",
   "execution_count": 83,
   "metadata": {},
   "outputs": [],
   "source": [
    "from rdkit import Chem"
   ]
  },
  {
   "cell_type": "code",
   "execution_count": 84,
   "metadata": {},
   "outputs": [
    {
     "name": "stdout",
     "output_type": "stream",
     "text": [
      "C:\\Users\\Yoo\\Desktop\\summerProject\\hmmer-3.2.1\\trial\n"
     ]
    }
   ],
   "source": [
    "cd C:\\Users\\Yoo\\Desktop\\summerProject\\hmmer-3.2.1\\trial"
   ]
  },
  {
   "cell_type": "code",
   "execution_count": 85,
   "metadata": {},
   "outputs": [],
   "source": [
    "smartFile = open (\"smartMolecules.tsv\")\n",
    "smileFile= open (\"onlyOneSmileMoleculePerCluster.tsv\")\n",
    "outputFile= open (\"fingerprints.tsv\",\"w\")\n",
    "smartStringList=[]\n",
    "smileStringList=[]\n",
    "smileMoleculeList=[]\n",
    "smartMoleculeList=[]\n",
    "clustersNameList=[]"
   ]
  },
  {
   "cell_type": "code",
   "execution_count": 86,
   "metadata": {},
   "outputs": [],
   "source": [
    "for line in smartFile:\n",
    "    line=line.strip(\"\\n\")\n",
    "    line=line.split(\"\\t\")\n",
    "    smartStringList.append(line[2])"
   ]
  },
  {
   "cell_type": "code",
   "execution_count": 87,
   "metadata": {},
   "outputs": [],
   "source": [
    "for line in smileFile:\n",
    "    line=line.strip(\"\\n\")\n",
    "    line=line.split(\"\\t\")\n",
    "    smileStringList.append(line[1])\n",
    "    clustersNameList.append(line[0][0:10])"
   ]
  },
  {
   "cell_type": "code",
   "execution_count": 88,
   "metadata": {},
   "outputs": [],
   "source": [
    "smartFile.close()\n",
    "smileFile.close()"
   ]
  },
  {
   "cell_type": "code",
   "execution_count": 89,
   "metadata": {},
   "outputs": [],
   "source": [
    "for smileString in smileStringList:\n",
    "    m=Chem.MolFromSmiles(smileString)\n",
    "    smileMoleculeList.append(m)\n",
    "for smartString in smartStringList:\n",
    "    m=Chem.MolFromSmarts(smartString)\n",
    "    smartMoleculeList.append(m)"
   ]
  },
  {
   "cell_type": "code",
   "execution_count": 90,
   "metadata": {},
   "outputs": [],
   "source": [
    "for i in range (0, len(smileMoleculeList)):\n",
    "    outputFile.write(clustersNameList[i]+\":\")\n",
    "    for j in range(0, len(smartMoleculeList)):\n",
    "        outputFile.write(str(int(smileMoleculeList[i].HasSubstructMatch(smartMoleculeList[j]))))\n",
    "    outputFile.write(\"\\n\")\n",
    "outputFile.close()"
   ]
  },
  {
   "cell_type": "code",
   "execution_count": null,
   "metadata": {},
   "outputs": [],
   "source": []
  }
 ],
 "metadata": {
  "kernelspec": {
   "display_name": "Python 3",
   "language": "python",
   "name": "python3"
  },
  "language_info": {
   "codemirror_mode": {
    "name": "ipython",
    "version": 3
   },
   "file_extension": ".py",
   "mimetype": "text/x-python",
   "name": "python",
   "nbconvert_exporter": "python",
   "pygments_lexer": "ipython3",
   "version": "3.7.2"
  }
 },
 "nbformat": 4,
 "nbformat_minor": 2
}
