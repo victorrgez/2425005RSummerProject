{
 "cells": [
  {
   "cell_type": "code",
   "execution_count": 65,
   "metadata": {},
   "outputs": [],
   "source": [
    "##The script analyses all the json files and gets those which have a smile string on it\n",
    "\n",
    "#The output it's a two-column file separated by \",\". The first column is the name of the cluster\n",
    "#and the second one is the SMILE string\n",
    "import os"
   ]
  },
  {
   "cell_type": "code",
   "execution_count": 66,
   "metadata": {},
   "outputs": [
    {
     "name": "stdout",
     "output_type": "stream",
     "text": [
      "C:\\Users\\Yoo\\Desktop\\Summer Project\\hmmer-3.2.1\\trial\n"
     ]
    }
   ],
   "source": [
    "cd C:\\Users\\Yoo\\Desktop\\Summer Project\\hmmer-3.2.1\\trial "
   ]
  },
  {
   "cell_type": "code",
   "execution_count": 67,
   "metadata": {},
   "outputs": [],
   "source": [
    "outputFile = open (\"smileStrings.csv\",\"w\")\n",
    "os.chdir(\"..\\..\\Mibig\\mibig_1.4_json\")"
   ]
  },
  {
   "cell_type": "code",
   "execution_count": 69,
   "metadata": {},
   "outputs": [],
   "source": [
    "for filename in os.listdir(os.getcwd()):\n",
    "    inputFile= open (filename)\n",
    "    smileString=\"\"\n",
    "    nameOfTheCluster=\"\"\n",
    "    for line in inputFile:\n",
    "        line=line.strip()\n",
    "        if line[0:14]=='\"chem_struct\":':\n",
    "            smileString= line [16:-2]\n",
    "        elif line[0:18] == '\"mibig_accession\":':\n",
    "            nameOfTheCluster = line[20:-2]\n",
    "    if smileString:\n",
    "        outputFile.write(nameOfTheCluster + \",\"+smileString+\"\\n\")\n",
    "    inputFile.close()\n",
    "outputFile.close()    "
   ]
  },
  {
   "cell_type": "code",
   "execution_count": null,
   "metadata": {},
   "outputs": [],
   "source": []
  }
 ],
 "metadata": {
  "kernelspec": {
   "display_name": "Python 3",
   "language": "python",
   "name": "python3"
  },
  "language_info": {
   "codemirror_mode": {
    "name": "ipython",
    "version": 3
   },
   "file_extension": ".py",
   "mimetype": "text/x-python",
   "name": "python",
   "nbconvert_exporter": "python",
   "pygments_lexer": "ipython3",
   "version": "3.7.2"
  }
 },
 "nbformat": 4,
 "nbformat_minor": 2
}
