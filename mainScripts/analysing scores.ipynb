{
 "cells": [
  {
   "cell_type": "code",
   "execution_count": null,
   "metadata": {},
   "outputs": [],
   "source": [
    "####This is the most important script for analysing the scores.\n",
    "#### It reads a \".npy\" file created with either IOKR or with a neural network\n",
    "#### and calculates the percentage of times the expected output vector was\n",
    "#### set to be within the top 1, top 3, top 10, top 15 and top 25"
   ]
  },
  {
   "cell_type": "code",
   "execution_count": 1,
   "metadata": {},
   "outputs": [
    {
     "name": "stdout",
     "output_type": "stream",
     "text": [
      "C:\\Users\\Yoo\\Desktop\\summerProject\\hmmer-3.2.1\\trial\\usefulFiles\\machineLearningKernelPfamFingerPrints\\kmersIOKR\n"
     ]
    }
   ],
   "source": [
    "cd C:\\Users\\Yoo\\Desktop\\summerProject\\hmmer-3.2.1\\trial\\usefulFiles\\machineLearningKernelPfamFingerPrints\\kmersIOKR"
   ]
  },
  {
   "cell_type": "code",
   "execution_count": 6,
   "metadata": {},
   "outputs": [],
   "source": [
    "import numpy as np\n",
    "score = np.load('score.npy')\n",
    "dimension = len (score)\n",
    "pos = np.zeros(dimension)\n",
    "for i in range (0, dimension):\n",
    "    pos[i] = 1 ##At the start of the loop the position is 1, for each combination with a better score, the position is reduced one place\n",
    "    selfScore = score[i][i]##This is the expected output vector score for each row\n",
    "    for j in range (0, dimension):##Checking the score with the 206 clusters of the test set\n",
    "        if score[i][j]>selfScore:##With greater than, we ignore same scores of clusters that produce the same molecule (included when we check [i][i])\n",
    "            pos[i]+=1##Every time we find a greater score, the ranking of the self score is reduced"
   ]
  },
  {
   "cell_type": "code",
   "execution_count": 3,
   "metadata": {},
   "outputs": [
    {
     "name": "stdout",
     "output_type": "stream",
     "text": [
      "12\n",
      "18\n",
      "20\n",
      "30\n",
      "55\n"
     ]
    }
   ],
   "source": [
    "##Prints the number of times in each top, it is used just for checking. The important scores are displayed on the following cell\n",
    "print (sum(pos==1))\n",
    "print (sum(pos<=3))\n",
    "print (sum(pos<=5))\n",
    "print (sum(pos<=10))\n",
    "print (sum(pos<=25))"
   ]
  },
  {
   "cell_type": "code",
   "execution_count": 4,
   "metadata": {},
   "outputs": [
    {
     "name": "stdout",
     "output_type": "stream",
     "text": [
      "The percentage of times in position 1 is 5.83%\n",
      "The percentage of times in TOP 3 is 8.74%\n",
      "The percentage of times in TOP 5 is 9.71%\n",
      "The percentage of times in TOP 10 is 14.56%\n",
      "The percentage of times in TOP 25 is 26.70%\n"
     ]
    }
   ],
   "source": [
    "##Prints the percentages\n",
    "print (\"The percentage of times in position 1 is %.2f%%\" % (sum(pos==1)/dimension*100))\n",
    "print (\"The percentage of times in TOP 3 is %.2f%%\" % ((sum(pos==1)+sum(pos==2)+sum(pos==3))/dimension*100))\n",
    "print (\"The percentage of times in TOP 5 is %.2f%%\" % (sum(pos<=5)/dimension*100))\n",
    "print (\"The percentage of times in TOP 10 is %.2f%%\" % (sum(pos<=10)/dimension*100))\n",
    "print (\"The percentage of times in TOP 25 is %.2f%%\" % (sum(pos<=25)/dimension*100))"
   ]
  },
  {
   "cell_type": "code",
   "execution_count": 7,
   "metadata": {},
   "outputs": [
    {
     "name": "stdout",
     "output_type": "stream",
     "text": [
      "[[0.25243515 0.13919214 0.06582714 ... 0.16995966 0.12402454 0.23275492]\n",
      " [0.1833612  0.13990142 0.0819337  ... 0.17395031 0.08341987 0.19554438]\n",
      " [0.13611661 0.09465241 0.08204441 ... 0.14412332 0.09830193 0.15145331]\n",
      " ...\n",
      " [0.13511466 0.08262773 0.11055885 ... 0.14288368 0.11211474 0.14814626]\n",
      " [0.22481665 0.15096163 0.05700967 ... 0.19865844 0.11132447 0.24609246]\n",
      " [0.21224908 0.14611927 0.05283473 ... 0.20543456 0.13246985 0.25297477]]\n"
     ]
    }
   ],
   "source": [
    "print (score) ##Used for checking that the scores are not 0 or really close to it"
   ]
  },
  {
   "cell_type": "code",
   "execution_count": 6,
   "metadata": {},
   "outputs": [
    {
     "name": "stdout",
     "output_type": "stream",
     "text": [
      "[ 70. 112.   3.   8.  83. 161.  29.  14.  24.  17. 103.  42. 104. 190.\n",
      " 161.  74.  51. 122.  19.   1. 120. 170. 113. 189.  16. 172. 142. 107.\n",
      "  71.  25.  10.  25. 150.  56.  16.   1. 131.   6.  48.  49.  98.  36.\n",
      "   1.   1.  84.   1.  61.  93.  85.  55.  96. 117.  11. 169.  81.  76.\n",
      "  50.  91.   7.  49.  61. 104.  71.  27.   2.  10. 195.   9.  54. 132.\n",
      "  41. 185.  97. 103. 195.   1.  40. 193. 148.  95.  88.  52.  23.  58.\n",
      "   4. 203.  76.  11.  26. 152. 203. 165.  32.  26.   1.  58.  65.  69.\n",
      "  64. 139.  19.  64.  75.  25.   1.  28.  13. 152. 143. 114.  29.   4.\n",
      "  84. 167. 159.  10.  71. 196.   6. 131.  20.  94. 190. 125. 100.   8.\n",
      " 169. 111.  16. 108.  85.  58.  20.  55.  65.  11.   6.  97.   2.  32.\n",
      "  39.  28. 205.  41.   3.  76.  18.  56. 166.  87.  39. 177. 197.  31.\n",
      "   2. 117.  26. 190. 109. 106.  27.  13.  11. 176.  63.  82. 103. 188.\n",
      " 204. 171.  57.  62.  36.   1.   1.  31.  40. 103.  37. 145.   1.  17.\n",
      "  65. 128.  43. 153.  65. 110. 112.  71.  18.  24.   1.  15. 131.  65.\n",
      " 202.  43.  91.  52.  87. 197.  85. 175. 157.   2.]\n"
     ]
    }
   ],
   "source": [
    "print (pos) ##Prints the ranking of the expected vector for each input vector of the test set"
   ]
  },
  {
   "cell_type": "code",
   "execution_count": null,
   "metadata": {},
   "outputs": [],
   "source": []
  }
 ],
 "metadata": {
  "kernelspec": {
   "display_name": "Python 3",
   "language": "python",
   "name": "python3"
  },
  "language_info": {
   "codemirror_mode": {
    "name": "ipython",
    "version": 3
   },
   "file_extension": ".py",
   "mimetype": "text/x-python",
   "name": "python",
   "nbconvert_exporter": "python",
   "pygments_lexer": "ipython3",
   "version": "3.7.2"
  }
 },
 "nbformat": 4,
 "nbformat_minor": 2
}
