{
 "cells": [
  {
   "cell_type": "code",
   "execution_count": 215,
   "metadata": {},
   "outputs": [],
   "source": [
    "##This script was used for obtaining the results broken down into categories\n",
    "\n",
    "##This takes the \"score file\" and the \"order of categories file\" and says the percentage within each category.\n",
    "##It also says how many clusters we have in each category\n",
    "##Careful changing the \"NAME OF RANDOM ORDER OF CATEGORIES1.TXT\" to RANDOM ORDER OF CATEGORIES2.TXT"
   ]
  },
  {
   "cell_type": "code",
   "execution_count": 216,
   "metadata": {},
   "outputs": [
    {
     "name": "stdout",
     "output_type": "stream",
     "text": [
      "C:\\Users\\Yoo\\Desktop\\summerProject\\hmmer-3.2.1\\trial\\usefulFiles\\breakingDownCategories\\resultsBrokenDownByCategory\n"
     ]
    }
   ],
   "source": [
    "cd C:\\Users\\Yoo\\Desktop\\summerProject\\hmmer-3.2.1\\trial\\usefulFiles\\breakingDownCategories\\resultsBrokenDownByCategory"
   ]
  },
  {
   "cell_type": "code",
   "execution_count": 227,
   "metadata": {},
   "outputs": [],
   "source": [
    "nameOfTheScoreFile = \"score10.npy\"\n",
    "positionCategoryDictionary = {}#Will store a list of the positions for each category\n",
    "numberOfClustersPerCategory = {}\n",
    "i=0\n",
    "## Max I and Min I are chosen according to the test clusters position.\n",
    "## This is just because several score.npy files were created from 1 to 10 as there were two experiments with 5 subsets each. We want to know which clusters were chosen in each subset depending on the scores file name.\n",
    "## Additionally, the first experiment used \"NAME OF RANDOM ORDER OF CATEGORIES1.TXT\" for score1 till score5 and the second one used NAME OF RANDOM ORDER OF CATEGORIES2.TXT from score6 till score10.npy\n",
    "## It is important to know which clusters are in each subset given that the file \"orderOfCategories\" had assigned the category for each cluster depending on the order.\n",
    "if (int(nameOfTheScoreFile[-5])%5)==1:  \n",
    "    maxI=206\n",
    "    minimumI=0\n",
    "elif (int(nameOfTheScoreFile[-5])%5)==2:  \n",
    "    maxI=412\n",
    "    minimumI=206\n",
    "elif (int(nameOfTheScoreFile[-5])%5)==3:  \n",
    "    maxI=618\n",
    "    minimumI=412\n",
    "elif (int(nameOfTheScoreFile[-5])%5)==4:  \n",
    "    maxI=824\n",
    "    minimumI=618\n",
    "elif (int(nameOfTheScoreFile[-5])%5)==0:  \n",
    "    maxI=1031\n",
    "    minimumI=824"
   ]
  },
  {
   "cell_type": "code",
   "execution_count": 228,
   "metadata": {},
   "outputs": [],
   "source": [
    "orderOfCategoriesFile = open (\"randomOrderOfCategories2.txt\")\n",
    "for line in orderOfCategoriesFile:\n",
    "    if i>=maxI or i<minimumI:\n",
    "        i+=1\n",
    "        continue\n",
    "    category = line.strip(\"\\n\")\n",
    "    if category not in numberOfClustersPerCategory:\n",
    "        numberOfClustersPerCategory[category]=1\n",
    "        positionCategoryDictionary[category]=[i-minimumI]##Creates a list ##We put -minimum I as in the score matrix the positions start from 0 always\n",
    "    else:\n",
    "        numberOfClustersPerCategory[category] +=1\n",
    "        positionCategoryDictionary[category].append(i-minimumI)\n",
    "        ## We put -minimum I as in the score matrix, the positions start from 0 always \n",
    "        ## (It's size it's the same than the size of the test size, while in random order\n",
    "        ## of categories we have the 1031 clusters. Don't forget that we use the same file\n",
    "        ## for 5 crossvalidation experiments, so that file has all the clusters and we take\n",
    "        ## the ones from the test set according to the name of the score file)\n",
    "    i +=1\n",
    "orderOfCategoriesFile.close()"
   ]
  },
  {
   "cell_type": "code",
   "execution_count": 229,
   "metadata": {},
   "outputs": [],
   "source": [
    "import numpy as np\n",
    "score = np.load(nameOfTheScoreFile)\n",
    "dimension = len (score)\n",
    "pos = np.zeros(dimension)\n",
    "for i in range (0, dimension):\n",
    "    pos[i] = 1\n",
    "    selfScore = score[i][i]\n",
    "    for j in range (0, dimension):##Checking the score with the 206 clusters of the test set\n",
    "        if score[i][j]>selfScore:##With greater than, we ignore same scores of clusters that produce the same molecule (included when we check [i][i])\n",
    "            pos[i]+=1##Every time we find a greater score, the ranking of the self score is reduced"
   ]
  },
  {
   "cell_type": "code",
   "execution_count": 230,
   "metadata": {},
   "outputs": [
    {
     "name": "stdout",
     "output_type": "stream",
     "text": [
      "{'Nucleoside': 1, 'NRP': 68, 'Polyketide': 56, 'Alkaloid': 7, 'Other': 32, 'Saccharide': 15, 'RiPP': 11, 'Terpene': 17}\n"
     ]
    }
   ],
   "source": [
    "print (numberOfClustersPerCategory)"
   ]
  },
  {
   "cell_type": "code",
   "execution_count": 231,
   "metadata": {
    "scrolled": false
   },
   "outputs": [
    {
     "name": "stdout",
     "output_type": "stream",
     "text": [
      "RESULTS FOR THE CATEGORY: ALKALOID\n",
      "Clusters in the test set = 7\n",
      "TOP 1:  28.57% ( 2 out of 7 )\n",
      "TOP 3:  42.86% ( 3 out of 7 )\n",
      "TOP 5:  42.86% ( 3 out of 7 )\n",
      "TOP 10: 42.86% ( 3 out of 7 )\n",
      "TOP 25: 42.86% ( 3 out of 7 )\n",
      "**************************\n",
      "RESULTS FOR THE CATEGORY: NRP\n",
      "Clusters in the test set = 68\n",
      "TOP 1:  36.76% ( 25 out of 68 )\n",
      "TOP 3:  41.18% ( 28 out of 68 )\n",
      "TOP 5:  42.65% ( 29 out of 68 )\n",
      "TOP 10: 50.00% ( 34 out of 68 )\n",
      "TOP 25: 64.71% ( 44 out of 68 )\n",
      "**************************\n",
      "RESULTS FOR THE CATEGORY: NUCLEOSIDE\n",
      "Clusters in the test set = 1\n",
      "TOP 1:  0.00% ( 0 out of 1 )\n",
      "TOP 3:  0.00% ( 0 out of 1 )\n",
      "TOP 5:  0.00% ( 0 out of 1 )\n",
      "TOP 10: 0.00% ( 0 out of 1 )\n",
      "TOP 25: 0.00% ( 0 out of 1 )\n",
      "**************************\n",
      "RESULTS FOR THE CATEGORY: OTHER\n",
      "Clusters in the test set = 32\n",
      "TOP 1:  37.50% ( 12 out of 32 )\n",
      "TOP 3:  40.62% ( 13 out of 32 )\n",
      "TOP 5:  43.75% ( 14 out of 32 )\n",
      "TOP 10: 50.00% ( 16 out of 32 )\n",
      "TOP 25: 65.62% ( 21 out of 32 )\n",
      "**************************\n",
      "RESULTS FOR THE CATEGORY: POLYKETIDE\n",
      "Clusters in the test set = 56\n",
      "TOP 1:  33.93% ( 19 out of 56 )\n",
      "TOP 3:  41.07% ( 23 out of 56 )\n",
      "TOP 5:  48.21% ( 27 out of 56 )\n",
      "TOP 10: 58.93% ( 33 out of 56 )\n",
      "TOP 25: 75.00% ( 42 out of 56 )\n",
      "**************************\n",
      "RESULTS FOR THE CATEGORY: RIPP\n",
      "Clusters in the test set = 11\n",
      "TOP 1:  18.18% ( 2 out of 11 )\n",
      "TOP 3:  18.18% ( 2 out of 11 )\n",
      "TOP 5:  36.36% ( 4 out of 11 )\n",
      "TOP 10: 54.55% ( 6 out of 11 )\n",
      "TOP 25: 72.73% ( 8 out of 11 )\n",
      "**************************\n",
      "RESULTS FOR THE CATEGORY: SACCHARIDE\n",
      "Clusters in the test set = 15\n",
      "TOP 1:  60.00% ( 9 out of 15 )\n",
      "TOP 3:  60.00% ( 9 out of 15 )\n",
      "TOP 5:  66.67% ( 10 out of 15 )\n",
      "TOP 10: 66.67% ( 10 out of 15 )\n",
      "TOP 25: 80.00% ( 12 out of 15 )\n",
      "**************************\n",
      "RESULTS FOR THE CATEGORY: TERPENE\n",
      "Clusters in the test set = 17\n",
      "TOP 1:  47.06% ( 8 out of 17 )\n",
      "TOP 3:  52.94% ( 9 out of 17 )\n",
      "TOP 5:  64.71% ( 11 out of 17 )\n",
      "TOP 10: 70.59% ( 12 out of 17 )\n",
      "TOP 25: 82.35% ( 14 out of 17 )\n",
      "**************************\n"
     ]
    }
   ],
   "source": [
    "for category in sorted(positionCategoryDictionary.keys()):\n",
    "    listOfPos = positionCategoryDictionary[category]\n",
    "    print (\"RESULTS FOR THE CATEGORY: \"+ category.upper())\n",
    "    print (\"Clusters in the test set = \"+ str(len(listOfPos)))\n",
    "    listOfPos= positionCategoryDictionary[category]\n",
    "    print (\"TOP 1:  %.2f%% ( %d out of %d )\" % (sum(pos[i]==1 for i in listOfPos)/len(listOfPos)*100, sum(pos[i]==1 for i in listOfPos), len(listOfPos)))\n",
    "    print (\"TOP 3:  %.2f%% ( %d out of %d )\" % (sum(pos[i]<=3 for i in listOfPos)/len(listOfPos)*100, sum(pos[i]<=3 for i in listOfPos), len(listOfPos)))\n",
    "    print (\"TOP 5:  %.2f%% ( %d out of %d )\" % (sum(pos[i]<=5 for i in listOfPos)/len(listOfPos)*100, sum(pos[i]<=5 for i in listOfPos), len(listOfPos)))\n",
    "    print (\"TOP 10: %.2f%% ( %d out of %d )\" % (sum(pos[i]<=10 for i in listOfPos)/len(listOfPos)*100, sum(pos[i]<=10 for i in listOfPos), len(listOfPos)))\n",
    "    print (\"TOP 25: %.2f%% ( %d out of %d )\" % (sum(pos[i]<=25 for i in listOfPos)/len(listOfPos)*100, sum(pos[i]<=25 for i in listOfPos), len(listOfPos)))\n",
    "    print (\"**************************\")"
   ]
  },
  {
   "cell_type": "code",
   "execution_count": 171,
   "metadata": {},
   "outputs": [
    {
     "name": "stdout",
     "output_type": "stream",
     "text": [
      "84\n",
      "101\n",
      "111\n",
      "125\n",
      "152\n"
     ]
    }
   ],
   "source": [
    "##Prints the number of times\n",
    "print (sum(pos==1))\n",
    "print (sum(pos<=3))\n",
    "print (sum(pos<=5))\n",
    "print (sum(pos<=10))\n",
    "print (sum(pos<=25))"
   ]
  },
  {
   "cell_type": "code",
   "execution_count": 172,
   "metadata": {},
   "outputs": [
    {
     "name": "stdout",
     "output_type": "stream",
     "text": [
      "The percentage of times in position 1 is 40.78%\n",
      "The percentage of times in TOP 3 is 49.03%\n",
      "The percentage of times in TOP 5 is 53.88%\n",
      "The percentage of times in TOP 10 is 60.68%\n",
      "The percentage of times in TOP 25 is 73.79%\n"
     ]
    }
   ],
   "source": [
    "##Prints the percentages\n",
    "print (\"The percentage of times in position 1 is %.2f%%\" % (sum(pos==1)/dimension*100))\n",
    "print (\"The percentage of times in TOP 3 is %.2f%%\" % ((sum(pos==1)+sum(pos==2)+sum(pos==3))/dimension*100))\n",
    "print (\"The percentage of times in TOP 5 is %.2f%%\" % (sum(pos<=5)/dimension*100))\n",
    "print (\"The percentage of times in TOP 10 is %.2f%%\" % (sum(pos<=10)/dimension*100))\n",
    "print (\"The percentage of times in TOP 25 is %.2f%%\" % (sum(pos<=25)/dimension*100))"
   ]
  },
  {
   "cell_type": "code",
   "execution_count": 173,
   "metadata": {},
   "outputs": [
    {
     "name": "stdout",
     "output_type": "stream",
     "text": [
      "[[0.63179326 0.13364721 0.1255894  ... 0.18206134 0.08733822 0.04914435]\n",
      " [0.18036018 0.226484   0.24135417 ... 0.22551402 0.20099427 0.09830681]\n",
      " [0.15268682 0.27767353 0.96525295 ... 0.24991682 0.30118017 0.14013778]\n",
      " ...\n",
      " [0.11249782 0.16514626 0.12692043 ... 0.3476478  0.12741186 0.08238677]\n",
      " [0.10849376 0.13694131 0.27087628 ... 0.21069483 0.92211396 0.13848082]\n",
      " [0.18214418 0.26971613 0.22410504 ... 0.19673955 0.15316593 0.69820017]]\n"
     ]
    }
   ],
   "source": [
    "print (score)"
   ]
  },
  {
   "cell_type": "code",
   "execution_count": 73,
   "metadata": {},
   "outputs": [
    {
     "name": "stdout",
     "output_type": "stream",
     "text": [
      "[  1.  29.   1.   1.   1. 104.  23.   9.  43.   1.   1. 130.   1.  22.\n",
      " 121.   1.   1.  60.   1.   1.   8.   1.  20.  29.  12.  41.   2.  12.\n",
      "   1.   1.   1.  17. 105.   1.  36.  16.  75.   2.   1.   5. 206.   5.\n",
      "   4.  86. 101.   1.   3.   1. 101.   1.   2.   1.   1.   4. 122.   1.\n",
      "  17.  41.   1.  63.   1.   7.  18.   1.   1.  29.  20.  70.  27.  51.\n",
      "   1.  34.   1.   1.   1.   1.  53.   1.  82.   1.  86.   1.   5.   1.\n",
      "  18.   1.   1.  13.   1.   1.  26.  13.   1.   2.   1.  87.   1.  57.\n",
      "   1.   1.   1.  10.   1.   4.   1.   1.   1. 110.   5.  22.  72.   2.\n",
      "  32.  22.   1.   1.   1.  12.   1. 148.   5.   3.   1.   4.   7.  11.\n",
      "   1.   1.   1.  69.  23.   1.   3.   2.   1.   1.   1. 119. 137.   1.\n",
      "   1. 153.   4.   6.   1.  60.  22.   1.  66.   1.   1.  22.  24.  19.\n",
      "   1.   8.   1.   1.  63.   1.   1.   1.   1.   1.  24.  13.   1.  61.\n",
      "  15.  20.  41.  34.   6.  35.   1.   1.  36.   1.   1.   1.   6.   1.\n",
      "  15.  52.  80.  18.   1.   6.   1. 133.  66.   1.  30. 205.  37.  55.\n",
      " 148.  11.  13.   5.  13.   1.   1.   3.  17.  72.]\n"
     ]
    }
   ],
   "source": [
    "print (pos)"
   ]
  },
  {
   "cell_type": "code",
   "execution_count": null,
   "metadata": {},
   "outputs": [],
   "source": []
  }
 ],
 "metadata": {
  "kernelspec": {
   "display_name": "Python 3",
   "language": "python",
   "name": "python3"
  },
  "language_info": {
   "codemirror_mode": {
    "name": "ipython",
    "version": 3
   },
   "file_extension": ".py",
   "mimetype": "text/x-python",
   "name": "python",
   "nbconvert_exporter": "python",
   "pygments_lexer": "ipython3",
   "version": "3.7.2"
  }
 },
 "nbformat": 4,
 "nbformat_minor": 2
}
