{
 "cells": [
  {
   "cell_type": "code",
   "execution_count": 29,
   "metadata": {},
   "outputs": [],
   "source": [
    "##This script removes all those duplicated clusters which have more than one DNA sequence in the gen bank file\n",
    "\n",
    "##Keeps only one sequence per cluster\n",
    "##Previously, there were clusters with several DNA sequences. We just keep one (those with have .1 in the name)"
   ]
  },
  {
   "cell_type": "code",
   "execution_count": 30,
   "metadata": {},
   "outputs": [
    {
     "name": "stdout",
     "output_type": "stream",
     "text": [
      "C:\\Users\\Yoo\\Desktop\\summerProject\\hmmer-3.2.1\\trial\n"
     ]
    }
   ],
   "source": [
    "cd C:\\Users\\Yoo\\Desktop\\summerProject\\hmmer-3.2.1\\trial"
   ]
  },
  {
   "cell_type": "code",
   "execution_count": 31,
   "metadata": {},
   "outputs": [],
   "source": [
    "inputFile = open (\"DNASequencesFasta.txt\")\n",
    "outputFile= open (\"onlyOneSequencePerCluster.fasta\",\"w\")"
   ]
  },
  {
   "cell_type": "code",
   "execution_count": 32,
   "metadata": {},
   "outputs": [],
   "source": [
    "for line in inputFile:\n",
    "    line=line.strip(\"\\n\")\n",
    "    if line[0:1]==\">\":\n",
    "        if line[11:14]!=\".1 \":\n",
    "            flag = False\n",
    "        else:\n",
    "            flag = True\n",
    "    if flag:\n",
    "        outputFile.write(line+\"\\n\")"
   ]
  },
  {
   "cell_type": "code",
   "execution_count": 33,
   "metadata": {},
   "outputs": [],
   "source": [
    "inputFile.close()\n",
    "outputFile.close()"
   ]
  },
  {
   "cell_type": "code",
   "execution_count": null,
   "metadata": {},
   "outputs": [],
   "source": []
  }
 ],
 "metadata": {
  "kernelspec": {
   "display_name": "Python 3",
   "language": "python",
   "name": "python3"
  },
  "language_info": {
   "codemirror_mode": {
    "name": "ipython",
    "version": 3
   },
   "file_extension": ".py",
   "mimetype": "text/x-python",
   "name": "python",
   "nbconvert_exporter": "python",
   "pygments_lexer": "ipython3",
   "version": "3.7.2"
  }
 },
 "nbformat": 4,
 "nbformat_minor": 2
}
