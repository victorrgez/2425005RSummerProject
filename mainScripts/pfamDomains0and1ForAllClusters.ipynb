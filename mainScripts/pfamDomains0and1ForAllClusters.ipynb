{
 "cells": [
  {
   "cell_type": "code",
   "execution_count": 7,
   "metadata": {},
   "outputs": [],
   "source": [
    "##Creates a sorted list of all the domains that can be found in any cluster\n",
    "##Then, for each row, it says if each cluster has a certain domain (1) or not (0)\n",
    "##Cluster 478 was removed because it didnt have any domain!!!\n",
    "#There are 6159 different domains"
   ]
  },
  {
   "cell_type": "code",
   "execution_count": 8,
   "metadata": {},
   "outputs": [
    {
     "name": "stdout",
     "output_type": "stream",
     "text": [
      "C:\\Users\\Yoo\\Desktop\\summerProject\\hmmer-3.2.1\\trial\n"
     ]
    }
   ],
   "source": [
    "cd C:\\Users\\Yoo\\Desktop\\summerProject\\hmmer-3.2.1\\trial"
   ]
  },
  {
   "cell_type": "code",
   "execution_count": 9,
   "metadata": {},
   "outputs": [],
   "source": [
    "inputFile = open (\"filteredClustersPfamCountsHowManyTimes.txt\")\n",
    "pfamDomainList=[]"
   ]
  },
  {
   "cell_type": "code",
   "execution_count": 10,
   "metadata": {},
   "outputs": [],
   "source": [
    "##First stores all the different domains\n",
    "for line in inputFile:\n",
    "    line=line[11:]\n",
    "    line=line.strip(\"\\n\")\n",
    "    line.replace(\" \",\"\")\n",
    "    line=line.split(\";\")\n",
    "    for i in range (1, len(line)):\n",
    "        pfamDomain=line[i].split(\":\")\n",
    "        if pfamDomain[0] not in pfamDomainList:\n",
    "            pfamDomainList.append(pfamDomain[0])\n",
    "    pfamDomainList.sort()"
   ]
  },
  {
   "cell_type": "code",
   "execution_count": 11,
   "metadata": {},
   "outputs": [],
   "source": [
    "inputFile.close()"
   ]
  },
  {
   "cell_type": "code",
   "execution_count": 12,
   "metadata": {},
   "outputs": [],
   "source": [
    "##Now it says for each cluster which domains are found\n",
    "inputFile = open (\"filteredClustersPfamCountsHowManyTimes.txt\")\n",
    "outputFile=open(\"pfamDomains0and1ForAllClusters.txt\",\"w\")\n",
    "for line in inputFile:\n",
    "    clusterDictionary={}\n",
    "    nameOfTheCluster=line[0:11]\n",
    "    line=line.strip(\"\\n\")\n",
    "    line.replace(\" \",\"\")\n",
    "    line=line.split(\";\")\n",
    "    for i in range (1, len(line)):\n",
    "        pfamDomain=line[i].split(\":\")\n",
    "        if pfamDomain[0] not in clusterDictionary:\n",
    "            clusterDictionary[pfamDomain[0]]=pfamDomain[1]\n",
    "    outputFile.write(nameOfTheCluster)\n",
    "    for key in pfamDomainList:\n",
    "        if key not in clusterDictionary:\n",
    "            outputFile.write(\"0\")\n",
    "        else:\n",
    "            outputFile.write(\"1\")\n",
    "    outputFile.write(\"\\n\")"
   ]
  },
  {
   "cell_type": "code",
   "execution_count": 13,
   "metadata": {},
   "outputs": [],
   "source": [
    "inputFile.close()\n",
    "outputFile.close()"
   ]
  },
  {
   "cell_type": "code",
   "execution_count": null,
   "metadata": {},
   "outputs": [],
   "source": []
  }
 ],
 "metadata": {
  "kernelspec": {
   "display_name": "Python 3",
   "language": "python",
   "name": "python3"
  },
  "language_info": {
   "codemirror_mode": {
    "name": "ipython",
    "version": 3
   },
   "file_extension": ".py",
   "mimetype": "text/x-python",
   "name": "python",
   "nbconvert_exporter": "python",
   "pygments_lexer": "ipython3",
   "version": "3.7.2"
  }
 },
 "nbformat": 4,
 "nbformat_minor": 2
}
