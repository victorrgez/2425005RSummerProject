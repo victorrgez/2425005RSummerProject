{
 "cells": [
  {
   "cell_type": "code",
   "execution_count": 6,
   "metadata": {},
   "outputs": [],
   "source": [
    "##This script was used when analysing broken down results depending on categories with IOKR and Pfam counts\n",
    "##The \"order with categories\" file stated which category each cluster belonged to (but witht the original order)\n",
    "##The \"random order\" file stated the order used for the the IOKR algorithm\n",
    "###The \"random order of categories\" file said the order of categories used in the IOKR algorithm after having randomised the order"
   ]
  },
  {
   "cell_type": "code",
   "execution_count": 7,
   "metadata": {},
   "outputs": [],
   "source": [
    "randomOrderFile = open (\"randomOrder.txt\")\n",
    "orderWithCategoriesFile = open (\"orderWithCategories.csv\")\n",
    "randomOrderOfCategoriesFile = open (\"randomOrderOfCategories.txt\",\"w\")\n",
    "orderWithCategoriesDictionary={}\n",
    "for line in orderWithCategoriesFile:\n",
    "    line = line.strip(\"\\n\")\n",
    "    line = line.split(\",\")\n",
    "    orderWithCategoriesDictionary[line[0]]=line[1]\n",
    "for line in randomOrderFile:\n",
    "    line = line.strip(\"\\n\")\n",
    "    randomOrderOfCategoriesFile.write(orderWithCategoriesDictionary[line]+\"\\n\")\n",
    "randomOrderFile.close()\n",
    "orderWithCategoriesFile.close()\n",
    "randomOrderOfCategoriesFile.close()"
   ]
  },
  {
   "cell_type": "code",
   "execution_count": null,
   "metadata": {},
   "outputs": [],
   "source": []
  }
 ],
 "metadata": {
  "kernelspec": {
   "display_name": "Python 3",
   "language": "python",
   "name": "python3"
  },
  "language_info": {
   "codemirror_mode": {
    "name": "ipython",
    "version": 3
   },
   "file_extension": ".py",
   "mimetype": "text/x-python",
   "name": "python",
   "nbconvert_exporter": "python",
   "pygments_lexer": "ipython3",
   "version": "3.7.2"
  }
 },
 "nbformat": 4,
 "nbformat_minor": 2
}
