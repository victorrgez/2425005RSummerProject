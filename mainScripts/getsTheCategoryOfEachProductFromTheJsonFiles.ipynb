{
 "cells": [
  {
   "cell_type": "code",
   "execution_count": 1,
   "metadata": {},
   "outputs": [],
   "source": [
    "##This script reads all the json files and gets the category of the product for each cluster\n",
    "#The output it's a two-column file separated by \",\". The first column is the name of the cluster\n",
    "#and the second one is the category of the product\n",
    "import os"
   ]
  },
  {
   "cell_type": "code",
   "execution_count": 2,
   "metadata": {},
   "outputs": [
    {
     "name": "stdout",
     "output_type": "stream",
     "text": [
      "C:\\Users\\Yoo\\Desktop\\summerProject\\hmmer-3.2.1\\trial\\usefulFiles\\breakingDownCategories\n"
     ]
    }
   ],
   "source": [
    "cd C:\\Users\\Yoo\\Desktop\\summerProject\\hmmer-3.2.1\\trial\\usefulFiles\\breakingDownCategories"
   ]
  },
  {
   "cell_type": "code",
   "execution_count": 3,
   "metadata": {},
   "outputs": [],
   "source": [
    "outputFile = open (\"categories.csv\",\"w\")\n",
    "os.chdir(\"..\\..\\..\\..\\Mibig\\mibig_1.4_json\")"
   ]
  },
  {
   "cell_type": "code",
   "execution_count": 4,
   "metadata": {},
   "outputs": [],
   "source": [
    "flag=False\n",
    "changingClusterFlag=True ##So we dont get duplicates as some files state the category twice\n",
    "for filename in os.listdir(os.getcwd()):\n",
    "    inputFile= open (filename)\n",
    "    category=\"\"\n",
    "    nameOfTheCluster=\"\"\n",
    "    for line in inputFile:\n",
    "        line=line.strip()\n",
    "        if flag:\n",
    "            line=line.strip(\",\")##Some lines have a comma and some don't\n",
    "            category = line[1:-1]\n",
    "            if changingClusterFlag==True:\n",
    "                outputFile.write(nameOfTheCluster + \",\"+category+\"\\n\")\n",
    "                changingClusterFlag=False\n",
    "            flag = False\n",
    "        else:\n",
    "            if line[0:14]=='\"biosyn_class\"':\n",
    "                flag=True\n",
    "            elif line[0:18] == '\"mibig_accession\":':\n",
    "                nameOfTheCluster = line[20:-2]\n",
    "                changingClusterFlag=True\n",
    "    inputFile.close()\n",
    "outputFile.close()    "
   ]
  },
  {
   "cell_type": "code",
   "execution_count": null,
   "metadata": {},
   "outputs": [],
   "source": []
  }
 ],
 "metadata": {
  "kernelspec": {
   "display_name": "Python 3",
   "language": "python",
   "name": "python3"
  },
  "language_info": {
   "codemirror_mode": {
    "name": "ipython",
    "version": 3
   },
   "file_extension": ".py",
   "mimetype": "text/x-python",
   "name": "python",
   "nbconvert_exporter": "python",
   "pygments_lexer": "ipython3",
   "version": "3.7.2"
  }
 },
 "nbformat": 4,
 "nbformat_minor": 2
}
