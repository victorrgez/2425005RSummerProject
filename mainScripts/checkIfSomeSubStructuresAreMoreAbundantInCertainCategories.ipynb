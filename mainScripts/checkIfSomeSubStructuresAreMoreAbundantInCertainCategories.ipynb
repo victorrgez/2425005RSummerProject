{
 "cells": [
  {
   "cell_type": "code",
   "execution_count": 47,
   "metadata": {},
   "outputs": [],
   "source": [
    "import numpy as np"
   ]
  },
  {
   "cell_type": "code",
   "execution_count": 48,
   "metadata": {},
   "outputs": [],
   "source": [
    "##Creates one dictionary for each file\n",
    "categoriesFile = open (\"categoriesProcessed.csv\")\n",
    "categoriesDictionary={}\n",
    "for line in categoriesFile:\n",
    "    line=line.strip(\"\\n\")\n",
    "    line=line.split(\",\")\n",
    "    categoriesDictionary[line[0]]=line[1]\n",
    "categoriesFile.close()\n",
    "fingerprintsFile = open (\"fingerPrintsForIndividualClustersNOT478.txt\")\n",
    "fingerprintsDictionary={}\n",
    "for line in fingerprintsFile:\n",
    "    line = line.strip(\"\\n\")\n",
    "    line = line.split(\":\")\n",
    "    fingerprintsDictionary[line[0]]=line[1]\n",
    "fingerprintsFile.close()"
   ]
  },
  {
   "cell_type": "code",
   "execution_count": 49,
   "metadata": {},
   "outputs": [],
   "source": [
    "##Joins the two dictionaries\n",
    "##This is not the ideal way of doing it, but dictionaries don't accept numpy arrays as a key. The two lists are in the same order.\n",
    "listOfFingerprints=[]\n",
    "listOfCategories=[]\n",
    "for clusterName in fingerprintsDictionary.keys():\n",
    "    listOfFingerprints.append(list(fingerprintsDictionary[clusterName]))\n",
    "    listOfCategories.append(categoriesDictionary[clusterName])"
   ]
  },
  {
   "cell_type": "code",
   "execution_count": 50,
   "metadata": {},
   "outputs": [],
   "source": [
    "##When we work with a list of number instead of strings we can do things like sum(y==0)\n",
    "##Let's calculate the indexes of each category and the total number of products in each category\n",
    "alkaloidIndexes=[]\n",
    "nrpIndexes=[]\n",
    "nucleosideIndexes=[]\n",
    "otherIndexes=[]\n",
    "polyketideIndexes=[]\n",
    "rippIndexes=[]\n",
    "saccharideIndexes=[]\n",
    "terpeneIndexes=[]\n",
    "for i in range(0, 1031):\n",
    "    if listOfCategories[i] == 'Alkaloid':\n",
    "        alkaloidIndexes.append(i)\n",
    "    elif listOfCategories[i] == 'NRP':\n",
    "        nrpIndexes.append(i)\n",
    "    elif listOfCategories[i] == 'Nucleoside':\n",
    "        nucleosideIndexes.append(i)\n",
    "    elif listOfCategories[i] == 'Other':\n",
    "        otherIndexes.append(i)\n",
    "    elif listOfCategories[i] == 'Polyketide':\n",
    "        polyketideIndexes.append(i)\n",
    "    elif listOfCategories[i] == 'RiPP':\n",
    "        rippIndexes.append(i)\n",
    "    elif listOfCategories[i] == 'Saccharide':\n",
    "        saccharideIndexes.append(i)\n",
    "    elif listOfCategories[i] == 'Terpene':\n",
    "        terpeneIndexes.append(i)\n",
    "numberOfAlkaloid=len(alkaloidIndexes)\n",
    "numberOfNrp=len(nrpIndexes)\n",
    "numberOfNucleoside=len(nucleosideIndexes)\n",
    "numberOfOther=len(otherIndexes)\n",
    "numberOfPolyketide=len(polyketideIndexes)\n",
    "numberOfRipp=len(rippIndexes)\n",
    "numberOfSaccharide=len(saccharideIndexes)\n",
    "numberOfTerpene=len(terpeneIndexes)"
   ]
  },
  {
   "cell_type": "code",
   "execution_count": 59,
   "metadata": {},
   "outputs": [
    {
     "name": "stdout",
     "output_type": "stream",
     "text": [
      "46.36916835699796  3 \n",
      "44.62184873949579  12 \n",
      "42.24924012158054  13 \n",
      "52.218844984802445  40 \n",
      "60.97264437689969  55 \n",
      "58.14589665653497  62 \n",
      "42.745098039215684  279 \n",
      "55.2887537993921  280 \n",
      "64.40729483282675  281 \n",
      "58.82352941176471  282 \n",
      "64.40729483282675  284 \n",
      "64.40729483282675  285 \n"
     ]
    }
   ],
   "source": [
    "##NUCLEOSIDE WILL NOT BE TAKEN INTO ACCOUNT AS THERE IS ONLY ONE COMPOUND AND THE PERC WILL BE 0 OR 100 ALL THE TIME\n",
    "##First, let's identify which substructures are important\n",
    "importantSubstructuresList=[]\n",
    "importantSubstructuresIndexList=[]\n",
    "for i in range (0, 306):\n",
    "    alkaloidPerc=(sum(listOfFingerprints[j][i]=='1' for j in alkaloidIndexes))/numberOfAlkaloid*100\n",
    "    nrpPerc=(sum(listOfFingerprints[j][i]=='1' for j in nrpIndexes))/numberOfNrp*100\n",
    "    otherPerc=(sum(listOfFingerprints[j][i]=='1' for j in otherIndexes))/numberOfOther*100\n",
    "    polyketidePerc=(sum(listOfFingerprints[j][i]=='1' for j in polyketideIndexes))/numberOfPolyketide*100\n",
    "    rippPerc=(sum(listOfFingerprints[j][i]=='1' for j in rippIndexes))/numberOfRipp*100\n",
    "    saccharidePerc=(sum(listOfFingerprints[j][i]=='1' for j in saccharideIndexes))/numberOfSaccharide*100\n",
    "    terpenePerc=(sum(listOfFingerprints[j][i]=='1' for j in terpeneIndexes))/numberOfTerpene*100\n",
    "    percList = []\n",
    "    percList.append (alkaloidPerc)\n",
    "    percList.append (nrpPerc)\n",
    "    percList.append (otherPerc)\n",
    "    percList.append (polyketidePerc)\n",
    "    percList.append (rippPerc)\n",
    "    percList.append (saccharidePerc)\n",
    "    percList.append (terpenePerc)\n",
    "    maximum = max(percList)\n",
    "    maximumPos = percList.index(max(percList))\n",
    "    percList.sort()\n",
    "    secondMax=percList[-2]\n",
    "    difference = maximum-secondMax\n",
    "    if difference > 40:\n",
    "        print (str(difference) + \"  \"+str(i) + \" \" ) ##Prints the porcentage difference and the 0-base index of the substructure\n",
    "        importantSubstructuresList.append(i)##This list say which substructures are important. The index list says which category is the top 1 for each substructure\n",
    "        importantSubstructuresIndexList.append(maximumPos)##Appends a different number depending on the category that scored the max percentage in this position"
   ]
  },
  {
   "cell_type": "code",
   "execution_count": 60,
   "metadata": {},
   "outputs": [
    {
     "name": "stdout",
     "output_type": "stream",
     "text": [
      "The substructure number 3 is clearly differentiated for Terpenes\n",
      "The substructure number 12 is clearly differentiated for Saccharides\n",
      "The substructure number 13 is clearly differentiated for Saccharides\n",
      "The substructure number 40 is clearly differentiated for Saccharides\n",
      "The substructure number 55 is clearly differentiated for Saccharides\n",
      "The substructure number 62 is clearly differentiated for Saccharides\n",
      "The substructure number 279 is clearly differentiated for RiPPs\n",
      "The substructure number 280 is clearly differentiated for Saccharides\n",
      "The substructure number 281 is clearly differentiated for Saccharides\n",
      "The substructure number 282 is clearly differentiated for Saccharides\n",
      "The substructure number 284 is clearly differentiated for Saccharides\n",
      "The substructure number 285 is clearly differentiated for Saccharides\n"
     ]
    }
   ],
   "source": [
    "##Now, let's identify for which category each substructure is important\n",
    "for i in range (0, len(importantSubstructuresList)):\n",
    "    category=''\n",
    "    if importantSubstructuresIndexList[i] == 0:\n",
    "        category='Alkaloids'\n",
    "    elif importantSubstructuresIndexList[i] == 1:\n",
    "        category='NRPs'\n",
    "    elif importantSubstructuresIndexList[i] == 2:\n",
    "        category='Others'\n",
    "    elif importantSubstructuresIndexList[i] == 3:\n",
    "        category='Polyketides'\n",
    "    elif importantSubstructuresIndexList[i] == 4:\n",
    "        category='RiPPs'\n",
    "    elif importantSubstructuresIndexList[i] == 5:\n",
    "        category='Saccharides'\n",
    "    elif importantSubstructuresIndexList[i] == 6:\n",
    "        category='Terpenes'\n",
    "    print (\"The substructure number %d is clearly differentiated for %s\" % (importantSubstructuresList[i], category))"
   ]
  },
  {
   "cell_type": "code",
   "execution_count": null,
   "metadata": {},
   "outputs": [],
   "source": []
  }
 ],
 "metadata": {
  "kernelspec": {
   "display_name": "Python 3",
   "language": "python",
   "name": "python3"
  },
  "language_info": {
   "codemirror_mode": {
    "name": "ipython",
    "version": 3
   },
   "file_extension": ".py",
   "mimetype": "text/x-python",
   "name": "python",
   "nbconvert_exporter": "python",
   "pygments_lexer": "ipython3",
   "version": "3.7.2"
  }
 },
 "nbformat": 4,
 "nbformat_minor": 2
}
