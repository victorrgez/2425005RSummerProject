{
 "cells": [
  {
   "cell_type": "code",
   "execution_count": null,
   "metadata": {},
   "outputs": [],
   "source": [
    "##THIS SCRIPT CREATES THE 306-bits long CDK FINGERPRINTS"
   ]
  },
  {
   "cell_type": "code",
   "execution_count": 17,
   "metadata": {},
   "outputs": [],
   "source": [
    "#Loads two files: one with the smart STRINGs and one with the molecules and creates one list for each\n",
    "#Then, for each molecule says if they have the substructure and creates a matrix of fingerprints\n",
    "#Smart molecule number 298 was deleted as it was not recognised by RDKit correctly\n",
    "from rdkit import Chem\n",
    "import numpy as np"
   ]
  },
  {
   "cell_type": "code",
   "execution_count": 18,
   "metadata": {},
   "outputs": [
    {
     "name": "stdout",
     "output_type": "stream",
     "text": [
      "C:\\Users\\Yoo\\Desktop\\summerProject\\hmmer-3.2.1\\trial\\usefulFiles\\fingerprints\n"
     ]
    }
   ],
   "source": [
    "cd C:\\Users\\Yoo\\Desktop\\summerProject\\hmmer-3.2.1\\trial\\usefulFiles\\fingerprints"
   ]
  },
  {
   "cell_type": "code",
   "execution_count": 19,
   "metadata": {},
   "outputs": [],
   "source": [
    "##Opens the files and creates Lists of strings that will be converted into molecules with RDKit in the next cell\n",
    "smartFile = open (\"smartMolecules.tsv\")\n",
    "smileFile= open (\"smileMolecules.tsv\")\n",
    "smartStringList=[]\n",
    "smileStringList=[]\n",
    "smileMoleculeList=[]\n",
    "smartMoleculeList=[]\n",
    "for line in smartFile:\n",
    "    line=line.strip(\"\\n\")\n",
    "    line=line.split(\"\\t\")\n",
    "    smartStringList.append(line[2])\n",
    "for line in smileFile:\n",
    "    line=line.strip(\"\\n\")\n",
    "    line=line.split(\"\\t\")\n",
    "    smileStringList.append(line[1])\n",
    "smartFile.close()\n",
    "smileFile.close()"
   ]
  },
  {
   "cell_type": "code",
   "execution_count": 23,
   "metadata": {},
   "outputs": [],
   "source": [
    "##The strings are converted into molecules and stored in different Lists (one for smiles and one for smarts)\n",
    "for smileString in smileStringList:\n",
    "    m=Chem.MolFromSmiles(smileString)\n",
    "    smileMoleculeList.append(m)\n",
    "for smartString in smartStringList:\n",
    "    m=Chem.MolFromSmarts(smartString)\n",
    "    smartMoleculeList.append(m)"
   ]
  },
  {
   "cell_type": "code",
   "execution_count": null,
   "metadata": {},
   "outputs": [],
   "source": [
    "##The matrix is created\n",
    "matrix=np.zeros([len(smileMoleculeList),len(smartMoleculeList)])\n",
    "for i in range (0, len(smileMoleculeList)):\n",
    "    for j in range (0, len(smartMoleculeList)):\n",
    "        matrix[i,j]+= smileMoleculeList[i].HasSubstructMatch(smartMoleculeList[j])\n",
    "matrix.view()"
   ]
  },
  {
   "cell_type": "code",
   "execution_count": null,
   "metadata": {},
   "outputs": [],
   "source": [
    "##The matrix is stored into a file\n",
    "np.savetxt('CDKfingerprints.csv',matrix,fmt='%d')"
   ]
  },
  {
   "cell_type": "code",
   "execution_count": null,
   "metadata": {},
   "outputs": [],
   "source": []
  }
 ],
 "metadata": {
  "kernelspec": {
   "display_name": "Python 3",
   "language": "python",
   "name": "python3"
  },
  "language_info": {
   "codemirror_mode": {
    "name": "ipython",
    "version": 3
   },
   "file_extension": ".py",
   "mimetype": "text/x-python",
   "name": "python",
   "nbconvert_exporter": "python",
   "pygments_lexer": "ipython3",
   "version": "3.7.2"
  }
 },
 "nbformat": 4,
 "nbformat_minor": 2
}
