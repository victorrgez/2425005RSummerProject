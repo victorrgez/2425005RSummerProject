{
 "cells": [
  {
   "cell_type": "code",
   "execution_count": 1,
   "metadata": {},
   "outputs": [],
   "source": [
    "##This is the optimised version of the values of the IOKR algorithm with Pfam counts.\n",
    "##It creates \".npy\" files that can be analysed with the \"analysingScores.ipynb\" script\n",
    "##This version takes 5 minutes for 5 subset instead of 1h and 40 min like the version stored in the \"otherScripts\" Folder"
   ]
  },
  {
   "cell_type": "code",
   "execution_count": 2,
   "metadata": {},
   "outputs": [
    {
     "name": "stdout",
     "output_type": "stream",
     "text": [
      "C:\\Users\\Yoo\\Desktop\\summerProject\\hmmer-3.2.1\\trial\\usefulFiles\\machineLearningKernelPfamFingerPrints\\reducingIOKRTime\n"
     ]
    }
   ],
   "source": [
    "cd C:\\Users\\Yoo\\Desktop\\summerProject\\hmmer-3.2.1\\trial\\usefulFiles\\machineLearningKernelPfamFingerPrints\\reducingIOKRTime"
   ]
  },
  {
   "cell_type": "code",
   "execution_count": 3,
   "metadata": {},
   "outputs": [],
   "source": [
    "import numpy as np"
   ]
  },
  {
   "cell_type": "code",
   "execution_count": 4,
   "metadata": {},
   "outputs": [],
   "source": [
    "def convertStringIntoVector (String):##Receives a binary vector in the form of a String and returns a numpy array\n",
    "    intoList=list(String)\n",
    "    vector=np.asarray(intoList,dtype=int)\n",
    "    return vector"
   ]
  },
  {
   "cell_type": "code",
   "execution_count": 5,
   "metadata": {},
   "outputs": [],
   "source": [
    "def gaussianKernelForPfam (vector1, vector2):##Does the gaussian Kernel for two vectors (pfam counts)\n",
    "    gamma=0.003\n",
    "    euclideanDistance=np.linalg.norm(vector1-vector2)\n",
    "    kernelValue=np.exp(-gamma*(euclideanDistance**2))\n",
    "    return kernelValue"
   ]
  },
  {
   "cell_type": "code",
   "execution_count": 6,
   "metadata": {},
   "outputs": [],
   "source": [
    "def gaussianKernelForFingerprint (vector1, vector2):## This kernel has a different gamma used for fingerprints\n",
    "    gamma=0.1\n",
    "    euclideanDistance=np.linalg.norm(vector1-vector2)\n",
    "    kernelValue=np.exp(-gamma*(euclideanDistance**2))\n",
    "    return kernelValue"
   ]
  },
  {
   "cell_type": "code",
   "execution_count": 7,
   "metadata": {},
   "outputs": [],
   "source": [
    "##Opens the two files and creates one list of Strings for pfam and another one for fingerprints\n",
    "pfamFile= open (\"pfamDomains0and1ForAllClusters.txt\")\n",
    "pfamList=[]##List of Strings\n",
    "for line in pfamFile:\n",
    "    line=line.strip(\"\\n\")\n",
    "    pfamList.append(line[11:])\n",
    "pfamFile.close()\n",
    "fingerprintFile=open (\"fingerprintsOnlyWithImportantSubstructures.txt\")\n",
    "fingerprintList=[]##List of strings\n",
    "for line in fingerprintFile:\n",
    "    line=line.strip(\"\\n\")\n",
    "    fingerprintList.append(line[11:])\n",
    "fingerprintFile.close()"
   ]
  },
  {
   "cell_type": "code",
   "execution_count": 8,
   "metadata": {},
   "outputs": [],
   "source": [
    "##Converts the Lists of strings into list of Vectors\n",
    "pfamVectorList=[]#List of vectors\n",
    "for pfamString in pfamList:\n",
    "    pfamVectorList.append(convertStringIntoVector(pfamString))\n",
    "fingerprintVectorList=[]##List of vectors\n",
    "for fingerprintString in fingerprintList:\n",
    "    fingerprintVectorList.append(convertStringIntoVector(fingerprintString))"
   ]
  },
  {
   "cell_type": "code",
   "execution_count": 9,
   "metadata": {},
   "outputs": [],
   "source": [
    "##Sets parameters for the training part of the formula (lambda*Identity*XMatrix) and inverses it\n",
    "dimensionXMatrix= len (pfamVectorList)\n",
    "lambdaa=0.01 #lambda seems to be a special character in python so lets put a double aa\n",
    "generalXMatrix = np.zeros((dimensionXMatrix,dimensionXMatrix))\n",
    "for i in range (0, dimensionXMatrix):\n",
    "    for j in range (0, dimensionXMatrix):\n",
    "        generalXMatrix [i,j]=gaussianKernelForPfam(pfamVectorList[i],pfamVectorList[j])#Kx with upper case\n",
    "dimensionYMatrix= len (fingerprintVectorList)\n",
    "generalYMatrix = np.zeros((dimensionYMatrix,dimensionYMatrix))\n",
    "for i in range (0, dimensionYMatrix):\n",
    "    for j in range (0, dimensionYMatrix):\n",
    "        generalYMatrix [i,j]=gaussianKernelForFingerprint(fingerprintVectorList[i],fingerprintVectorList[j])#Ky with upper case"
   ]
  },
  {
   "cell_type": "code",
   "execution_count": 10,
   "metadata": {},
   "outputs": [],
   "source": [
    "import random\n",
    "#Creates a list of Random Numbers as big as the number of Clusters we have\n",
    "#Then we will select which ones we have for each subset\n",
    "listOfRandomNumbers=random.sample(range(dimensionXMatrix), dimensionXMatrix)\n",
    "sampleOf206Numbers=listOfRandomNumbers[0:206]\n",
    "sampleOf825Numbers= listOfRandomNumbers[206:]"
   ]
  },
  {
   "cell_type": "code",
   "execution_count": 11,
   "metadata": {},
   "outputs": [],
   "source": [
    "####This is just the same script repeated several times for the 5 subsets.\n",
    "####The last time, the length of the training and the test set changes, but the rest is the same\n",
    "\n",
    "##Creates the training part of the formula once you know the specific clusters in the training set\n",
    "\n",
    "dimensionTrainingSet = 825 #We divide 1031 by 5 for crossvalidation. We have 825 in the training and 206 in the test\n",
    "dimensionTestSet = 206\n",
    "identityMatrix=np.identity(dimensionTrainingSet)##Part of the formula\n",
    "specificXMatrix = np.zeros((dimensionTrainingSet,dimensionTrainingSet))\n",
    "for i in range (0, dimensionTrainingSet):\n",
    "    for j in range (0, dimensionTrainingSet):\n",
    "        iIndex=sampleOf825Numbers[i]\n",
    "        jIndex=sampleOf825Numbers[j]\n",
    "        specificXMatrix[i,j]=generalXMatrix[iIndex,jIndex]\n",
    "inverseMatrix = np.linalg.inv( ( lambdaa * identityMatrix ) + specificXMatrix )##Part of the formula"
   ]
  },
  {
   "cell_type": "code",
   "execution_count": 12,
   "metadata": {},
   "outputs": [],
   "source": [
    "def calculatingIOKRScore (xIndex, yIndex):\n",
    "    ky=np.zeros((dimensionTrainingSet,1))##kx lower case\n",
    "    kx=np.zeros((dimensionTrainingSet,1))##ky lower case\n",
    "    for i in range (0,dimensionTrainingSet):\n",
    "        iIndex=sampleOf825Numbers[i]\n",
    "        kx[i]=generalXMatrix[iIndex,xIndex]\n",
    "        ky[i]=generalYMatrix[iIndex,yIndex]\n",
    "    kyt=np.transpose(ky)##Transposing ky\n",
    "    result= np.matmul(np.matmul(kyt,inverseMatrix), kx)##Returns a number when doing the multiplication of the matrixes\n",
    "    return result"
   ]
  },
  {
   "cell_type": "code",
   "execution_count": 13,
   "metadata": {},
   "outputs": [],
   "source": [
    "score1 = np.zeros((206, 206))\n",
    "for i in range (0, 206):\n",
    "    for j in range (0, 206):\n",
    "        xIndex=sampleOf206Numbers[i]\n",
    "        yIndex=sampleOf206Numbers[j]\n",
    "        score1[i,j]= calculatingIOKRScore(xIndex,yIndex)\n",
    "np.save(\"score1\",score1)"
   ]
  },
  {
   "cell_type": "code",
   "execution_count": 14,
   "metadata": {},
   "outputs": [],
   "source": [
    "sampleOf206Numbers=listOfRandomNumbers[206:412]\n",
    "sampleOf825Numbers= listOfRandomNumbers[0:206]+listOfRandomNumbers[412:]\n",
    "##Creates the training part of the formula once you know the specific clusters in the training set\n",
    "dimensionTrainingSet = 825 #We divide 1031 by 5 for crossvalidation. We have 825 in the training and 206 in the test\n",
    "dimensionTestSet = 206\n",
    "identityMatrix=np.identity(dimensionTrainingSet)##Part of the formula\n",
    "specificXMatrix = np.zeros((dimensionTrainingSet,dimensionTrainingSet))\n",
    "for i in range (0, dimensionTrainingSet):\n",
    "    for j in range (0, dimensionTrainingSet):\n",
    "        iIndex=sampleOf825Numbers[i]\n",
    "        jIndex=sampleOf825Numbers[j]\n",
    "        specificXMatrix[i,j]=generalXMatrix[iIndex,jIndex]\n",
    "inverseMatrix = np.linalg.inv( ( lambdaa * identityMatrix ) + specificXMatrix )##Part of the formula"
   ]
  },
  {
   "cell_type": "code",
   "execution_count": 15,
   "metadata": {},
   "outputs": [],
   "source": [
    "score2 = np.zeros((206, 206))\n",
    "for i in range (0, 206):\n",
    "    for j in range (0, 206):\n",
    "        xIndex=sampleOf206Numbers[i]\n",
    "        yIndex=sampleOf206Numbers[j]\n",
    "        score2[i,j]= calculatingIOKRScore(xIndex,yIndex)\n",
    "np.save(\"score2\",score2)"
   ]
  },
  {
   "cell_type": "code",
   "execution_count": 16,
   "metadata": {},
   "outputs": [],
   "source": [
    "sampleOf206Numbers=listOfRandomNumbers[412:618]\n",
    "sampleOf825Numbers= listOfRandomNumbers[0:412]+listOfRandomNumbers[618:]\n",
    "##Creates the training part of the formula once you know the specific clusters in the training set\n",
    "dimensionTrainingSet = 825 #We divide 1031 by 5 for crossvalidation. We have 825 in the training and 206 in the test\n",
    "dimensionTestSet = 206\n",
    "identityMatrix=np.identity(dimensionTrainingSet)##Part of the formula\n",
    "specificXMatrix = np.zeros((dimensionTrainingSet,dimensionTrainingSet))\n",
    "for i in range (0, dimensionTrainingSet):\n",
    "    for j in range (0, dimensionTrainingSet):\n",
    "        iIndex=sampleOf825Numbers[i]\n",
    "        jIndex=sampleOf825Numbers[j]\n",
    "        specificXMatrix[i,j]=generalXMatrix[iIndex,jIndex]\n",
    "inverseMatrix = np.linalg.inv( ( lambdaa * identityMatrix ) + specificXMatrix )##Part of the formula"
   ]
  },
  {
   "cell_type": "code",
   "execution_count": 17,
   "metadata": {},
   "outputs": [],
   "source": [
    "score3 = np.zeros((206, 206))\n",
    "for i in range (0, 206):\n",
    "    for j in range (0, 206):\n",
    "        xIndex=sampleOf206Numbers[i]\n",
    "        yIndex=sampleOf206Numbers[j]\n",
    "        score3[i,j]= calculatingIOKRScore(xIndex,yIndex)\n",
    "np.save(\"score3\",score3)"
   ]
  },
  {
   "cell_type": "code",
   "execution_count": 18,
   "metadata": {},
   "outputs": [],
   "source": [
    "sampleOf206Numbers=listOfRandomNumbers[618:824]\n",
    "sampleOf825Numbers= listOfRandomNumbers[0:618]+listOfRandomNumbers[824:]\n",
    "##Creates the training part of the formula once you know the specific clusters in the training set\n",
    "dimensionTrainingSet = 825 #We divide 1031 by 5 for crossvalidation. We have 825 in the training and 206 in the test\n",
    "dimensionTestSet = 206\n",
    "identityMatrix=np.identity(dimensionTrainingSet)##Part of the formula\n",
    "specificXMatrix = np.zeros((dimensionTrainingSet,dimensionTrainingSet))\n",
    "for i in range (0, dimensionTrainingSet):\n",
    "    for j in range (0, dimensionTrainingSet):\n",
    "        iIndex=sampleOf825Numbers[i]\n",
    "        jIndex=sampleOf825Numbers[j]\n",
    "        specificXMatrix[i,j]=generalXMatrix[iIndex,jIndex]\n",
    "inverseMatrix = np.linalg.inv( ( lambdaa * identityMatrix ) + specificXMatrix )##Part of the formula"
   ]
  },
  {
   "cell_type": "code",
   "execution_count": 19,
   "metadata": {},
   "outputs": [],
   "source": [
    "score4 = np.zeros((206, 206))\n",
    "for i in range (0, 206):\n",
    "    for j in range (0, 206):\n",
    "        xIndex=sampleOf206Numbers[i]\n",
    "        yIndex=sampleOf206Numbers[j]\n",
    "        score4[i,j]= calculatingIOKRScore(xIndex,yIndex)\n",
    "np.save(\"score4\",score4)"
   ]
  },
  {
   "cell_type": "code",
   "execution_count": 20,
   "metadata": {},
   "outputs": [],
   "source": [
    "sampleOf206Numbers=listOfRandomNumbers[825:]\n",
    "sampleOf825Numbers= listOfRandomNumbers[:825]\n",
    "##Creates the training part of the formula once you know the specific clusters in the training set\n",
    "dimensionTrainingSet = 824 #We divide 1031 by 5 for crossvalidation. We have 825 in the training and 206 in the test\n",
    "dimensionTestSet = 207\n",
    "identityMatrix=np.identity(dimensionTrainingSet)##Part of the formula\n",
    "specificXMatrix = np.zeros((dimensionTrainingSet,dimensionTrainingSet))\n",
    "for i in range (0, dimensionTrainingSet):\n",
    "    for j in range (0, dimensionTrainingSet):\n",
    "        iIndex=sampleOf825Numbers[i]\n",
    "        jIndex=sampleOf825Numbers[j]\n",
    "        specificXMatrix[i,j]=generalXMatrix[iIndex,jIndex]\n",
    "inverseMatrix = np.linalg.inv( ( lambdaa * identityMatrix ) + specificXMatrix )##Part of the formula"
   ]
  },
  {
   "cell_type": "code",
   "execution_count": 21,
   "metadata": {},
   "outputs": [],
   "source": [
    "score5 = np.zeros((206, 206))\n",
    "for i in range (0, 206):\n",
    "    for j in range (0, 206):\n",
    "        xIndex=sampleOf206Numbers[i]\n",
    "        yIndex=sampleOf206Numbers[j]\n",
    "        score5[i,j]= calculatingIOKRScore(xIndex,yIndex)\n",
    "np.save(\"score5\",score5)"
   ]
  },
  {
   "cell_type": "code",
   "execution_count": null,
   "metadata": {},
   "outputs": [],
   "source": []
  }
 ],
 "metadata": {
  "kernelspec": {
   "display_name": "Python 3",
   "language": "python",
   "name": "python3"
  },
  "language_info": {
   "codemirror_mode": {
    "name": "ipython",
    "version": 3
   },
   "file_extension": ".py",
   "mimetype": "text/x-python",
   "name": "python",
   "nbconvert_exporter": "python",
   "pygments_lexer": "ipython3",
   "version": "3.7.2"
  }
 },
 "nbformat": 4,
 "nbformat_minor": 2
}
