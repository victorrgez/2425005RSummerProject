{
 "cells": [
  {
   "cell_type": "code",
   "execution_count": 129,
   "metadata": {},
   "outputs": [],
   "source": [
    "##Select a Kmer length and it will create one dictionary for each cluster with the kmer counts\n",
    "##The last line is \"\\n\", careful!!"
   ]
  },
  {
   "cell_type": "code",
   "execution_count": 130,
   "metadata": {},
   "outputs": [
    {
     "name": "stdout",
     "output_type": "stream",
     "text": [
      "C:\\Users\\Yoo\\Desktop\\summerProject\\hmmer-3.2.1\\trial\n"
     ]
    }
   ],
   "source": [
    "cd C:\\Users\\Yoo\\Desktop\\summerProject\\hmmer-3.2.1\\trial"
   ]
  },
  {
   "cell_type": "code",
   "execution_count": 131,
   "metadata": {},
   "outputs": [],
   "source": [
    "inputFile = open (\"getsOnlyOneSequencePerCluster.fasta\")"
   ]
  },
  {
   "cell_type": "code",
   "execution_count": 132,
   "metadata": {},
   "outputs": [
    {
     "name": "stdout",
     "output_type": "stream",
     "text": [
      "C:\\Users\\Yoo\\Desktop\\summerProject\\hmmer-3.2.1\\trial\\usefulfiles\\dictionariesForKmerCounts\n"
     ]
    }
   ],
   "source": [
    "cd usefulfiles\\dictionariesForKmerCounts"
   ]
  },
  {
   "cell_type": "code",
   "execution_count": 133,
   "metadata": {},
   "outputs": [],
   "source": [
    "outputFile=open(\"trialDictionary.txt\",\"w\")\n",
    "sequence=\"\"\n",
    "kmerLength=10\n",
    "wrongBasesList=[\"N\",\"S\",\"W\",\"Y\",\"R\",\"K\",\"D\",\"M\",\"V\",\"H\",\"B\"]##These bases sometimes appear in the DNA sequences,\n",
    "                                                            ##We don't want to include them\n",
    "flag=False #So the function is not called in the first iteration"
   ]
  },
  {
   "cell_type": "code",
   "execution_count": 134,
   "metadata": {},
   "outputs": [],
   "source": [
    "def obtainingKmers (sequence, nameOfTheCluster):##Creates a kmer dictionary and passes it to a subroutine that will print it into the outputfile\n",
    "    kmerDictionary={}\n",
    "    for i in range (0,len(sequence),kmerLength):\n",
    "        kmer = sequence[i:i+kmerLength]\n",
    "        if len(kmer)!=kmerLength or any (wrongBase in kmer for wrongBase in wrongBasesList):\n",
    "            continue ##Deletes final kmers which are shorter and ignores kmers with wrong letters\n",
    "        elif kmer not in kmerDictionary:\n",
    "            kmerDictionary[kmer]=1\n",
    "        else:\n",
    "            kmerDictionary[kmer]+=1\n",
    "    printingDictionary (kmerDictionary, nameOfTheCluster)"
   ]
  },
  {
   "cell_type": "code",
   "execution_count": 135,
   "metadata": {},
   "outputs": [],
   "source": [
    "def printingDictionary (kmerDictionary, nameOfTheCluster): ##Prints the dictionary into the outputfile\n",
    "    outputFile.write(nameOfTheCluster+\"\\n\")\n",
    "    for key in kmerDictionary.keys():\n",
    "        outputFile.write(key + \":\" + str(kmerDictionary[key])+\";\")\n",
    "    outputFile.write(\"\\n\")"
   ]
  },
  {
   "cell_type": "code",
   "execution_count": 136,
   "metadata": {},
   "outputs": [],
   "source": [
    "##The first time the flag is false, so we don't call the obtaining kmers function\n",
    "##The rest of the times, when we find a new cluster, the method is called for the previous cluster\n",
    "##The last line calls the function for the last cluster\n",
    "for line in inputFile:\n",
    "    line=line.strip(\"\\n\")\n",
    "    if line[0:1]==\">\":\n",
    "        if flag:#Calls the function for the previous cluster\n",
    "            obtainingKmers(sequence, nameOfTheCluster)\n",
    "        else:\n",
    "            flag = True\n",
    "        sequence=\"\"\n",
    "        nameOfTheCluster=line[1:11]\n",
    "    else:\n",
    "        sequence+=line\n",
    "obtainingKmers(sequence,nameOfTheCluster)"
   ]
  },
  {
   "cell_type": "code",
   "execution_count": 137,
   "metadata": {},
   "outputs": [],
   "source": [
    "inputFile.close()\n",
    "outputFile.close()"
   ]
  }
 ],
 "metadata": {
  "kernelspec": {
   "display_name": "Python 3",
   "language": "python",
   "name": "python3"
  },
  "language_info": {
   "codemirror_mode": {
    "name": "ipython",
    "version": 3
   },
   "file_extension": ".py",
   "mimetype": "text/x-python",
   "name": "python",
   "nbconvert_exporter": "python",
   "pygments_lexer": "ipython3",
   "version": "3.7.2"
  }
 },
 "nbformat": 4,
 "nbformat_minor": 2
}
