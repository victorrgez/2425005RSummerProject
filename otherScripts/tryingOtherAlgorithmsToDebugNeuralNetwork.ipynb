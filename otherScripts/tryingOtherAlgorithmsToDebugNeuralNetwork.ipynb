{
 "cells": [
  {
   "cell_type": "code",
   "execution_count": 1,
   "metadata": {},
   "outputs": [],
   "source": [
    "### Trying other algorithms with a simplified version of the output. We are using line[24]\n",
    "### of the fingerprints file to see if other algorithms perform similarly to our neural\n",
    "### network."
   ]
  },
  {
   "cell_type": "code",
   "execution_count": 2,
   "metadata": {},
   "outputs": [],
   "source": [
    "### First: Support Vector Machine"
   ]
  },
  {
   "cell_type": "code",
   "execution_count": 3,
   "metadata": {},
   "outputs": [
    {
     "name": "stdout",
     "output_type": "stream",
     "text": [
      "C:\\Users\\Yoo\\Desktop\\summerProject\\hmmer-3.2.1\\trial\\usefulFiles\\machineLearningKernelPfamFingerPrints\\neuralNetworkTryingDifferentParameters\n"
     ]
    }
   ],
   "source": [
    "cd C:\\Users\\Yoo\\Desktop\\summerProject\\hmmer-3.2.1\\trial\\usefulFiles\\machineLearningKernelPfamFingerPrints\\neuralNetworkTryingDifferentParameters"
   ]
  },
  {
   "cell_type": "code",
   "execution_count": 4,
   "metadata": {},
   "outputs": [],
   "source": [
    "import numpy as np"
   ]
  },
  {
   "cell_type": "code",
   "execution_count": 5,
   "metadata": {},
   "outputs": [],
   "source": [
    "def convertStringIntoVector (String):##Receives a binary vector in the form of a String\n",
    "    intoList=list(String)\n",
    "    vector=np.asarray(intoList,dtype=int)\n",
    "    return vector"
   ]
  },
  {
   "cell_type": "code",
   "execution_count": 6,
   "metadata": {},
   "outputs": [],
   "source": [
    "def splittingTrainingDataIntoXAndY (filesData):##Receives a list in which element has as [0] the X and as [1] the Y\n",
    "    xData=[]\n",
    "    yData=[]\n",
    "    for element in filesData:\n",
    "        xData.append(element[0])\n",
    "        yData.append(element[1])\n",
    "    return xData, yData"
   ]
  },
  {
   "cell_type": "code",
   "execution_count": 7,
   "metadata": {},
   "outputs": [],
   "source": [
    "filesData=[]\n",
    "numberOfClusters=0\n",
    "XFile=open(\"pfamDomains0and1ForAllClusters.txt\")\n",
    "YFile=open(\"simplifiedFingerprint.txt\")\n",
    "for pfam, fingerprint in zip(XFile,YFile): ##Reads the two files at the same time and adds each thing to the same list\n",
    "    pfam=pfam.strip(\"\\n\")\n",
    "    fingerprint=fingerprint.strip(\"\\n\")\n",
    "    filesData.append([convertStringIntoVector(pfam[11:]),convertStringIntoVector(fingerprint[11:])])\n",
    "    numberOfClusters+=1\n",
    "XFile.close()\n",
    "YFile.close()"
   ]
  },
  {
   "cell_type": "code",
   "execution_count": 8,
   "metadata": {},
   "outputs": [],
   "source": [
    "xData,yData = splittingTrainingDataIntoXAndY(filesData)##Now the list is splitted into X and Y data\n",
    "xData=np.concatenate(xData,axis=0)\n",
    "xData=xData.reshape(numberOfClusters,6159)\n",
    "yData=np.concatenate(yData,axis=0)\n",
    "yData=yData.reshape(numberOfClusters,1)\n",
    "#The reshape puts the data as one row for each training example"
   ]
  },
  {
   "cell_type": "code",
   "execution_count": 9,
   "metadata": {},
   "outputs": [],
   "source": [
    "import random\n",
    "#Creates a list of Random Numbers as big as the number of Clusters we have\n",
    "#Then we will select which ones we have for each subset\n",
    "listOfRandomNumbers=random.sample(range(numberOfClusters), numberOfClusters)\n",
    "xTestData = np.asarray([xData[i] for i in listOfRandomNumbers[0:206]],dtype=int)\n",
    "xTrainingData = np.asarray([xData[i] for i in listOfRandomNumbers[206:]],dtype=int)\n",
    "yTestData = np.asarray([yData[i] for i in listOfRandomNumbers[0:206]],dtype=int)\n",
    "yTrainingData = np.asarray([yData[i]for i in listOfRandomNumbers[206:]],dtype=int)"
   ]
  },
  {
   "cell_type": "code",
   "execution_count": 10,
   "metadata": {},
   "outputs": [
    {
     "name": "stderr",
     "output_type": "stream",
     "text": [
      "C:\\Users\\Yoo\\Downloads\\WPy64-3720\\python-3.7.2.amd64\\lib\\site-packages\\sklearn\\utils\\validation.py:761: DataConversionWarning: A column-vector y was passed when a 1d array was expected. Please change the shape of y to (n_samples, ), for example using ravel().\n",
      "  y = column_or_1d(y, warn=True)\n"
     ]
    },
    {
     "data": {
      "text/plain": [
       "SVC(C=1.0, cache_size=200, class_weight=None, coef0=0.0,\n",
       "  decision_function_shape='ovr', degree=3, gamma=0.03, kernel='rbf',\n",
       "  max_iter=-1, probability=False, random_state=None, shrinking=True,\n",
       "  tol=0.001, verbose=False)"
      ]
     },
     "execution_count": 10,
     "metadata": {},
     "output_type": "execute_result"
    }
   ],
   "source": [
    "from sklearn import svm\n",
    "classifier = svm.SVC(gamma=0.03)\n",
    "classifier.fit(xTrainingData, yTrainingData)"
   ]
  },
  {
   "cell_type": "code",
   "execution_count": 11,
   "metadata": {},
   "outputs": [],
   "source": [
    "numberOfCorrect = 0\n",
    "numberOfIncorrect = 0\n",
    "for i in range (0,len(yTestData)):\n",
    "    if yTestData[i]==classifier.predict(xTestData[i:i+1]):\n",
    "        numberOfCorrect += 1\n",
    "    else:\n",
    "        numberOfIncorrect +=1"
   ]
  },
  {
   "cell_type": "code",
   "execution_count": 12,
   "metadata": {},
   "outputs": [
    {
     "name": "stdout",
     "output_type": "stream",
     "text": [
      "70.3883495145631\n"
     ]
    }
   ],
   "source": [
    "print (numberOfCorrect/len(yTestData)*100)"
   ]
  },
  {
   "cell_type": "code",
   "execution_count": 13,
   "metadata": {},
   "outputs": [],
   "source": [
    "### Second: Scikit learn Neural Network"
   ]
  },
  {
   "cell_type": "code",
   "execution_count": 14,
   "metadata": {},
   "outputs": [
    {
     "name": "stdout",
     "output_type": "stream",
     "text": [
      "C:\\Users\\Yoo\\Desktop\\summerProject\\hmmer-3.2.1\\trial\\usefulFiles\\machineLearningKernelPfamFingerPrints\\neuralNetworkTryingDifferentParameters\n"
     ]
    }
   ],
   "source": [
    "cd C:\\Users\\Yoo\\Desktop\\summerProject\\hmmer-3.2.1\\trial\\usefulFiles\\machineLearningKernelPfamFingerPrints\\neuralNetworkTryingDifferentParameters"
   ]
  },
  {
   "cell_type": "code",
   "execution_count": 15,
   "metadata": {},
   "outputs": [],
   "source": [
    "import numpy as np"
   ]
  },
  {
   "cell_type": "code",
   "execution_count": 16,
   "metadata": {},
   "outputs": [],
   "source": [
    "def convertStringIntoVector (String):##Receives a binary vector in the form of a String\n",
    "    intoList=list(String)\n",
    "    vector=np.asarray(intoList,dtype=int)\n",
    "    return vector"
   ]
  },
  {
   "cell_type": "code",
   "execution_count": 17,
   "metadata": {},
   "outputs": [],
   "source": [
    "def splittingTrainingDataIntoXAndY (filesData):##Receives a list in which element has as [0] the X and as [1] the Y\n",
    "    xData=[]\n",
    "    yData=[]\n",
    "    for element in filesData:\n",
    "        xData.append(element[0])\n",
    "        yData.append(element[1])\n",
    "    return xData, yData"
   ]
  },
  {
   "cell_type": "code",
   "execution_count": 18,
   "metadata": {},
   "outputs": [],
   "source": [
    "filesData=[]\n",
    "numberOfClusters=0\n",
    "XFile=open(\"pfamDomains0and1ForAllClusters.txt\")\n",
    "YFile=open(\"simplifiedFingerprint.txt\")\n",
    "for pfam, fingerprint in zip(XFile,YFile): ##Reads the two files at the same time and adds each thing to the same list\n",
    "    pfam=pfam.strip(\"\\n\")\n",
    "    fingerprint=fingerprint.strip(\"\\n\")\n",
    "    filesData.append([convertStringIntoVector(pfam[11:]),convertStringIntoVector(fingerprint[11:])])\n",
    "    numberOfClusters+=1\n",
    "XFile.close()\n",
    "YFile.close()"
   ]
  },
  {
   "cell_type": "code",
   "execution_count": 19,
   "metadata": {},
   "outputs": [],
   "source": [
    "xData,yData = splittingTrainingDataIntoXAndY(filesData)##Now the list is splitted into X and Y data\n",
    "xData=np.concatenate(xData,axis=0)\n",
    "xData=xData.reshape(numberOfClusters,6159)\n",
    "yData=np.concatenate(yData,axis=0)\n",
    "yData=yData.reshape(numberOfClusters,1)\n",
    "#The reshape puts the data as one row for each training example"
   ]
  },
  {
   "cell_type": "code",
   "execution_count": 20,
   "metadata": {},
   "outputs": [],
   "source": [
    "import random\n",
    "#Creates a list of Random Numbers as big as the number of Clusters we have\n",
    "#Then we will select which ones we have for each subset\n",
    "listOfRandomNumbers=random.sample(range(numberOfClusters), numberOfClusters)\n",
    "xTestData = np.asarray([xData[i] for i in listOfRandomNumbers[0:206]],dtype=int)\n",
    "xTrainingData = np.asarray([xData[i] for i in listOfRandomNumbers[206:]],dtype=int)\n",
    "yTestData = np.asarray([yData[i] for i in listOfRandomNumbers[0:206]],dtype=int)\n",
    "yTrainingData = np.asarray([yData[i]for i in listOfRandomNumbers[206:]],dtype=int)"
   ]
  },
  {
   "cell_type": "code",
   "execution_count": 21,
   "metadata": {},
   "outputs": [],
   "source": [
    "from sklearn.neural_network import MLPClassifier"
   ]
  },
  {
   "cell_type": "code",
   "execution_count": null,
   "metadata": {},
   "outputs": [
    {
     "name": "stderr",
     "output_type": "stream",
     "text": [
      "C:\\Users\\Yoo\\Downloads\\WPy64-3720\\python-3.7.2.amd64\\lib\\site-packages\\sklearn\\neural_network\\multilayer_perceptron.py:916: DataConversionWarning: A column-vector y was passed when a 1d array was expected. Please change the shape of y to (n_samples, ), for example using ravel().\n",
      "  y = column_or_1d(y, warn=True)\n"
     ]
    }
   ],
   "source": [
    "classifier = MLPClassifier(solver='lbfgs', alpha=0.01, hidden_layer_sizes=(50, 1), random_state=1)\n",
    "classifier.fit (xTrainingData, yTrainingData)"
   ]
  },
  {
   "cell_type": "code",
   "execution_count": null,
   "metadata": {},
   "outputs": [],
   "source": [
    "numberOfCorrect = 0\n",
    "numberOfIncorrect = 0\n",
    "for i in range (0,len(yTestData)):\n",
    "    if yTestData[i]==classifier.predict(xTestData[i:i+1]):\n",
    "        numberOfCorrect += 1\n",
    "    else:\n",
    "        numberOfIncorrect +=1"
   ]
  },
  {
   "cell_type": "code",
   "execution_count": 40,
   "metadata": {},
   "outputs": [
    {
     "name": "stdout",
     "output_type": "stream",
     "text": [
      "68.44660194174757\n"
     ]
    }
   ],
   "source": [
    "print (numberOfCorrect/len(yTestData)*100)"
   ]
  },
  {
   "cell_type": "code",
   "execution_count": 25,
   "metadata": {},
   "outputs": [],
   "source": [
    "### Third: Nearest Neighbors"
   ]
  },
  {
   "cell_type": "code",
   "execution_count": 26,
   "metadata": {},
   "outputs": [
    {
     "name": "stdout",
     "output_type": "stream",
     "text": [
      "C:\\Users\\Yoo\\Desktop\\summerProject\\hmmer-3.2.1\\trial\\usefulFiles\\machineLearningKernelPfamFingerPrints\\neuralNetworkTryingDifferentParameters\n"
     ]
    }
   ],
   "source": [
    "cd C:\\Users\\Yoo\\Desktop\\summerProject\\hmmer-3.2.1\\trial\\usefulFiles\\machineLearningKernelPfamFingerPrints\\neuralNetworkTryingDifferentParameters"
   ]
  },
  {
   "cell_type": "code",
   "execution_count": 27,
   "metadata": {},
   "outputs": [],
   "source": [
    "import numpy as np"
   ]
  },
  {
   "cell_type": "code",
   "execution_count": 28,
   "metadata": {},
   "outputs": [],
   "source": [
    "def convertStringIntoVector (String):##Receives a binary vector in the form of a String\n",
    "    intoList=list(String)\n",
    "    vector=np.asarray(intoList,dtype=int)\n",
    "    return vector"
   ]
  },
  {
   "cell_type": "code",
   "execution_count": 29,
   "metadata": {},
   "outputs": [],
   "source": [
    "def splittingTrainingDataIntoXAndY (filesData):##Receives a list in which element has as [0] the X and as [1] the Y\n",
    "    xData=[]\n",
    "    yData=[]\n",
    "    for element in filesData:\n",
    "        xData.append(element[0])\n",
    "        yData.append(element[1])\n",
    "    return xData, yData"
   ]
  },
  {
   "cell_type": "code",
   "execution_count": 30,
   "metadata": {},
   "outputs": [],
   "source": [
    "filesData=[]\n",
    "numberOfClusters=0\n",
    "XFile=open(\"pfamDomains0and1ForAllClusters.txt\")\n",
    "YFile=open(\"simplifiedFingerprint.txt\")\n",
    "for pfam, fingerprint in zip(XFile,YFile): ##Reads the two files at the same time and adds each thing to the same list\n",
    "    pfam=pfam.strip(\"\\n\")\n",
    "    fingerprint=fingerprint.strip(\"\\n\")\n",
    "    filesData.append([convertStringIntoVector(pfam[11:]),convertStringIntoVector(fingerprint[11:])])\n",
    "    numberOfClusters+=1\n",
    "XFile.close()\n",
    "YFile.close()"
   ]
  },
  {
   "cell_type": "code",
   "execution_count": 31,
   "metadata": {},
   "outputs": [],
   "source": [
    "xData,yData = splittingTrainingDataIntoXAndY(filesData)##Now the list is splitted into X and Y data\n",
    "xData=np.concatenate(xData,axis=0)\n",
    "xData=xData.reshape(numberOfClusters,6159)\n",
    "yData=np.concatenate(yData,axis=0)\n",
    "yData=yData.reshape(numberOfClusters,1)\n",
    "#The reshape puts the data as one row for each training example"
   ]
  },
  {
   "cell_type": "code",
   "execution_count": 32,
   "metadata": {},
   "outputs": [
    {
     "name": "stderr",
     "output_type": "stream",
     "text": [
      "C:\\Users\\Yoo\\Downloads\\WPy64-3720\\python-3.7.2.amd64\\lib\\site-packages\\ipykernel_launcher.py:3: DataConversionWarning: A column-vector y was passed when a 1d array was expected. Please change the shape of y to (n_samples, ), for example using ravel().\n",
      "  This is separate from the ipykernel package so we can avoid doing imports until\n"
     ]
    },
    {
     "data": {
      "text/plain": [
       "KNeighborsClassifier(algorithm='auto', leaf_size=30, metric='minkowski',\n",
       "           metric_params=None, n_jobs=None, n_neighbors=5, p=3,\n",
       "           weights='uniform')"
      ]
     },
     "execution_count": 32,
     "metadata": {},
     "output_type": "execute_result"
    }
   ],
   "source": [
    "from sklearn.neighbors import (KNeighborsClassifier)\n",
    "classifier = KNeighborsClassifier(n_neighbors=5,p=3)\n",
    "classifier.fit(xTrainingData,yTrainingData)"
   ]
  },
  {
   "cell_type": "code",
   "execution_count": 33,
   "metadata": {},
   "outputs": [],
   "source": [
    "numberOfCorrect = 0\n",
    "numberOfIncorrect = 0\n",
    "for i in range (0,len(yTestData)):\n",
    "    if yTestData[i]==classifier.predict(xTestData[i:i+1]):\n",
    "        numberOfCorrect += 1\n",
    "    else:\n",
    "        numberOfIncorrect +=1"
   ]
  },
  {
   "cell_type": "code",
   "execution_count": 34,
   "metadata": {},
   "outputs": [
    {
     "name": "stdout",
     "output_type": "stream",
     "text": [
      "66.99029126213593\n"
     ]
    }
   ],
   "source": [
    "print (numberOfCorrect/len(yTestData)*100)"
   ]
  },
  {
   "cell_type": "code",
   "execution_count": null,
   "metadata": {},
   "outputs": [],
   "source": []
  }
 ],
 "metadata": {
  "kernelspec": {
   "display_name": "Python 3",
   "language": "python",
   "name": "python3"
  },
  "language_info": {
   "codemirror_mode": {
    "name": "ipython",
    "version": 3
   },
   "file_extension": ".py",
   "mimetype": "text/x-python",
   "name": "python",
   "nbconvert_exporter": "python",
   "pygments_lexer": "ipython3",
   "version": "3.7.2"
  }
 },
 "nbformat": 4,
 "nbformat_minor": 2
}
