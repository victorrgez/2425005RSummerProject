{
 "cells": [
  {
   "cell_type": "code",
   "execution_count": 73,
   "metadata": {},
   "outputs": [],
   "source": [
    "## Joins the amino acids of all the sequences for the same cluster in everycds.fasta\n",
    "## and creates a dictionary count for k-mers of the length especified\n",
    "## Leaves the last line as \"\\n\", careful!!"
   ]
  },
  {
   "cell_type": "code",
   "execution_count": 74,
   "metadata": {},
   "outputs": [
    {
     "name": "stdout",
     "output_type": "stream",
     "text": [
      "C:\\Users\\Yoo\\Desktop\\summerProject\\hmmer-3.2.1\\trial\n"
     ]
    }
   ],
   "source": [
    "cd C:\\Users\\Yoo\\Desktop\\summerProject\\hmmer-3.2.1\\trial"
   ]
  },
  {
   "cell_type": "code",
   "execution_count": 75,
   "metadata": {},
   "outputs": [],
   "source": [
    "inputFile = open (\"everycds.fasta\")"
   ]
  },
  {
   "cell_type": "code",
   "execution_count": 76,
   "metadata": {},
   "outputs": [
    {
     "name": "stdout",
     "output_type": "stream",
     "text": [
      "C:\\Users\\Yoo\\Desktop\\summerProject\\hmmer-3.2.1\\trial\\usefulfiles\\aminoAcidDictionaries\n"
     ]
    }
   ],
   "source": [
    "cd usefulfiles\\aminoAcidDictionaries"
   ]
  },
  {
   "cell_type": "code",
   "execution_count": 77,
   "metadata": {},
   "outputs": [],
   "source": [
    "outputFile=open(\"length2.txt\",\"w\") ##Change this name for the length one wants to be used\n",
    "sequence=\"\"\n",
    "currentCluster=\"BGC0000001\"##This is the first cluster in the file. Alternatively we can use a flag just for the first line of the file\n",
    "kmerLength=2"
   ]
  },
  {
   "cell_type": "code",
   "execution_count": 78,
   "metadata": {},
   "outputs": [],
   "source": [
    "def obtainingKmers (sequence,nameOfTheCluster): ##Given a sequence, uses the kmer length to obtain all the kmers and create a dictionary\n",
    "    kmerDictionary={}\n",
    "    for i in range (0,len(sequence),kmerLength):\n",
    "        kmer = sequence[i:i+kmerLength]\n",
    "        if len(kmer)!=kmerLength:\n",
    "            continue\n",
    "        elif kmer not in kmerDictionary:\n",
    "            kmerDictionary[kmer]=1\n",
    "        else:\n",
    "            kmerDictionary[kmer]+=1\n",
    "    printingDictionary (kmerDictionary, nameOfTheCluster)##The name of the cluster is also passed to the subroutine"
   ]
  },
  {
   "cell_type": "code",
   "execution_count": 79,
   "metadata": {},
   "outputs": [],
   "source": [
    "def printingDictionary (kmerDictionary, nameOfTheCluster):##Prints the kmer dictionary into the outputFile (not sorted)\n",
    "    outputFile.write(nameOfTheCluster+\"\\n\")\n",
    "    for key in kmerDictionary.keys():\n",
    "        outputFile.write(key + \":\" + str(kmerDictionary[key])+\";\")\n",
    "    outputFile.write(\"\\n\")"
   ]
  },
  {
   "cell_type": "code",
   "execution_count": 80,
   "metadata": {},
   "outputs": [],
   "source": [
    "## The obtaining kmers method is not called till it detects another cluster. Finally, the last line outside the loop\n",
    "## calls the method for the last cluster\n",
    "## This is a way of making sure that we have joined all the cds before calling the \"obtaining kmers\" function\n",
    "for line in inputFile:\n",
    "    line=line.strip(\"\\n\")\n",
    "    if line[0:1]==\">\":##This line has the name of a cluster, let's check if we are still in the same one\n",
    "        if line[1:11]!=currentCluster:\n",
    "            obtainingKmers(sequence,currentCluster)#Calls the function for the previous cluster\n",
    "            sequence=\"\"\n",
    "            currentCluster=line[1:11]\n",
    "        else:#This means we are still in the same cluster\n",
    "            continue\n",
    "    else:\n",
    "        sequence+=line\n",
    "obtainingKmers(sequence,currentCluster)"
   ]
  },
  {
   "cell_type": "code",
   "execution_count": 81,
   "metadata": {},
   "outputs": [],
   "source": [
    "inputFile.close()\n",
    "outputFile.close()"
   ]
  },
  {
   "cell_type": "code",
   "execution_count": null,
   "metadata": {},
   "outputs": [],
   "source": []
  }
 ],
 "metadata": {
  "kernelspec": {
   "display_name": "Python 3",
   "language": "python",
   "name": "python3"
  },
  "language_info": {
   "codemirror_mode": {
    "name": "ipython",
    "version": 3
   },
   "file_extension": ".py",
   "mimetype": "text/x-python",
   "name": "python",
   "nbconvert_exporter": "python",
   "pygments_lexer": "ipython3",
   "version": "3.7.2"
  }
 },
 "nbformat": 4,
 "nbformat_minor": 2
}
