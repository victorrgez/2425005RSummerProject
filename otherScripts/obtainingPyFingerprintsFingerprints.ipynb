{
 "cells": [
  {
   "cell_type": "code",
   "execution_count": 30,
   "metadata": {},
   "outputs": [],
   "source": [
    "###The original output file will contain duplicates which will be eliminated with another script found in the Main Scripts folder (removingDuplicatedClustersForAllTypesOfFingerprints)\n",
    "##CREATES the PyFingerprints (klekota-roth, daylight, state and pubchem)\n",
    "###Remember to delete the BGC 478 and to remove the \"\\n\" at the end of the output file!!\n",
    "from PyFingerprint.All_Fingerprint import get_fingerprint\n",
    "#import numpy as np\n",
    "####THERE ARE A LOT OF DIFFERENT FINGERPRINTS WE CAN GET: https://github.com/hcji/PyFingerprint\n",
    "### WITH THIS MODULE, when we apply the method to a smile string,\n",
    "###INSTEAD OF GETTING NORMAL FINGERPRINTS WE GET THE POSITIONS IN WHICH THERE IS A 1! Then it will be checked,\n",
    "##knowing the total length, in which positions there is a 0."
   ]
  },
  {
   "cell_type": "code",
   "execution_count": 31,
   "metadata": {},
   "outputs": [
    {
     "name": "stdout",
     "output_type": "stream",
     "text": [
      "C:\\Users\\Yoo\\Desktop\\summerProject\\hmmer-3.2.1\\trial\\usefulFiles\\fingerprints\n"
     ]
    }
   ],
   "source": [
    "cd C:\\Users\\Yoo\\Desktop\\summerProject\\hmmer-3.2.1\\trial\\usefulFiles\\fingerprints"
   ]
  },
  {
   "cell_type": "code",
   "execution_count": 32,
   "metadata": {},
   "outputs": [],
   "source": [
    "##Opens the file and create a List of strings that will be converted into molecules with RDKit in the next cell\n",
    "smileFile= open (\"smileMolecules.tsv\")\n",
    "fingerprintList=[]\n",
    "for line in smileFile:\n",
    "    line=line.strip(\"\\n\")\n",
    "    line=line.split(\"\\t\")\n",
    "    fps = get_fingerprint(line[1], fp_type='klekota-roth')\n",
    "    stringFingerprint = \"\"\n",
    "    for i in range (0,4860):##Specify here the length of your fingerprint\n",
    "        if i in fps:\n",
    "            stringFingerprint+=\"1\"\n",
    "        else:\n",
    "            stringFingerprint+=\"0\"\n",
    "    fingerprintList.append(stringFingerprint)\n",
    "smileFile.close()"
   ]
  },
  {
   "cell_type": "code",
   "execution_count": 33,
   "metadata": {},
   "outputs": [],
   "source": [
    "outputFile = open (\"klekota-rothFingerprintsWithDuplicates.csv\",\"w\")\n",
    "smileFile= open (\"smileMolecules.tsv\")\n",
    "i=0\n",
    "for line in smileFile:\n",
    "    line= line[0:10]\n",
    "    outputFile.write(line + \",\" + fingerprintList[i]+\"\\n\")\n",
    "    i+=1\n",
    "smileFile.close()\n",
    "outputFile.close()"
   ]
  },
  {
   "cell_type": "code",
   "execution_count": null,
   "metadata": {},
   "outputs": [],
   "source": []
  }
 ],
 "metadata": {
  "kernelspec": {
   "display_name": "Python 3",
   "language": "python",
   "name": "python3"
  },
  "language_info": {
   "codemirror_mode": {
    "name": "ipython",
    "version": 3
   },
   "file_extension": ".py",
   "mimetype": "text/x-python",
   "name": "python",
   "nbconvert_exporter": "python",
   "pygments_lexer": "ipython3",
   "version": "3.7.2"
  }
 },
 "nbformat": 4,
 "nbformat_minor": 2
}
