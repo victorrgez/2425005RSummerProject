{
 "cells": [
  {
   "cell_type": "code",
   "execution_count": 1,
   "metadata": {},
   "outputs": [],
   "source": [
    "## Only chooses those molecules without the \"\\\\\\\\\" problem and prints them to a file (nameOfTheCluster,String)\n",
    "## and also creates the similarities matrix\n",
    "## For some reason, RDKIT has problems converting smile strings with \"\\\\\\\\\" into molecules\n",
    "####The similarities matrix was used at the start of the project but it was discarded eventually as kernels were used instead for IOKR"
   ]
  },
  {
   "cell_type": "code",
   "execution_count": 7,
   "metadata": {},
   "outputs": [],
   "source": [
    "from rdkit import Chem,DataStructs\n",
    "from rdkit.Chem.Fingerprints import FingerprintMols\n",
    "from os import chdir\n",
    "import numpy"
   ]
  },
  {
   "cell_type": "code",
   "execution_count": 8,
   "metadata": {},
   "outputs": [
    {
     "name": "stdout",
     "output_type": "stream",
     "text": [
      "C:\\Users\\Yoo\\Desktop\\summerProject\\hmmer-3.2.1\\trial\\usefulFiles\n"
     ]
    }
   ],
   "source": [
    "cd \"C:\\Users\\Yoo\\Desktop\\summerProject\\hmmer-3.2.1\\trial\\usefulFiles\""
   ]
  },
  {
   "cell_type": "code",
   "execution_count": 9,
   "metadata": {},
   "outputs": [],
   "source": [
    "inputFile = open(\"allClusterNamesWithSmileStringOfTheProducts.csv\")\n",
    "chdir(\"..\")\n",
    "outputFile=open (\"savesOnlyValidMolecules.csv\",\"w\")"
   ]
  },
  {
   "cell_type": "code",
   "execution_count": 10,
   "metadata": {},
   "outputs": [],
   "source": [
    "moleculeList=[]\n",
    "for line in inputFile:\n",
    "    line=line.split(\",\")\n",
    "    mol=Chem.MolFromSmiles(line[1])\n",
    "    if mol:#There is some problem with molecules with \"\\\\\\\\\" in their smile string, so we make sure we only save the valid ones\n",
    "        moleculeList.append(mol)\n",
    "        outputFile.write(line[0]+\",\"+line[1])"
   ]
  },
  {
   "cell_type": "code",
   "execution_count": 11,
   "metadata": {},
   "outputs": [],
   "source": [
    "##This used to calculate the fingerprints with the RDKit formula, we will use another one for our project (CDK ones)\n",
    "fingerprints = []\n",
    "for molecule in moleculeList:\n",
    "    fingerprints.append(FingerprintMols.FingerprintMol(molecule))"
   ]
  },
  {
   "cell_type": "code",
   "execution_count": 12,
   "metadata": {},
   "outputs": [],
   "source": [
    "##Creates a similarity matrix with RDKIT. This is not the one we will use for IOKR\n",
    "dimension=len(fingerprints)\n",
    "similaritiesMatrix=numpy.zeros((dimension,dimension))\n",
    "for i in range(0,dimension):\n",
    "    for j in range(0,dimension):\n",
    "        similaritiesMatrix[i,j]=DataStructs.FingerprintSimilarity(fingerprints[i], fingerprints[j])"
   ]
  },
  {
   "cell_type": "code",
   "execution_count": 13,
   "metadata": {},
   "outputs": [],
   "source": [
    "inputFile.close()\n",
    "outputFile.close()\n",
    "numpy.savetxt('similaritiesMatrix.csv',similaritiesMatrix,delimiter=',',fmt='%.3f')"
   ]
  },
  {
   "cell_type": "code",
   "execution_count": null,
   "metadata": {},
   "outputs": [],
   "source": []
  }
 ],
 "metadata": {
  "kernelspec": {
   "display_name": "Python 3",
   "language": "python",
   "name": "python3"
  },
  "language_info": {
   "codemirror_mode": {
    "name": "ipython",
    "version": 3
   },
   "file_extension": ".py",
   "mimetype": "text/x-python",
   "name": "python",
   "nbconvert_exporter": "python",
   "pygments_lexer": "ipython3",
   "version": "3.7.2"
  }
 },
 "nbformat": 4,
 "nbformat_minor": 2
}
