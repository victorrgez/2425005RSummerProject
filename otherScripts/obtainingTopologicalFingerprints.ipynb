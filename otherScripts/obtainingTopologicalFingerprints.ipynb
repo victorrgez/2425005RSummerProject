{
 "cells": [
  {
   "cell_type": "code",
   "execution_count": 26,
   "metadata": {},
   "outputs": [],
   "source": [
    "###The original output file will contain duplicates which will be eliminated with another script found in the Main Scripts folder (removingDuplicatedClustersForAllTypesOfFingerprints)\n",
    "##CREATES the topological fingerprints from RDKIT\n",
    "from rdkit import Chem\n",
    "from rdkit.Chem.Fingerprints import FingerprintMols\n",
    "from rdkit.DataStructs.cDataStructs import ExplicitBitVect\n",
    "#import numpy as np"
   ]
  },
  {
   "cell_type": "code",
   "execution_count": 27,
   "metadata": {},
   "outputs": [
    {
     "name": "stdout",
     "output_type": "stream",
     "text": [
      "C:\\Users\\Yoo\\Desktop\\summerProject\\hmmer-3.2.1\\trial\\usefulFiles\\fingerprints\n"
     ]
    }
   ],
   "source": [
    "cd C:\\Users\\Yoo\\Desktop\\summerProject\\hmmer-3.2.1\\trial\\usefulFiles\\fingerprints"
   ]
  },
  {
   "cell_type": "code",
   "execution_count": 28,
   "metadata": {},
   "outputs": [],
   "source": [
    "##Opens the file and create a List of strings that will be converted into molecules with RDKit in the next cell\n",
    "smileFile= open (\"smileMolecules.tsv\")\n",
    "smileStringList=[]\n",
    "smileMoleculeList=[]\n",
    "for line in smileFile:\n",
    "    line=line.strip(\"\\n\")\n",
    "    line=line.split(\"\\t\")\n",
    "    smileStringList.append(line[1])\n",
    "smileFile.close()"
   ]
  },
  {
   "cell_type": "code",
   "execution_count": 29,
   "metadata": {},
   "outputs": [],
   "source": [
    "##The strings are converted into molecules\n",
    "for smileString in smileStringList:\n",
    "    m=Chem.MolFromSmiles(smileString)\n",
    "    if m:\n",
    "        smileMoleculeList.append(m)"
   ]
  },
  {
   "cell_type": "code",
   "execution_count": 38,
   "metadata": {},
   "outputs": [],
   "source": [
    "##Converts the molecules into fingerprints\n",
    "fingerprintList = [FingerprintMols.FingerprintMol(molecule,fpSize=2048,minPath=1,maxPath=7,bitsPerHash=2,useHs=True,tgtDensity=0,minSize=128) for molecule in smileMoleculeList]"
   ]
  },
  {
   "cell_type": "code",
   "execution_count": 39,
   "metadata": {},
   "outputs": [],
   "source": [
    "bitsFingerprints=[]\n",
    "for i in range (0, len (fingerprintList)):\n",
    "    bitsFingerprints.append(fingerprintList[i].ToBitString())"
   ]
  },
  {
   "cell_type": "code",
   "execution_count": 40,
   "metadata": {},
   "outputs": [],
   "source": [
    "smileFile= open (\"smileMolecules.tsv\")\n",
    "topologicalFile = open (\"topologicalFingerprintsWithDuplicates.csv\",\"w\")\n",
    "i=0\n",
    "for line in smileFile:\n",
    "    line= line[0:10]\n",
    "    topologicalFile.write(line + \",\" + bitsFingerprints[i]+\"\\n\")\n",
    "    i+=1\n",
    "smileFile.close()\n",
    "topologicalFile.close()"
   ]
  },
  {
   "cell_type": "code",
   "execution_count": null,
   "metadata": {},
   "outputs": [],
   "source": []
  }
 ],
 "metadata": {
  "kernelspec": {
   "display_name": "Python 3",
   "language": "python",
   "name": "python3"
  },
  "language_info": {
   "codemirror_mode": {
    "name": "ipython",
    "version": 3
   },
   "file_extension": ".py",
   "mimetype": "text/x-python",
   "name": "python",
   "nbconvert_exporter": "python",
   "pygments_lexer": "ipython3",
   "version": "3.7.2"
  }
 },
 "nbformat": 4,
 "nbformat_minor": 2
}
