{
 "cells": [
  {
   "cell_type": "code",
   "execution_count": null,
   "metadata": {},
   "outputs": [],
   "source": [
    "##This script is fairly slow and now optimed paper formula is used instead.\n",
    "##This takes 1h 40 min for 5 subsets while the optimed version takes 5 min"
   ]
  },
  {
   "cell_type": "code",
   "execution_count": 37,
   "metadata": {},
   "outputs": [
    {
     "name": "stdout",
     "output_type": "stream",
     "text": [
      "C:\\Users\\Yoo\\Desktop\\summerProject\\hmmer-3.2.1\\trial\\usefulFiles\\machineLearningKernelPfamFingerPrints\\IKOR_TryingDifferentParameters\\sameOrderForAllConfigurations\\firstExperiment\n"
     ]
    }
   ],
   "source": [
    "cd C:\\Users\\Yoo\\Desktop\\summerProject\\hmmer-3.2.1\\trial\\usefulFiles\\machineLearningKernelPfamFingerPrints\\IKOR_TryingDifferentParameters\\sameOrderForAllConfigurations\\firstExperiment"
   ]
  },
  {
   "cell_type": "code",
   "execution_count": 38,
   "metadata": {},
   "outputs": [],
   "source": [
    "import numpy as np"
   ]
  },
  {
   "cell_type": "code",
   "execution_count": 39,
   "metadata": {},
   "outputs": [],
   "source": [
    "def convertStringIntoVector (String):##Receives a binary vector in the form of a String\n",
    "    intoList=list(String)\n",
    "    vector=np.asarray(intoList,dtype=int)\n",
    "    return vector"
   ]
  },
  {
   "cell_type": "code",
   "execution_count": 40,
   "metadata": {},
   "outputs": [],
   "source": [
    "def gaussianKernelForPfam (vector1, vector2):##Does the gaussian Kernel for two vectors\n",
    "    gamma=0.01\n",
    "    euclideanDistance=np.linalg.norm(vector1-vector2)\n",
    "    kernelValue=np.exp(-gamma*(euclideanDistance**2))\n",
    "    return kernelValue"
   ]
  },
  {
   "cell_type": "code",
   "execution_count": 41,
   "metadata": {},
   "outputs": [],
   "source": [
    "def gaussianKernelForFingerprint (vector1, vector2):##We can have a different gamma in this kernel if we want\n",
    "    gamma=0.01\n",
    "    euclideanDistance=np.linalg.norm(vector1-vector2)\n",
    "    kernelValue=np.exp(-gamma*(euclideanDistance**2))\n",
    "    return kernelValue"
   ]
  },
  {
   "cell_type": "code",
   "execution_count": 42,
   "metadata": {},
   "outputs": [],
   "source": [
    "##Opens the two files and creates one list of Strings for pfam and another one for fingerprints\n",
    "pfamFile= open (\"pfamDomains0and1ForAllClusters.txt\")\n",
    "pfamList=[]##List of Strings\n",
    "for line in pfamFile:\n",
    "    line=line.strip(\"\\n\")\n",
    "    pfamList.append(line[11:])\n",
    "pfamFile.close()\n",
    "fingerprintFile=open (\"fingerPrintsForIndividualClustersNOT478.txt\")\n",
    "fingerprintList=[]##List of strings\n",
    "for line in fingerprintFile:\n",
    "    line=line.strip(\"\\n\")\n",
    "    fingerprintList.append(line[11:])\n",
    "fingerprintFile.close()"
   ]
  },
  {
   "cell_type": "code",
   "execution_count": 43,
   "metadata": {},
   "outputs": [],
   "source": [
    "##Converts the Lists of strings into list of Vectors\n",
    "pfamVectorList=[]#List of vectors\n",
    "for pfamString in pfamList:\n",
    "    pfamVectorList.append(convertStringIntoVector(pfamString))\n",
    "fingerprintVectorList=[]##List of vectors\n",
    "for fingerprintString in fingerprintList:\n",
    "    fingerprintVectorList.append(convertStringIntoVector(fingerprintString))"
   ]
  },
  {
   "cell_type": "code",
   "execution_count": 44,
   "metadata": {},
   "outputs": [],
   "source": [
    "##Sets parameters for the training part of the formula (lambda*Identity*GramMatrix) and inverses it\n",
    "dimensionGeneralMatrix= len (pfamVectorList)\n",
    "lambdaa=0.001 #lambda seems to be a special character in python so lets put a double aa\n",
    "generalGramMatrix = np.zeros((dimensionGeneralMatrix,dimensionGeneralMatrix))\n",
    "for i in range (0, dimensionGeneralMatrix):\n",
    "    for j in range (0, dimensionGeneralMatrix):\n",
    "        generalGramMatrix [i,j]=gaussianKernelForPfam(pfamVectorList[i],pfamVectorList[j])#Kx with upper case"
   ]
  },
  {
   "cell_type": "code",
   "execution_count": 45,
   "metadata": {},
   "outputs": [],
   "source": [
    "import random\n",
    "#Creates a list of Random Numbers as big as the number of Clusters we have\n",
    "#Then we will select which ones we have for each subset\n",
    "listOfRandomNumbers=random.sample(range(dimensionGeneralMatrix), dimensionGeneralMatrix)\n",
    "sampleOf206Numbers=listOfRandomNumbers[0:206]\n",
    "sampleOf825Numbers= listOfRandomNumbers[206:]"
   ]
  },
  {
   "cell_type": "code",
   "execution_count": 46,
   "metadata": {},
   "outputs": [],
   "source": [
    "####This is just the same script repeated several times for the 5 subsets.\n",
    "####The last time, the length of the training and the test set changes, but the rest is the same\n",
    "\n",
    "##Creates the training part of the formula once you know the specific clusters in the training set\n",
    "\n",
    "dimensionTrainingSet = 825 #We divide 1031 by 5 for crossvalidation. We have 825 in the training and 206 in the test\n",
    "dimensionTestSet = 206\n",
    "identityMatrix=np.identity(dimensionTrainingSet)##Part of the formula\n",
    "specificGramMatrix = np.zeros((dimensionTrainingSet,dimensionTrainingSet))\n",
    "for i in range (0, dimensionTrainingSet):\n",
    "    for j in range (0, dimensionTrainingSet):\n",
    "        iIndex=sampleOf825Numbers[i]\n",
    "        jIndex=sampleOf825Numbers[j]\n",
    "        specificGramMatrix[i,j]=generalGramMatrix[iIndex,jIndex]\n",
    "inverseMatrix = np.linalg.inv( ( lambdaa * identityMatrix ) + specificGramMatrix )##Part of the formula"
   ]
  },
  {
   "cell_type": "code",
   "execution_count": 47,
   "metadata": {},
   "outputs": [],
   "source": [
    "def calculatingIOKRScore (xVector, yVector):\n",
    "    ky=np.zeros((dimensionTrainingSet,1))##kx lower case\n",
    "    kx=np.zeros((dimensionTrainingSet,1))##ky lower case\n",
    "    for i in range (0,dimensionTrainingSet):\n",
    "        iIndex=sampleOf825Numbers[i]\n",
    "        kx[i]=gaussianKernelForPfam(pfamVectorList[iIndex],xVector)\n",
    "        ky[i]=gaussianKernelForFingerprint(fingerprintVectorList[iIndex],yVector)\n",
    "    kyt=np.transpose(ky)##Transposing ky\n",
    "    result= np.matmul(np.matmul(kyt,inverseMatrix), kx)##Returns a number when doing the multiplication of the matrixes\n",
    "    return result"
   ]
  },
  {
   "cell_type": "code",
   "execution_count": 48,
   "metadata": {},
   "outputs": [],
   "source": [
    "score = np.zeros((206, 206))\n",
    "for i in range (0, 206):\n",
    "    for j in range (0, 206):\n",
    "        iIndex=sampleOf206Numbers[i]\n",
    "        jIndex=sampleOf206Numbers[j]\n",
    "        score[i,j]= calculatingIOKRScore(pfamVectorList[iIndex],fingerprintVectorList[jIndex])\n",
    "np.save(\"score\",score)"
   ]
  },
  {
   "cell_type": "code",
   "execution_count": 49,
   "metadata": {},
   "outputs": [],
   "source": [
    "sampleOf206Numbers=listOfRandomNumbers[206:412]\n",
    "sampleOf825Numbers= listOfRandomNumbers[0:206]+listOfRandomNumbers[412:]\n",
    "##Creates the training part of the formula once you know the specific clusters in the training\n",
    "dimensionTrainingSet = 825 #We divide 1031 by 5 for crossvalidation. We have 825 in the rest\n",
    "dimensionTestSet = 206\n",
    "identityMatrix=np.identity(dimensionTrainingSet)##Part of the formula\n",
    "specificGramMatrix = np.zeros((dimensionTrainingSet,dimensionTrainingSet))\n",
    "for i in range (0, dimensionTrainingSet):\n",
    "    for j in range (0, dimensionTrainingSet):\n",
    "        iIndex=sampleOf825Numbers[i]\n",
    "        jIndex=sampleOf825Numbers[j]\n",
    "        specificGramMatrix[i,j]=generalGramMatrix[iIndex,jIndex]\n",
    "inverseMatrix = np.linalg.inv( ( lambdaa * identityMatrix ) + specificGramMatrix )##Part of the formula"
   ]
  },
  {
   "cell_type": "code",
   "execution_count": 50,
   "metadata": {},
   "outputs": [],
   "source": [
    "def calculatingIOKRScore (xVector, yVector):\n",
    "    ky=np.zeros((dimensionTrainingSet,1))##kx lower case\n",
    "    kx=np.zeros((dimensionTrainingSet,1))##ky lower case\n",
    "    for i in range (0,dimensionTrainingSet):\n",
    "        iIndex=sampleOf825Numbers[i]\n",
    "        kx[i]=gaussianKernelForPfam(pfamVectorList[iIndex],xVector)\n",
    "        ky[i]=gaussianKernelForFingerprint(fingerprintVectorList[iIndex],yVector)\n",
    "    kyt=np.transpose(ky)##Transposing ky\n",
    "    result= np.matmul(np.matmul(kyt,inverseMatrix), kx)##Returns a number when doing the multiplication of the matrixes\n",
    "    return result"
   ]
  },
  {
   "cell_type": "code",
   "execution_count": 51,
   "metadata": {},
   "outputs": [],
   "source": [
    "score2 = np.zeros((206, 206))\n",
    "for i in range (0, 206):\n",
    "    for j in range (0, 206):\n",
    "        iIndex=sampleOf206Numbers[i]\n",
    "        jIndex=sampleOf206Numbers[j]\n",
    "        score2[i,j]= calculatingIOKRScore(pfamVectorList[iIndex],fingerprintVectorList[jIndex])\n",
    "np.save(\"score2\",score2)"
   ]
  },
  {
   "cell_type": "code",
   "execution_count": 52,
   "metadata": {},
   "outputs": [],
   "source": [
    "sampleOf206Numbers=listOfRandomNumbers[412:618]\n",
    "sampleOf825Numbers= listOfRandomNumbers[0:412]+listOfRandomNumbers[618:]\n",
    "##Creates the training part of the formula once you know the specific clusters in the training\n",
    "dimensionTrainingSet = 825 #We divide 1031 by 5 for crossvalidation. We have 825 in the rest\n",
    "dimensionTestSet = 206\n",
    "identityMatrix=np.identity(dimensionTrainingSet)##Part of the formula\n",
    "specificGramMatrix = np.zeros((dimensionTrainingSet,dimensionTrainingSet))\n",
    "for i in range (0, dimensionTrainingSet):\n",
    "    for j in range (0, dimensionTrainingSet):\n",
    "        iIndex=sampleOf825Numbers[i]\n",
    "        jIndex=sampleOf825Numbers[j]\n",
    "        specificGramMatrix[i,j]=generalGramMatrix[iIndex,jIndex]\n",
    "inverseMatrix = np.linalg.inv( ( lambdaa * identityMatrix ) + specificGramMatrix )##Part of the formula"
   ]
  },
  {
   "cell_type": "code",
   "execution_count": 53,
   "metadata": {},
   "outputs": [],
   "source": [
    "def calculatingIOKRScore (xVector, yVector):\n",
    "    ky=np.zeros((dimensionTrainingSet,1))##kx lower case\n",
    "    kx=np.zeros((dimensionTrainingSet,1))##ky lower case\n",
    "    for i in range (0,dimensionTrainingSet):\n",
    "        iIndex=sampleOf825Numbers[i]\n",
    "        kx[i]=gaussianKernelForPfam(pfamVectorList[iIndex],xVector)\n",
    "        ky[i]=gaussianKernelForFingerprint(fingerprintVectorList[iIndex],yVector)\n",
    "    kyt=np.transpose(ky)##Transposing ky\n",
    "    result= np.matmul(np.matmul(kyt,inverseMatrix), kx)##Returns a number when doing the multiplication of the matrixes\n",
    "    return result"
   ]
  },
  {
   "cell_type": "code",
   "execution_count": 54,
   "metadata": {},
   "outputs": [],
   "source": [
    "score3 = np.zeros((206, 206))\n",
    "for i in range (0, 206):\n",
    "    for j in range (0, 206):\n",
    "        iIndex=sampleOf206Numbers[i]\n",
    "        jIndex=sampleOf206Numbers[j]\n",
    "        score3[i,j]= calculatingIOKRScore(pfamVectorList[iIndex],fingerprintVectorList[jIndex])\n",
    "np.save(\"score3\",score3)"
   ]
  },
  {
   "cell_type": "code",
   "execution_count": 55,
   "metadata": {},
   "outputs": [],
   "source": [
    "sampleOf206Numbers=listOfRandomNumbers[618:824]\n",
    "sampleOf825Numbers= listOfRandomNumbers[0:618]+listOfRandomNumbers[824:]\n",
    "##Creates the training part of the formula once you know the specific clusters in the training\n",
    "dimensionTrainingSet = 825 #We divide 1031 by 5 for crossvalidation. We have 825 in the rest\n",
    "dimensionTestSet = 206\n",
    "identityMatrix=np.identity(dimensionTrainingSet)##Part of the formula\n",
    "specificGramMatrix = np.zeros((dimensionTrainingSet,dimensionTrainingSet))\n",
    "for i in range (0, dimensionTrainingSet):\n",
    "    for j in range (0, dimensionTrainingSet):\n",
    "        iIndex=sampleOf825Numbers[i]\n",
    "        jIndex=sampleOf825Numbers[j]\n",
    "        specificGramMatrix[i,j]=generalGramMatrix[iIndex,jIndex]\n",
    "inverseMatrix = np.linalg.inv( ( lambdaa * identityMatrix ) + specificGramMatrix )##Part of the formula"
   ]
  },
  {
   "cell_type": "code",
   "execution_count": 56,
   "metadata": {},
   "outputs": [],
   "source": [
    "def calculatingIOKRScore (xVector, yVector):\n",
    "    ky=np.zeros((dimensionTrainingSet,1))##kx lower case\n",
    "    kx=np.zeros((dimensionTrainingSet,1))##ky lower case\n",
    "    for i in range (0,dimensionTrainingSet):\n",
    "        iIndex=sampleOf825Numbers[i]\n",
    "        kx[i]=gaussianKernelForPfam(pfamVectorList[iIndex],xVector)\n",
    "        ky[i]=gaussianKernelForFingerprint(fingerprintVectorList[iIndex],yVector)\n",
    "    kyt=np.transpose(ky)##Transposing ky\n",
    "    result= np.matmul(np.matmul(kyt,inverseMatrix), kx)##Returns a number when doing the multiplication of the matrixes\n",
    "    return result"
   ]
  },
  {
   "cell_type": "code",
   "execution_count": 57,
   "metadata": {},
   "outputs": [],
   "source": [
    "score4 = np.zeros((206, 206))\n",
    "for i in range (0, 206):\n",
    "    for j in range (0, 206):\n",
    "        iIndex=sampleOf206Numbers[i]\n",
    "        jIndex=sampleOf206Numbers[j]\n",
    "        score4[i,j]= calculatingIOKRScore(pfamVectorList[iIndex],fingerprintVectorList[jIndex])\n",
    "np.save(\"score4\",score4)"
   ]
  },
  {
   "cell_type": "code",
   "execution_count": 58,
   "metadata": {},
   "outputs": [],
   "source": [
    "sampleOf206Numbers=listOfRandomNumbers[824:]\n",
    "sampleOf825Numbers= listOfRandomNumbers[0:824]\n",
    "##Creates the training part of the formula once you know the specific clusters in the training\n",
    "dimensionTrainingSet = 824 #We divide 1031 by 5 for crossvalidation. We have 825 in the rest\n",
    "dimensionTestSet = 207\n",
    "identityMatrix=np.identity(dimensionTrainingSet)##Part of the formula\n",
    "specificGramMatrix = np.zeros((dimensionTrainingSet,dimensionTrainingSet))\n",
    "for i in range (0, dimensionTrainingSet):\n",
    "    for j in range (0, dimensionTrainingSet):\n",
    "        iIndex=sampleOf825Numbers[i]\n",
    "        jIndex=sampleOf825Numbers[j]\n",
    "        specificGramMatrix[i,j]=generalGramMatrix[iIndex,jIndex]\n",
    "inverseMatrix = np.linalg.inv( ( lambdaa * identityMatrix ) + specificGramMatrix )##Part of the formula"
   ]
  },
  {
   "cell_type": "code",
   "execution_count": 59,
   "metadata": {},
   "outputs": [],
   "source": [
    "def calculatingIOKRScore (xVector, yVector):\n",
    "    ky=np.zeros((dimensionTrainingSet,1))##kx lower case\n",
    "    kx=np.zeros((dimensionTrainingSet,1))##ky lower case\n",
    "    for i in range (0,dimensionTrainingSet):\n",
    "        iIndex=sampleOf825Numbers[i]\n",
    "        kx[i]=gaussianKernelForPfam(pfamVectorList[iIndex],xVector)\n",
    "        ky[i]=gaussianKernelForFingerprint(fingerprintVectorList[iIndex],yVector)\n",
    "    kyt=np.transpose(ky)##Transposing ky\n",
    "    result= np.matmul(np.matmul(kyt,inverseMatrix), kx)##Returns a number when doing the multiplication of the matrixes\n",
    "    return result"
   ]
  },
  {
   "cell_type": "code",
   "execution_count": 60,
   "metadata": {},
   "outputs": [],
   "source": [
    "score5 = np.zeros((207, 207))\n",
    "for i in range (0, 207):\n",
    "    for j in range (0, 207):\n",
    "        iIndex=sampleOf206Numbers[i]\n",
    "        jIndex=sampleOf206Numbers[j]\n",
    "        score5[i,j]= calculatingIOKRScore(pfamVectorList[iIndex],fingerprintVectorList[jIndex])\n",
    "np.save(\"score5\",score5)"
   ]
  },
  {
   "cell_type": "code",
   "execution_count": 61,
   "metadata": {},
   "outputs": [],
   "source": [
    "####The cell with import random has been deleted as we want to use the same order for all the parameters\n",
    "## GammaX = 0.01\n",
    "## GammaY = 0.01\n",
    "## Lambda = 0.01"
   ]
  },
  {
   "cell_type": "code",
   "execution_count": 62,
   "metadata": {},
   "outputs": [
    {
     "name": "stdout",
     "output_type": "stream",
     "text": [
      "C:\\Users\\Yoo\\Desktop\\summerProject\\hmmer-3.2.1\\trial\\usefulFiles\\machineLearningKernelPfamFingerPrints\\IKOR_TryingDifferentParameters\\sameOrderForAllConfigurations\\firstExperiment\n"
     ]
    }
   ],
   "source": [
    "cd C:\\Users\\Yoo\\Desktop\\summerProject\\hmmer-3.2.1\\trial\\usefulFiles\\machineLearningKernelPfamFingerPrints\\IKOR_TryingDifferentParameters\\sameOrderForAllConfigurations\\firstExperiment"
   ]
  },
  {
   "cell_type": "code",
   "execution_count": 63,
   "metadata": {},
   "outputs": [],
   "source": [
    "import numpy as np"
   ]
  },
  {
   "cell_type": "code",
   "execution_count": 64,
   "metadata": {},
   "outputs": [],
   "source": [
    "def convertStringIntoVector (String):##Receives a binary vector in the form of a String\n",
    "    intoList=list(String)\n",
    "    vector=np.asarray(intoList,dtype=int)\n",
    "    return vector"
   ]
  },
  {
   "cell_type": "code",
   "execution_count": 65,
   "metadata": {},
   "outputs": [],
   "source": [
    "def gaussianKernelForPfam (vector1, vector2):##Does the gaussian Kernel for two vectors\n",
    "    gamma=0.01\n",
    "    euclideanDistance=np.linalg.norm(vector1-vector2)\n",
    "    kernelValue=np.exp(-gamma*(euclideanDistance**2))\n",
    "    return kernelValue"
   ]
  },
  {
   "cell_type": "code",
   "execution_count": 66,
   "metadata": {},
   "outputs": [],
   "source": [
    "def gaussianKernelForFingerprint (vector1, vector2):##We can have a different gamma in this kernel if we want\n",
    "    gamma=0.01\n",
    "    euclideanDistance=np.linalg.norm(vector1-vector2)\n",
    "    kernelValue=np.exp(-gamma*(euclideanDistance**2))\n",
    "    return kernelValue"
   ]
  },
  {
   "cell_type": "code",
   "execution_count": 67,
   "metadata": {},
   "outputs": [],
   "source": [
    "##Opens the two files and creates one list of Strings for pfam and another one for fingerprints\n",
    "pfamFile= open (\"pfamDomains0and1ForAllClusters.txt\")\n",
    "pfamList=[]##List of Strings\n",
    "for line in pfamFile:\n",
    "    line=line.strip(\"\\n\")\n",
    "    pfamList.append(line[11:])\n",
    "pfamFile.close()\n",
    "fingerprintFile=open (\"fingerPrintsForIndividualClustersNOT478.txt\")\n",
    "fingerprintList=[]##List of strings\n",
    "for line in fingerprintFile:\n",
    "    line=line.strip(\"\\n\")\n",
    "    fingerprintList.append(line[11:])\n",
    "fingerprintFile.close()"
   ]
  },
  {
   "cell_type": "code",
   "execution_count": 68,
   "metadata": {},
   "outputs": [],
   "source": [
    "##Converts the Lists of strings into list of Vectors\n",
    "pfamVectorList=[]#List of vectors\n",
    "for pfamString in pfamList:\n",
    "    pfamVectorList.append(convertStringIntoVector(pfamString))\n",
    "fingerprintVectorList=[]##List of vectors\n",
    "for fingerprintString in fingerprintList:\n",
    "    fingerprintVectorList.append(convertStringIntoVector(fingerprintString))"
   ]
  },
  {
   "cell_type": "code",
   "execution_count": 69,
   "metadata": {},
   "outputs": [],
   "source": [
    "##Sets parameters for the training part of the formula (lambda*Identity*GramMatrix) and inverses it\n",
    "dimensionGeneralMatrix= len (pfamVectorList)\n",
    "lambdaa=0.01 #lambda seems to be a special character in python so lets put a double aa\n",
    "generalGramMatrix = np.zeros((dimensionGeneralMatrix,dimensionGeneralMatrix))\n",
    "for i in range (0, dimensionGeneralMatrix):\n",
    "    for j in range (0, dimensionGeneralMatrix):\n",
    "        generalGramMatrix [i,j]=gaussianKernelForPfam(pfamVectorList[i],pfamVectorList[j])#Kx with upper case"
   ]
  },
  {
   "cell_type": "code",
   "execution_count": 70,
   "metadata": {},
   "outputs": [],
   "source": [
    "sampleOf206Numbers=listOfRandomNumbers[0:206]\n",
    "sampleOf825Numbers= listOfRandomNumbers[206:]\n",
    "####This is just the same script repeated several times for the 5 subsets.\n",
    "####The last time, the length of the training and the test set changes, but the rest is the same\n",
    "\n",
    "##Creates the training part of the formula once you know the specific clusters in the training set\n",
    "\n",
    "dimensionTrainingSet = 825 #We divide 1031 by 5 for crossvalidation. We have 825 in the training and 206 in the test\n",
    "dimensionTestSet = 206\n",
    "identityMatrix=np.identity(dimensionTrainingSet)##Part of the formula\n",
    "specificGramMatrix = np.zeros((dimensionTrainingSet,dimensionTrainingSet))\n",
    "for i in range (0, dimensionTrainingSet):\n",
    "    for j in range (0, dimensionTrainingSet):\n",
    "        iIndex=sampleOf825Numbers[i]\n",
    "        jIndex=sampleOf825Numbers[j]\n",
    "        specificGramMatrix[i,j]=generalGramMatrix[iIndex,jIndex]\n",
    "inverseMatrix = np.linalg.inv( ( lambdaa * identityMatrix ) + specificGramMatrix )##Part of the formula"
   ]
  },
  {
   "cell_type": "code",
   "execution_count": 71,
   "metadata": {},
   "outputs": [],
   "source": [
    "def calculatingIOKRScore (xVector, yVector):\n",
    "    ky=np.zeros((dimensionTrainingSet,1))##kx lower case\n",
    "    kx=np.zeros((dimensionTrainingSet,1))##ky lower case\n",
    "    for i in range (0,dimensionTrainingSet):\n",
    "        iIndex=sampleOf825Numbers[i]\n",
    "        kx[i]=gaussianKernelForPfam(pfamVectorList[iIndex],xVector)\n",
    "        ky[i]=gaussianKernelForFingerprint(fingerprintVectorList[iIndex],yVector)\n",
    "    kyt=np.transpose(ky)##Transposing ky\n",
    "    result= np.matmul(np.matmul(kyt,inverseMatrix), kx)##Returns a number when doing the multiplication of the matrixes\n",
    "    return result"
   ]
  },
  {
   "cell_type": "code",
   "execution_count": 72,
   "metadata": {},
   "outputs": [],
   "source": [
    "score = np.zeros((206, 206))\n",
    "for i in range (0, 206):\n",
    "    for j in range (0, 206):\n",
    "        iIndex=sampleOf206Numbers[i]\n",
    "        jIndex=sampleOf206Numbers[j]\n",
    "        score[i,j]= calculatingIOKRScore(pfamVectorList[iIndex],fingerprintVectorList[jIndex])\n",
    "np.save(\"score6\",score)"
   ]
  },
  {
   "cell_type": "code",
   "execution_count": 73,
   "metadata": {},
   "outputs": [],
   "source": [
    "sampleOf206Numbers=listOfRandomNumbers[206:412]\n",
    "sampleOf825Numbers= listOfRandomNumbers[0:206]+listOfRandomNumbers[412:]\n",
    "##Creates the training part of the formula once you know the specific clusters in the training\n",
    "dimensionTrainingSet = 825 #We divide 1031 by 5 for crossvalidation. We have 825 in the rest\n",
    "dimensionTestSet = 206\n",
    "identityMatrix=np.identity(dimensionTrainingSet)##Part of the formula\n",
    "specificGramMatrix = np.zeros((dimensionTrainingSet,dimensionTrainingSet))\n",
    "for i in range (0, dimensionTrainingSet):\n",
    "    for j in range (0, dimensionTrainingSet):\n",
    "        iIndex=sampleOf825Numbers[i]\n",
    "        jIndex=sampleOf825Numbers[j]\n",
    "        specificGramMatrix[i,j]=generalGramMatrix[iIndex,jIndex]\n",
    "inverseMatrix = np.linalg.inv( ( lambdaa * identityMatrix ) + specificGramMatrix )##Part of the formula"
   ]
  },
  {
   "cell_type": "code",
   "execution_count": 74,
   "metadata": {},
   "outputs": [],
   "source": [
    "def calculatingIOKRScore (xVector, yVector):\n",
    "    ky=np.zeros((dimensionTrainingSet,1))##kx lower case\n",
    "    kx=np.zeros((dimensionTrainingSet,1))##ky lower case\n",
    "    for i in range (0,dimensionTrainingSet):\n",
    "        iIndex=sampleOf825Numbers[i]\n",
    "        kx[i]=gaussianKernelForPfam(pfamVectorList[iIndex],xVector)\n",
    "        ky[i]=gaussianKernelForFingerprint(fingerprintVectorList[iIndex],yVector)\n",
    "    kyt=np.transpose(ky)##Transposing ky\n",
    "    result= np.matmul(np.matmul(kyt,inverseMatrix), kx)##Returns a number when doing the multiplication of the matrixes\n",
    "    return result"
   ]
  },
  {
   "cell_type": "code",
   "execution_count": 75,
   "metadata": {},
   "outputs": [],
   "source": [
    "score2 = np.zeros((206, 206))\n",
    "for i in range (0, 206):\n",
    "    for j in range (0, 206):\n",
    "        iIndex=sampleOf206Numbers[i]\n",
    "        jIndex=sampleOf206Numbers[j]\n",
    "        score2[i,j]= calculatingIOKRScore(pfamVectorList[iIndex],fingerprintVectorList[jIndex])\n",
    "np.save(\"score7\",score2)"
   ]
  },
  {
   "cell_type": "code",
   "execution_count": 76,
   "metadata": {},
   "outputs": [],
   "source": [
    "sampleOf206Numbers=listOfRandomNumbers[412:618]\n",
    "sampleOf825Numbers= listOfRandomNumbers[0:412]+listOfRandomNumbers[618:]\n",
    "##Creates the training part of the formula once you know the specific clusters in the training\n",
    "dimensionTrainingSet = 825 #We divide 1031 by 5 for crossvalidation. We have 825 in the rest\n",
    "dimensionTestSet = 206\n",
    "identityMatrix=np.identity(dimensionTrainingSet)##Part of the formula\n",
    "specificGramMatrix = np.zeros((dimensionTrainingSet,dimensionTrainingSet))\n",
    "for i in range (0, dimensionTrainingSet):\n",
    "    for j in range (0, dimensionTrainingSet):\n",
    "        iIndex=sampleOf825Numbers[i]\n",
    "        jIndex=sampleOf825Numbers[j]\n",
    "        specificGramMatrix[i,j]=generalGramMatrix[iIndex,jIndex]\n",
    "inverseMatrix = np.linalg.inv( ( lambdaa * identityMatrix ) + specificGramMatrix )##Part of the formula"
   ]
  },
  {
   "cell_type": "code",
   "execution_count": 77,
   "metadata": {},
   "outputs": [],
   "source": [
    "def calculatingIOKRScore (xVector, yVector):\n",
    "    ky=np.zeros((dimensionTrainingSet,1))##kx lower case\n",
    "    kx=np.zeros((dimensionTrainingSet,1))##ky lower case\n",
    "    for i in range (0,dimensionTrainingSet):\n",
    "        iIndex=sampleOf825Numbers[i]\n",
    "        kx[i]=gaussianKernelForPfam(pfamVectorList[iIndex],xVector)\n",
    "        ky[i]=gaussianKernelForFingerprint(fingerprintVectorList[iIndex],yVector)\n",
    "    kyt=np.transpose(ky)##Transposing ky\n",
    "    result= np.matmul(np.matmul(kyt,inverseMatrix), kx)##Returns a number when doing the multiplication of the matrixes\n",
    "    return result"
   ]
  },
  {
   "cell_type": "code",
   "execution_count": 78,
   "metadata": {},
   "outputs": [],
   "source": [
    "score3 = np.zeros((206, 206))\n",
    "for i in range (0, 206):\n",
    "    for j in range (0, 206):\n",
    "        iIndex=sampleOf206Numbers[i]\n",
    "        jIndex=sampleOf206Numbers[j]\n",
    "        score3[i,j]= calculatingIOKRScore(pfamVectorList[iIndex],fingerprintVectorList[jIndex])\n",
    "np.save(\"score8\",score3)"
   ]
  },
  {
   "cell_type": "code",
   "execution_count": 79,
   "metadata": {},
   "outputs": [],
   "source": [
    "sampleOf206Numbers=listOfRandomNumbers[618:824]\n",
    "sampleOf825Numbers= listOfRandomNumbers[0:618]+listOfRandomNumbers[824:]\n",
    "##Creates the training part of the formula once you know the specific clusters in the training\n",
    "dimensionTrainingSet = 825 #We divide 1031 by 5 for crossvalidation. We have 825 in the rest\n",
    "dimensionTestSet = 206\n",
    "identityMatrix=np.identity(dimensionTrainingSet)##Part of the formula\n",
    "specificGramMatrix = np.zeros((dimensionTrainingSet,dimensionTrainingSet))\n",
    "for i in range (0, dimensionTrainingSet):\n",
    "    for j in range (0, dimensionTrainingSet):\n",
    "        iIndex=sampleOf825Numbers[i]\n",
    "        jIndex=sampleOf825Numbers[j]\n",
    "        specificGramMatrix[i,j]=generalGramMatrix[iIndex,jIndex]\n",
    "inverseMatrix = np.linalg.inv( ( lambdaa * identityMatrix ) + specificGramMatrix )##Part of the formula"
   ]
  },
  {
   "cell_type": "code",
   "execution_count": 80,
   "metadata": {},
   "outputs": [],
   "source": [
    "def calculatingIOKRScore (xVector, yVector):\n",
    "    ky=np.zeros((dimensionTrainingSet,1))##kx lower case\n",
    "    kx=np.zeros((dimensionTrainingSet,1))##ky lower case\n",
    "    for i in range (0,dimensionTrainingSet):\n",
    "        iIndex=sampleOf825Numbers[i]\n",
    "        kx[i]=gaussianKernelForPfam(pfamVectorList[iIndex],xVector)\n",
    "        ky[i]=gaussianKernelForFingerprint(fingerprintVectorList[iIndex],yVector)\n",
    "    kyt=np.transpose(ky)##Transposing ky\n",
    "    result= np.matmul(np.matmul(kyt,inverseMatrix), kx)##Returns a number when doing the multiplication of the matrixes\n",
    "    return result"
   ]
  },
  {
   "cell_type": "code",
   "execution_count": 81,
   "metadata": {},
   "outputs": [],
   "source": [
    "score4 = np.zeros((206, 206))\n",
    "for i in range (0, 206):\n",
    "    for j in range (0, 206):\n",
    "        iIndex=sampleOf206Numbers[i]\n",
    "        jIndex=sampleOf206Numbers[j]\n",
    "        score4[i,j]= calculatingIOKRScore(pfamVectorList[iIndex],fingerprintVectorList[jIndex])\n",
    "np.save(\"score9\",score4)"
   ]
  },
  {
   "cell_type": "code",
   "execution_count": 82,
   "metadata": {},
   "outputs": [],
   "source": [
    "sampleOf206Numbers=listOfRandomNumbers[824:]\n",
    "sampleOf825Numbers= listOfRandomNumbers[0:824]\n",
    "##Creates the training part of the formula once you know the specific clusters in the training\n",
    "dimensionTrainingSet = 824 #We divide 1031 by 5 for crossvalidation. We have 825 in the rest\n",
    "dimensionTestSet = 207\n",
    "identityMatrix=np.identity(dimensionTrainingSet)##Part of the formula\n",
    "specificGramMatrix = np.zeros((dimensionTrainingSet,dimensionTrainingSet))\n",
    "for i in range (0, dimensionTrainingSet):\n",
    "    for j in range (0, dimensionTrainingSet):\n",
    "        iIndex=sampleOf825Numbers[i]\n",
    "        jIndex=sampleOf825Numbers[j]\n",
    "        specificGramMatrix[i,j]=generalGramMatrix[iIndex,jIndex]\n",
    "inverseMatrix = np.linalg.inv( ( lambdaa * identityMatrix ) + specificGramMatrix )##Part of the formula"
   ]
  },
  {
   "cell_type": "code",
   "execution_count": 83,
   "metadata": {},
   "outputs": [],
   "source": [
    "def calculatingIOKRScore (xVector, yVector):\n",
    "    ky=np.zeros((dimensionTrainingSet,1))##kx lower case\n",
    "    kx=np.zeros((dimensionTrainingSet,1))##ky lower case\n",
    "    for i in range (0,dimensionTrainingSet):\n",
    "        iIndex=sampleOf825Numbers[i]\n",
    "        kx[i]=gaussianKernelForPfam(pfamVectorList[iIndex],xVector)\n",
    "        ky[i]=gaussianKernelForFingerprint(fingerprintVectorList[iIndex],yVector)\n",
    "    kyt=np.transpose(ky)##Transposing ky\n",
    "    result= np.matmul(np.matmul(kyt,inverseMatrix), kx)##Returns a number when doing the multiplication of the matrixes\n",
    "    return result"
   ]
  },
  {
   "cell_type": "code",
   "execution_count": 84,
   "metadata": {},
   "outputs": [],
   "source": [
    "score5 = np.zeros((207, 207))\n",
    "for i in range (0, 207):\n",
    "    for j in range (0, 207):\n",
    "        iIndex=sampleOf206Numbers[i]\n",
    "        jIndex=sampleOf206Numbers[j]\n",
    "        score5[i,j]= calculatingIOKRScore(pfamVectorList[iIndex],fingerprintVectorList[jIndex])\n",
    "np.save(\"score10\",score5)"
   ]
  },
  {
   "cell_type": "code",
   "execution_count": 85,
   "metadata": {},
   "outputs": [],
   "source": [
    "####The cell with import random has been deleted as we want to use the same order for all the parameters\n",
    "## GammaX = 0.01\n",
    "## GammaY = 0.01\n",
    "## Lambda = 0.1"
   ]
  },
  {
   "cell_type": "code",
   "execution_count": 86,
   "metadata": {},
   "outputs": [
    {
     "name": "stdout",
     "output_type": "stream",
     "text": [
      "C:\\Users\\Yoo\\Desktop\\summerProject\\hmmer-3.2.1\\trial\\usefulFiles\\machineLearningKernelPfamFingerPrints\\IKOR_TryingDifferentParameters\\sameOrderForAllConfigurations\\firstExperiment\n"
     ]
    }
   ],
   "source": [
    "cd C:\\Users\\Yoo\\Desktop\\summerProject\\hmmer-3.2.1\\trial\\usefulFiles\\machineLearningKernelPfamFingerPrints\\IKOR_TryingDifferentParameters\\sameOrderForAllConfigurations\\firstExperiment"
   ]
  },
  {
   "cell_type": "code",
   "execution_count": 87,
   "metadata": {},
   "outputs": [],
   "source": [
    "import numpy as np"
   ]
  },
  {
   "cell_type": "code",
   "execution_count": 88,
   "metadata": {},
   "outputs": [],
   "source": [
    "def convertStringIntoVector (String):##Receives a binary vector in the form of a String\n",
    "    intoList=list(String)\n",
    "    vector=np.asarray(intoList,dtype=int)\n",
    "    return vector"
   ]
  },
  {
   "cell_type": "code",
   "execution_count": 89,
   "metadata": {},
   "outputs": [],
   "source": [
    "def gaussianKernelForPfam (vector1, vector2):##Does the gaussian Kernel for two vectors\n",
    "    gamma=0.01\n",
    "    euclideanDistance=np.linalg.norm(vector1-vector2)\n",
    "    kernelValue=np.exp(-gamma*(euclideanDistance**2))\n",
    "    return kernelValue"
   ]
  },
  {
   "cell_type": "code",
   "execution_count": 90,
   "metadata": {},
   "outputs": [],
   "source": [
    "def gaussianKernelForFingerprint (vector1, vector2):##We can have a different gamma in this kernel if we want\n",
    "    gamma=0.01\n",
    "    euclideanDistance=np.linalg.norm(vector1-vector2)\n",
    "    kernelValue=np.exp(-gamma*(euclideanDistance**2))\n",
    "    return kernelValue"
   ]
  },
  {
   "cell_type": "code",
   "execution_count": 91,
   "metadata": {},
   "outputs": [],
   "source": [
    "##Opens the two files and creates one list of Strings for pfam and another one for fingerprints\n",
    "pfamFile= open (\"pfamDomains0and1ForAllClusters.txt\")\n",
    "pfamList=[]##List of Strings\n",
    "for line in pfamFile:\n",
    "    line=line.strip(\"\\n\")\n",
    "    pfamList.append(line[11:])\n",
    "pfamFile.close()\n",
    "fingerprintFile=open (\"fingerPrintsForIndividualClustersNOT478.txt\")\n",
    "fingerprintList=[]##List of strings\n",
    "for line in fingerprintFile:\n",
    "    line=line.strip(\"\\n\")\n",
    "    fingerprintList.append(line[11:])\n",
    "fingerprintFile.close()"
   ]
  },
  {
   "cell_type": "code",
   "execution_count": 92,
   "metadata": {},
   "outputs": [],
   "source": [
    "##Converts the Lists of strings into list of Vectors\n",
    "pfamVectorList=[]#List of vectors\n",
    "for pfamString in pfamList:\n",
    "    pfamVectorList.append(convertStringIntoVector(pfamString))\n",
    "fingerprintVectorList=[]##List of vectors\n",
    "for fingerprintString in fingerprintList:\n",
    "    fingerprintVectorList.append(convertStringIntoVector(fingerprintString))"
   ]
  },
  {
   "cell_type": "code",
   "execution_count": 93,
   "metadata": {},
   "outputs": [],
   "source": [
    "##Sets parameters for the training part of the formula (lambda*Identity*GramMatrix) and inverses it\n",
    "dimensionGeneralMatrix= len (pfamVectorList)\n",
    "lambdaa=0.1 #lambda seems to be a special character in python so lets put a double aa\n",
    "generalGramMatrix = np.zeros((dimensionGeneralMatrix,dimensionGeneralMatrix))\n",
    "for i in range (0, dimensionGeneralMatrix):\n",
    "    for j in range (0, dimensionGeneralMatrix):\n",
    "        generalGramMatrix [i,j]=gaussianKernelForPfam(pfamVectorList[i],pfamVectorList[j])#Kx with upper case"
   ]
  },
  {
   "cell_type": "code",
   "execution_count": 94,
   "metadata": {},
   "outputs": [],
   "source": [
    "sampleOf206Numbers=listOfRandomNumbers[0:206]\n",
    "sampleOf825Numbers= listOfRandomNumbers[206:]\n",
    "####This is just the same script repeated several times for the 5 subsets.\n",
    "####The last time, the length of the training and the test set changes, but the rest is the same\n",
    "\n",
    "##Creates the training part of the formula once you know the specific clusters in the training set\n",
    "\n",
    "dimensionTrainingSet = 825 #We divide 1031 by 5 for crossvalidation. We have 825 in the training and 206 in the test\n",
    "dimensionTestSet = 206\n",
    "identityMatrix=np.identity(dimensionTrainingSet)##Part of the formula\n",
    "specificGramMatrix = np.zeros((dimensionTrainingSet,dimensionTrainingSet))\n",
    "for i in range (0, dimensionTrainingSet):\n",
    "    for j in range (0, dimensionTrainingSet):\n",
    "        iIndex=sampleOf825Numbers[i]\n",
    "        jIndex=sampleOf825Numbers[j]\n",
    "        specificGramMatrix[i,j]=generalGramMatrix[iIndex,jIndex]\n",
    "inverseMatrix = np.linalg.inv( ( lambdaa * identityMatrix ) + specificGramMatrix )##Part of the formula"
   ]
  },
  {
   "cell_type": "code",
   "execution_count": 95,
   "metadata": {},
   "outputs": [],
   "source": [
    "def calculatingIOKRScore (xVector, yVector):\n",
    "    ky=np.zeros((dimensionTrainingSet,1))##kx lower case\n",
    "    kx=np.zeros((dimensionTrainingSet,1))##ky lower case\n",
    "    for i in range (0,dimensionTrainingSet):\n",
    "        iIndex=sampleOf825Numbers[i]\n",
    "        kx[i]=gaussianKernelForPfam(pfamVectorList[iIndex],xVector)\n",
    "        ky[i]=gaussianKernelForFingerprint(fingerprintVectorList[iIndex],yVector)\n",
    "    kyt=np.transpose(ky)##Transposing ky\n",
    "    result= np.matmul(np.matmul(kyt,inverseMatrix), kx)##Returns a number when doing the multiplication of the matrixes\n",
    "    return result"
   ]
  },
  {
   "cell_type": "code",
   "execution_count": 96,
   "metadata": {},
   "outputs": [],
   "source": [
    "score = np.zeros((206, 206))\n",
    "for i in range (0, 206):\n",
    "    for j in range (0, 206):\n",
    "        iIndex=sampleOf206Numbers[i]\n",
    "        jIndex=sampleOf206Numbers[j]\n",
    "        score[i,j]= calculatingIOKRScore(pfamVectorList[iIndex],fingerprintVectorList[jIndex])\n",
    "np.save(\"score11\",score)"
   ]
  },
  {
   "cell_type": "code",
   "execution_count": 97,
   "metadata": {},
   "outputs": [],
   "source": [
    "sampleOf206Numbers=listOfRandomNumbers[206:412]\n",
    "sampleOf825Numbers= listOfRandomNumbers[0:206]+listOfRandomNumbers[412:]\n",
    "##Creates the training part of the formula once you know the specific clusters in the training\n",
    "dimensionTrainingSet = 825 #We divide 1031 by 5 for crossvalidation. We have 825 in the rest\n",
    "dimensionTestSet = 206\n",
    "identityMatrix=np.identity(dimensionTrainingSet)##Part of the formula\n",
    "specificGramMatrix = np.zeros((dimensionTrainingSet,dimensionTrainingSet))\n",
    "for i in range (0, dimensionTrainingSet):\n",
    "    for j in range (0, dimensionTrainingSet):\n",
    "        iIndex=sampleOf825Numbers[i]\n",
    "        jIndex=sampleOf825Numbers[j]\n",
    "        specificGramMatrix[i,j]=generalGramMatrix[iIndex,jIndex]\n",
    "inverseMatrix = np.linalg.inv( ( lambdaa * identityMatrix ) + specificGramMatrix )##Part of the formula"
   ]
  },
  {
   "cell_type": "code",
   "execution_count": 98,
   "metadata": {},
   "outputs": [],
   "source": [
    "def calculatingIOKRScore (xVector, yVector):\n",
    "    ky=np.zeros((dimensionTrainingSet,1))##kx lower case\n",
    "    kx=np.zeros((dimensionTrainingSet,1))##ky lower case\n",
    "    for i in range (0,dimensionTrainingSet):\n",
    "        iIndex=sampleOf825Numbers[i]\n",
    "        kx[i]=gaussianKernelForPfam(pfamVectorList[iIndex],xVector)\n",
    "        ky[i]=gaussianKernelForFingerprint(fingerprintVectorList[iIndex],yVector)\n",
    "    kyt=np.transpose(ky)##Transposing ky\n",
    "    result= np.matmul(np.matmul(kyt,inverseMatrix), kx)##Returns a number when doing the multiplication of the matrixes\n",
    "    return result"
   ]
  },
  {
   "cell_type": "code",
   "execution_count": 99,
   "metadata": {},
   "outputs": [],
   "source": [
    "score2 = np.zeros((206, 206))\n",
    "for i in range (0, 206):\n",
    "    for j in range (0, 206):\n",
    "        iIndex=sampleOf206Numbers[i]\n",
    "        jIndex=sampleOf206Numbers[j]\n",
    "        score2[i,j]= calculatingIOKRScore(pfamVectorList[iIndex],fingerprintVectorList[jIndex])\n",
    "np.save(\"score12\",score2)"
   ]
  },
  {
   "cell_type": "code",
   "execution_count": 100,
   "metadata": {},
   "outputs": [],
   "source": [
    "sampleOf206Numbers=listOfRandomNumbers[412:618]\n",
    "sampleOf825Numbers= listOfRandomNumbers[0:412]+listOfRandomNumbers[618:]\n",
    "##Creates the training part of the formula once you know the specific clusters in the training\n",
    "dimensionTrainingSet = 825 #We divide 1031 by 5 for crossvalidation. We have 825 in the rest\n",
    "dimensionTestSet = 206\n",
    "identityMatrix=np.identity(dimensionTrainingSet)##Part of the formula\n",
    "specificGramMatrix = np.zeros((dimensionTrainingSet,dimensionTrainingSet))\n",
    "for i in range (0, dimensionTrainingSet):\n",
    "    for j in range (0, dimensionTrainingSet):\n",
    "        iIndex=sampleOf825Numbers[i]\n",
    "        jIndex=sampleOf825Numbers[j]\n",
    "        specificGramMatrix[i,j]=generalGramMatrix[iIndex,jIndex]\n",
    "inverseMatrix = np.linalg.inv( ( lambdaa * identityMatrix ) + specificGramMatrix )##Part of the formula"
   ]
  },
  {
   "cell_type": "code",
   "execution_count": 101,
   "metadata": {},
   "outputs": [],
   "source": [
    "def calculatingIOKRScore (xVector, yVector):\n",
    "    ky=np.zeros((dimensionTrainingSet,1))##kx lower case\n",
    "    kx=np.zeros((dimensionTrainingSet,1))##ky lower case\n",
    "    for i in range (0,dimensionTrainingSet):\n",
    "        iIndex=sampleOf825Numbers[i]\n",
    "        kx[i]=gaussianKernelForPfam(pfamVectorList[iIndex],xVector)\n",
    "        ky[i]=gaussianKernelForFingerprint(fingerprintVectorList[iIndex],yVector)\n",
    "    kyt=np.transpose(ky)##Transposing ky\n",
    "    result= np.matmul(np.matmul(kyt,inverseMatrix), kx)##Returns a number when doing the multiplication of the matrixes\n",
    "    return result"
   ]
  },
  {
   "cell_type": "code",
   "execution_count": 102,
   "metadata": {},
   "outputs": [],
   "source": [
    "score3 = np.zeros((206, 206))\n",
    "for i in range (0, 206):\n",
    "    for j in range (0, 206):\n",
    "        iIndex=sampleOf206Numbers[i]\n",
    "        jIndex=sampleOf206Numbers[j]\n",
    "        score3[i,j]= calculatingIOKRScore(pfamVectorList[iIndex],fingerprintVectorList[jIndex])\n",
    "np.save(\"score13\",score3)"
   ]
  },
  {
   "cell_type": "code",
   "execution_count": 103,
   "metadata": {},
   "outputs": [],
   "source": [
    "sampleOf206Numbers=listOfRandomNumbers[618:824]\n",
    "sampleOf825Numbers= listOfRandomNumbers[0:618]+listOfRandomNumbers[824:]\n",
    "##Creates the training part of the formula once you know the specific clusters in the training\n",
    "dimensionTrainingSet = 825 #We divide 1031 by 5 for crossvalidation. We have 825 in the rest\n",
    "dimensionTestSet = 206\n",
    "identityMatrix=np.identity(dimensionTrainingSet)##Part of the formula\n",
    "specificGramMatrix = np.zeros((dimensionTrainingSet,dimensionTrainingSet))\n",
    "for i in range (0, dimensionTrainingSet):\n",
    "    for j in range (0, dimensionTrainingSet):\n",
    "        iIndex=sampleOf825Numbers[i]\n",
    "        jIndex=sampleOf825Numbers[j]\n",
    "        specificGramMatrix[i,j]=generalGramMatrix[iIndex,jIndex]\n",
    "inverseMatrix = np.linalg.inv( ( lambdaa * identityMatrix ) + specificGramMatrix )##Part of the formula"
   ]
  },
  {
   "cell_type": "code",
   "execution_count": 104,
   "metadata": {},
   "outputs": [],
   "source": [
    "def calculatingIOKRScore (xVector, yVector):\n",
    "    ky=np.zeros((dimensionTrainingSet,1))##kx lower case\n",
    "    kx=np.zeros((dimensionTrainingSet,1))##ky lower case\n",
    "    for i in range (0,dimensionTrainingSet):\n",
    "        iIndex=sampleOf825Numbers[i]\n",
    "        kx[i]=gaussianKernelForPfam(pfamVectorList[iIndex],xVector)\n",
    "        ky[i]=gaussianKernelForFingerprint(fingerprintVectorList[iIndex],yVector)\n",
    "    kyt=np.transpose(ky)##Transposing ky\n",
    "    result= np.matmul(np.matmul(kyt,inverseMatrix), kx)##Returns a number when doing the multiplication of the matrixes\n",
    "    return result"
   ]
  },
  {
   "cell_type": "code",
   "execution_count": 105,
   "metadata": {},
   "outputs": [],
   "source": [
    "score4 = np.zeros((206, 206))\n",
    "for i in range (0, 206):\n",
    "    for j in range (0, 206):\n",
    "        iIndex=sampleOf206Numbers[i]\n",
    "        jIndex=sampleOf206Numbers[j]\n",
    "        score4[i,j]= calculatingIOKRScore(pfamVectorList[iIndex],fingerprintVectorList[jIndex])\n",
    "np.save(\"score14\",score4)"
   ]
  },
  {
   "cell_type": "code",
   "execution_count": 106,
   "metadata": {},
   "outputs": [],
   "source": [
    "sampleOf206Numbers=listOfRandomNumbers[824:]\n",
    "sampleOf825Numbers= listOfRandomNumbers[0:824]\n",
    "##Creates the training part of the formula once you know the specific clusters in the training\n",
    "dimensionTrainingSet = 824 #We divide 1031 by 5 for crossvalidation. We have 825 in the rest\n",
    "dimensionTestSet = 207\n",
    "identityMatrix=np.identity(dimensionTrainingSet)##Part of the formula\n",
    "specificGramMatrix = np.zeros((dimensionTrainingSet,dimensionTrainingSet))\n",
    "for i in range (0, dimensionTrainingSet):\n",
    "    for j in range (0, dimensionTrainingSet):\n",
    "        iIndex=sampleOf825Numbers[i]\n",
    "        jIndex=sampleOf825Numbers[j]\n",
    "        specificGramMatrix[i,j]=generalGramMatrix[iIndex,jIndex]\n",
    "inverseMatrix = np.linalg.inv( ( lambdaa * identityMatrix ) + specificGramMatrix )##Part of the formula"
   ]
  },
  {
   "cell_type": "code",
   "execution_count": 107,
   "metadata": {},
   "outputs": [],
   "source": [
    "def calculatingIOKRScore (xVector, yVector):\n",
    "    ky=np.zeros((dimensionTrainingSet,1))##kx lower case\n",
    "    kx=np.zeros((dimensionTrainingSet,1))##ky lower case\n",
    "    for i in range (0,dimensionTrainingSet):\n",
    "        iIndex=sampleOf825Numbers[i]\n",
    "        kx[i]=gaussianKernelForPfam(pfamVectorList[iIndex],xVector)\n",
    "        ky[i]=gaussianKernelForFingerprint(fingerprintVectorList[iIndex],yVector)\n",
    "    kyt=np.transpose(ky)##Transposing ky\n",
    "    result= np.matmul(np.matmul(kyt,inverseMatrix), kx)##Returns a number when doing the multiplication of the matrixes\n",
    "    return result"
   ]
  },
  {
   "cell_type": "code",
   "execution_count": 108,
   "metadata": {},
   "outputs": [],
   "source": [
    "score5 = np.zeros((207, 207))\n",
    "for i in range (0, 207):\n",
    "    for j in range (0, 207):\n",
    "        iIndex=sampleOf206Numbers[i]\n",
    "        jIndex=sampleOf206Numbers[j]\n",
    "        score5[i,j]= calculatingIOKRScore(pfamVectorList[iIndex],fingerprintVectorList[jIndex])\n",
    "np.save(\"score15\",score5)"
   ]
  },
  {
   "cell_type": "code",
   "execution_count": 109,
   "metadata": {},
   "outputs": [],
   "source": [
    "####The cell with import random has been deleted as we want to use the same order for all the parameters\n",
    "## GammaX = 0.003\n",
    "## GammaY = 0.01\n",
    "## Lambda = 0.01"
   ]
  },
  {
   "cell_type": "code",
   "execution_count": 110,
   "metadata": {},
   "outputs": [
    {
     "name": "stdout",
     "output_type": "stream",
     "text": [
      "C:\\Users\\Yoo\\Desktop\\summerProject\\hmmer-3.2.1\\trial\\usefulFiles\\machineLearningKernelPfamFingerPrints\\IKOR_TryingDifferentParameters\\sameOrderForAllConfigurations\\firstExperiment\n"
     ]
    }
   ],
   "source": [
    "cd C:\\Users\\Yoo\\Desktop\\summerProject\\hmmer-3.2.1\\trial\\usefulFiles\\machineLearningKernelPfamFingerPrints\\IKOR_TryingDifferentParameters\\sameOrderForAllConfigurations\\firstExperiment"
   ]
  },
  {
   "cell_type": "code",
   "execution_count": 111,
   "metadata": {},
   "outputs": [],
   "source": [
    "import numpy as np"
   ]
  },
  {
   "cell_type": "code",
   "execution_count": 112,
   "metadata": {},
   "outputs": [],
   "source": [
    "def convertStringIntoVector (String):##Receives a binary vector in the form of a String\n",
    "    intoList=list(String)\n",
    "    vector=np.asarray(intoList,dtype=int)\n",
    "    return vector"
   ]
  },
  {
   "cell_type": "code",
   "execution_count": 113,
   "metadata": {},
   "outputs": [],
   "source": [
    "def gaussianKernelForPfam (vector1, vector2):##Does the gaussian Kernel for two vectors\n",
    "    gamma=0.003\n",
    "    euclideanDistance=np.linalg.norm(vector1-vector2)\n",
    "    kernelValue=np.exp(-gamma*(euclideanDistance**2))\n",
    "    return kernelValue"
   ]
  },
  {
   "cell_type": "code",
   "execution_count": 114,
   "metadata": {},
   "outputs": [],
   "source": [
    "def gaussianKernelForFingerprint (vector1, vector2):##We can have a different gamma in this kernel if we want\n",
    "    gamma=0.01\n",
    "    euclideanDistance=np.linalg.norm(vector1-vector2)\n",
    "    kernelValue=np.exp(-gamma*(euclideanDistance**2))\n",
    "    return kernelValue"
   ]
  },
  {
   "cell_type": "code",
   "execution_count": 115,
   "metadata": {},
   "outputs": [],
   "source": [
    "##Opens the two files and creates one list of Strings for pfam and another one for fingerprints\n",
    "pfamFile= open (\"pfamDomains0and1ForAllClusters.txt\")\n",
    "pfamList=[]##List of Strings\n",
    "for line in pfamFile:\n",
    "    line=line.strip(\"\\n\")\n",
    "    pfamList.append(line[11:])\n",
    "pfamFile.close()\n",
    "fingerprintFile=open (\"fingerPrintsForIndividualClustersNOT478.txt\")\n",
    "fingerprintList=[]##List of strings\n",
    "for line in fingerprintFile:\n",
    "    line=line.strip(\"\\n\")\n",
    "    fingerprintList.append(line[11:])\n",
    "fingerprintFile.close()"
   ]
  },
  {
   "cell_type": "code",
   "execution_count": 116,
   "metadata": {},
   "outputs": [],
   "source": [
    "##Converts the Lists of strings into list of Vectors\n",
    "pfamVectorList=[]#List of vectors\n",
    "for pfamString in pfamList:\n",
    "    pfamVectorList.append(convertStringIntoVector(pfamString))\n",
    "fingerprintVectorList=[]##List of vectors\n",
    "for fingerprintString in fingerprintList:\n",
    "    fingerprintVectorList.append(convertStringIntoVector(fingerprintString))"
   ]
  },
  {
   "cell_type": "code",
   "execution_count": 117,
   "metadata": {},
   "outputs": [],
   "source": [
    "##Sets parameters for the training part of the formula (lambda*Identity*GramMatrix) and inverses it\n",
    "dimensionGeneralMatrix= len (pfamVectorList)\n",
    "lambdaa=0.01 #lambda seems to be a special character in python so lets put a double aa\n",
    "generalGramMatrix = np.zeros((dimensionGeneralMatrix,dimensionGeneralMatrix))\n",
    "for i in range (0, dimensionGeneralMatrix):\n",
    "    for j in range (0, dimensionGeneralMatrix):\n",
    "        generalGramMatrix [i,j]=gaussianKernelForPfam(pfamVectorList[i],pfamVectorList[j])#Kx with upper case"
   ]
  },
  {
   "cell_type": "code",
   "execution_count": 118,
   "metadata": {},
   "outputs": [],
   "source": [
    "sampleOf206Numbers=listOfRandomNumbers[0:206]\n",
    "sampleOf825Numbers= listOfRandomNumbers[206:]\n",
    "####This is just the same script repeated several times for the 5 subsets.\n",
    "####The last time, the length of the training and the test set changes, but the rest is the same\n",
    "\n",
    "##Creates the training part of the formula once you know the specific clusters in the training set\n",
    "\n",
    "dimensionTrainingSet = 825 #We divide 1031 by 5 for crossvalidation. We have 825 in the training and 206 in the test\n",
    "dimensionTestSet = 206\n",
    "identityMatrix=np.identity(dimensionTrainingSet)##Part of the formula\n",
    "specificGramMatrix = np.zeros((dimensionTrainingSet,dimensionTrainingSet))\n",
    "for i in range (0, dimensionTrainingSet):\n",
    "    for j in range (0, dimensionTrainingSet):\n",
    "        iIndex=sampleOf825Numbers[i]\n",
    "        jIndex=sampleOf825Numbers[j]\n",
    "        specificGramMatrix[i,j]=generalGramMatrix[iIndex,jIndex]\n",
    "inverseMatrix = np.linalg.inv( ( lambdaa * identityMatrix ) + specificGramMatrix )##Part of the formula"
   ]
  },
  {
   "cell_type": "code",
   "execution_count": 119,
   "metadata": {},
   "outputs": [],
   "source": [
    "def calculatingIOKRScore (xVector, yVector):\n",
    "    ky=np.zeros((dimensionTrainingSet,1))##kx lower case\n",
    "    kx=np.zeros((dimensionTrainingSet,1))##ky lower case\n",
    "    for i in range (0,dimensionTrainingSet):\n",
    "        iIndex=sampleOf825Numbers[i]\n",
    "        kx[i]=gaussianKernelForPfam(pfamVectorList[iIndex],xVector)\n",
    "        ky[i]=gaussianKernelForFingerprint(fingerprintVectorList[iIndex],yVector)\n",
    "    kyt=np.transpose(ky)##Transposing ky\n",
    "    result= np.matmul(np.matmul(kyt,inverseMatrix), kx)##Returns a number when doing the multiplication of the matrixes\n",
    "    return result"
   ]
  },
  {
   "cell_type": "code",
   "execution_count": 120,
   "metadata": {},
   "outputs": [],
   "source": [
    "score = np.zeros((206, 206))\n",
    "for i in range (0, 206):\n",
    "    for j in range (0, 206):\n",
    "        iIndex=sampleOf206Numbers[i]\n",
    "        jIndex=sampleOf206Numbers[j]\n",
    "        score[i,j]= calculatingIOKRScore(pfamVectorList[iIndex],fingerprintVectorList[jIndex])\n",
    "np.save(\"score16\",score)"
   ]
  },
  {
   "cell_type": "code",
   "execution_count": 121,
   "metadata": {},
   "outputs": [],
   "source": [
    "sampleOf206Numbers=listOfRandomNumbers[206:412]\n",
    "sampleOf825Numbers= listOfRandomNumbers[0:206]+listOfRandomNumbers[412:]\n",
    "##Creates the training part of the formula once you know the specific clusters in the training\n",
    "dimensionTrainingSet = 825 #We divide 1031 by 5 for crossvalidation. We have 825 in the rest\n",
    "dimensionTestSet = 206\n",
    "identityMatrix=np.identity(dimensionTrainingSet)##Part of the formula\n",
    "specificGramMatrix = np.zeros((dimensionTrainingSet,dimensionTrainingSet))\n",
    "for i in range (0, dimensionTrainingSet):\n",
    "    for j in range (0, dimensionTrainingSet):\n",
    "        iIndex=sampleOf825Numbers[i]\n",
    "        jIndex=sampleOf825Numbers[j]\n",
    "        specificGramMatrix[i,j]=generalGramMatrix[iIndex,jIndex]\n",
    "inverseMatrix = np.linalg.inv( ( lambdaa * identityMatrix ) + specificGramMatrix )##Part of the formula"
   ]
  },
  {
   "cell_type": "code",
   "execution_count": 122,
   "metadata": {},
   "outputs": [],
   "source": [
    "def calculatingIOKRScore (xVector, yVector):\n",
    "    ky=np.zeros((dimensionTrainingSet,1))##kx lower case\n",
    "    kx=np.zeros((dimensionTrainingSet,1))##ky lower case\n",
    "    for i in range (0,dimensionTrainingSet):\n",
    "        iIndex=sampleOf825Numbers[i]\n",
    "        kx[i]=gaussianKernelForPfam(pfamVectorList[iIndex],xVector)\n",
    "        ky[i]=gaussianKernelForFingerprint(fingerprintVectorList[iIndex],yVector)\n",
    "    kyt=np.transpose(ky)##Transposing ky\n",
    "    result= np.matmul(np.matmul(kyt,inverseMatrix), kx)##Returns a number when doing the multiplication of the matrixes\n",
    "    return result"
   ]
  },
  {
   "cell_type": "code",
   "execution_count": 123,
   "metadata": {},
   "outputs": [],
   "source": [
    "score2 = np.zeros((206, 206))\n",
    "for i in range (0, 206):\n",
    "    for j in range (0, 206):\n",
    "        iIndex=sampleOf206Numbers[i]\n",
    "        jIndex=sampleOf206Numbers[j]\n",
    "        score2[i,j]= calculatingIOKRScore(pfamVectorList[iIndex],fingerprintVectorList[jIndex])\n",
    "np.save(\"score17\",score2)"
   ]
  },
  {
   "cell_type": "code",
   "execution_count": 124,
   "metadata": {},
   "outputs": [],
   "source": [
    "sampleOf206Numbers=listOfRandomNumbers[412:618]\n",
    "sampleOf825Numbers= listOfRandomNumbers[0:412]+listOfRandomNumbers[618:]\n",
    "##Creates the training part of the formula once you know the specific clusters in the training\n",
    "dimensionTrainingSet = 825 #We divide 1031 by 5 for crossvalidation. We have 825 in the rest\n",
    "dimensionTestSet = 206\n",
    "identityMatrix=np.identity(dimensionTrainingSet)##Part of the formula\n",
    "specificGramMatrix = np.zeros((dimensionTrainingSet,dimensionTrainingSet))\n",
    "for i in range (0, dimensionTrainingSet):\n",
    "    for j in range (0, dimensionTrainingSet):\n",
    "        iIndex=sampleOf825Numbers[i]\n",
    "        jIndex=sampleOf825Numbers[j]\n",
    "        specificGramMatrix[i,j]=generalGramMatrix[iIndex,jIndex]\n",
    "inverseMatrix = np.linalg.inv( ( lambdaa * identityMatrix ) + specificGramMatrix )##Part of the formula"
   ]
  },
  {
   "cell_type": "code",
   "execution_count": 125,
   "metadata": {},
   "outputs": [],
   "source": [
    "def calculatingIOKRScore (xVector, yVector):\n",
    "    ky=np.zeros((dimensionTrainingSet,1))##kx lower case\n",
    "    kx=np.zeros((dimensionTrainingSet,1))##ky lower case\n",
    "    for i in range (0,dimensionTrainingSet):\n",
    "        iIndex=sampleOf825Numbers[i]\n",
    "        kx[i]=gaussianKernelForPfam(pfamVectorList[iIndex],xVector)\n",
    "        ky[i]=gaussianKernelForFingerprint(fingerprintVectorList[iIndex],yVector)\n",
    "    kyt=np.transpose(ky)##Transposing ky\n",
    "    result= np.matmul(np.matmul(kyt,inverseMatrix), kx)##Returns a number when doing the multiplication of the matrixes\n",
    "    return result"
   ]
  },
  {
   "cell_type": "code",
   "execution_count": 126,
   "metadata": {},
   "outputs": [],
   "source": [
    "score3 = np.zeros((206, 206))\n",
    "for i in range (0, 206):\n",
    "    for j in range (0, 206):\n",
    "        iIndex=sampleOf206Numbers[i]\n",
    "        jIndex=sampleOf206Numbers[j]\n",
    "        score3[i,j]= calculatingIOKRScore(pfamVectorList[iIndex],fingerprintVectorList[jIndex])\n",
    "np.save(\"score18\",score3)"
   ]
  },
  {
   "cell_type": "code",
   "execution_count": 127,
   "metadata": {},
   "outputs": [],
   "source": [
    "sampleOf206Numbers=listOfRandomNumbers[618:824]\n",
    "sampleOf825Numbers= listOfRandomNumbers[0:618]+listOfRandomNumbers[824:]\n",
    "##Creates the training part of the formula once you know the specific clusters in the training\n",
    "dimensionTrainingSet = 825 #We divide 1031 by 5 for crossvalidation. We have 825 in the rest\n",
    "dimensionTestSet = 206\n",
    "identityMatrix=np.identity(dimensionTrainingSet)##Part of the formula\n",
    "specificGramMatrix = np.zeros((dimensionTrainingSet,dimensionTrainingSet))\n",
    "for i in range (0, dimensionTrainingSet):\n",
    "    for j in range (0, dimensionTrainingSet):\n",
    "        iIndex=sampleOf825Numbers[i]\n",
    "        jIndex=sampleOf825Numbers[j]\n",
    "        specificGramMatrix[i,j]=generalGramMatrix[iIndex,jIndex]\n",
    "inverseMatrix = np.linalg.inv( ( lambdaa * identityMatrix ) + specificGramMatrix )##Part of the formula"
   ]
  },
  {
   "cell_type": "code",
   "execution_count": 128,
   "metadata": {},
   "outputs": [],
   "source": [
    "def calculatingIOKRScore (xVector, yVector):\n",
    "    ky=np.zeros((dimensionTrainingSet,1))##kx lower case\n",
    "    kx=np.zeros((dimensionTrainingSet,1))##ky lower case\n",
    "    for i in range (0,dimensionTrainingSet):\n",
    "        iIndex=sampleOf825Numbers[i]\n",
    "        kx[i]=gaussianKernelForPfam(pfamVectorList[iIndex],xVector)\n",
    "        ky[i]=gaussianKernelForFingerprint(fingerprintVectorList[iIndex],yVector)\n",
    "    kyt=np.transpose(ky)##Transposing ky\n",
    "    result= np.matmul(np.matmul(kyt,inverseMatrix), kx)##Returns a number when doing the multiplication of the matrixes\n",
    "    return result"
   ]
  },
  {
   "cell_type": "code",
   "execution_count": 129,
   "metadata": {},
   "outputs": [],
   "source": [
    "score4 = np.zeros((206, 206))\n",
    "for i in range (0, 206):\n",
    "    for j in range (0, 206):\n",
    "        iIndex=sampleOf206Numbers[i]\n",
    "        jIndex=sampleOf206Numbers[j]\n",
    "        score4[i,j]= calculatingIOKRScore(pfamVectorList[iIndex],fingerprintVectorList[jIndex])\n",
    "np.save(\"score19\",score4)"
   ]
  },
  {
   "cell_type": "code",
   "execution_count": 130,
   "metadata": {},
   "outputs": [],
   "source": [
    "sampleOf206Numbers=listOfRandomNumbers[824:]\n",
    "sampleOf825Numbers= listOfRandomNumbers[0:824]\n",
    "##Creates the training part of the formula once you know the specific clusters in the training\n",
    "dimensionTrainingSet = 824 #We divide 1031 by 5 for crossvalidation. We have 825 in the rest\n",
    "dimensionTestSet = 207\n",
    "identityMatrix=np.identity(dimensionTrainingSet)##Part of the formula\n",
    "specificGramMatrix = np.zeros((dimensionTrainingSet,dimensionTrainingSet))\n",
    "for i in range (0, dimensionTrainingSet):\n",
    "    for j in range (0, dimensionTrainingSet):\n",
    "        iIndex=sampleOf825Numbers[i]\n",
    "        jIndex=sampleOf825Numbers[j]\n",
    "        specificGramMatrix[i,j]=generalGramMatrix[iIndex,jIndex]\n",
    "inverseMatrix = np.linalg.inv( ( lambdaa * identityMatrix ) + specificGramMatrix )##Part of the formula"
   ]
  },
  {
   "cell_type": "code",
   "execution_count": 131,
   "metadata": {},
   "outputs": [],
   "source": [
    "def calculatingIOKRScore (xVector, yVector):\n",
    "    ky=np.zeros((dimensionTrainingSet,1))##kx lower case\n",
    "    kx=np.zeros((dimensionTrainingSet,1))##ky lower case\n",
    "    for i in range (0,dimensionTrainingSet):\n",
    "        iIndex=sampleOf825Numbers[i]\n",
    "        kx[i]=gaussianKernelForPfam(pfamVectorList[iIndex],xVector)\n",
    "        ky[i]=gaussianKernelForFingerprint(fingerprintVectorList[iIndex],yVector)\n",
    "    kyt=np.transpose(ky)##Transposing ky\n",
    "    result= np.matmul(np.matmul(kyt,inverseMatrix), kx)##Returns a number when doing the multiplication of the matrixes\n",
    "    return result"
   ]
  },
  {
   "cell_type": "code",
   "execution_count": 132,
   "metadata": {},
   "outputs": [],
   "source": [
    "score5 = np.zeros((207, 207))\n",
    "for i in range (0, 207):\n",
    "    for j in range (0, 207):\n",
    "        iIndex=sampleOf206Numbers[i]\n",
    "        jIndex=sampleOf206Numbers[j]\n",
    "        score5[i,j]= calculatingIOKRScore(pfamVectorList[iIndex],fingerprintVectorList[jIndex])\n",
    "np.save(\"score20\",score5)"
   ]
  },
  {
   "cell_type": "code",
   "execution_count": 133,
   "metadata": {},
   "outputs": [],
   "source": [
    "####The cell with import random has been deleted as we want to use the same order for all the parameters\n",
    "## GammaX = 0.003\n",
    "## GammaY = 0.03\n",
    "## Lambda = 0.01"
   ]
  },
  {
   "cell_type": "code",
   "execution_count": 134,
   "metadata": {},
   "outputs": [
    {
     "name": "stdout",
     "output_type": "stream",
     "text": [
      "C:\\Users\\Yoo\\Desktop\\summerProject\\hmmer-3.2.1\\trial\\usefulFiles\\machineLearningKernelPfamFingerPrints\\IKOR_TryingDifferentParameters\\sameOrderForAllConfigurations\\firstExperiment\n"
     ]
    }
   ],
   "source": [
    "cd C:\\Users\\Yoo\\Desktop\\summerProject\\hmmer-3.2.1\\trial\\usefulFiles\\machineLearningKernelPfamFingerPrints\\IKOR_TryingDifferentParameters\\sameOrderForAllConfigurations\\firstExperiment"
   ]
  },
  {
   "cell_type": "code",
   "execution_count": 135,
   "metadata": {},
   "outputs": [],
   "source": [
    "import numpy as np"
   ]
  },
  {
   "cell_type": "code",
   "execution_count": 136,
   "metadata": {},
   "outputs": [],
   "source": [
    "def convertStringIntoVector (String):##Receives a binary vector in the form of a String\n",
    "    intoList=list(String)\n",
    "    vector=np.asarray(intoList,dtype=int)\n",
    "    return vector"
   ]
  },
  {
   "cell_type": "code",
   "execution_count": 137,
   "metadata": {},
   "outputs": [],
   "source": [
    "def gaussianKernelForPfam (vector1, vector2):##Does the gaussian Kernel for two vectors\n",
    "    gamma=0.003\n",
    "    euclideanDistance=np.linalg.norm(vector1-vector2)\n",
    "    kernelValue=np.exp(-gamma*(euclideanDistance**2))\n",
    "    return kernelValue"
   ]
  },
  {
   "cell_type": "code",
   "execution_count": 138,
   "metadata": {},
   "outputs": [],
   "source": [
    "def gaussianKernelForFingerprint (vector1, vector2):##We can have a different gamma in this kernel if we want\n",
    "    gamma=0.03\n",
    "    euclideanDistance=np.linalg.norm(vector1-vector2)\n",
    "    kernelValue=np.exp(-gamma*(euclideanDistance**2))\n",
    "    return kernelValue"
   ]
  },
  {
   "cell_type": "code",
   "execution_count": 139,
   "metadata": {},
   "outputs": [],
   "source": [
    "##Opens the two files and creates one list of Strings for pfam and another one for fingerprints\n",
    "pfamFile= open (\"pfamDomains0and1ForAllClusters.txt\")\n",
    "pfamList=[]##List of Strings\n",
    "for line in pfamFile:\n",
    "    line=line.strip(\"\\n\")\n",
    "    pfamList.append(line[11:])\n",
    "pfamFile.close()\n",
    "fingerprintFile=open (\"fingerPrintsForIndividualClustersNOT478.txt\")\n",
    "fingerprintList=[]##List of strings\n",
    "for line in fingerprintFile:\n",
    "    line=line.strip(\"\\n\")\n",
    "    fingerprintList.append(line[11:])\n",
    "fingerprintFile.close()"
   ]
  },
  {
   "cell_type": "code",
   "execution_count": 140,
   "metadata": {},
   "outputs": [],
   "source": [
    "##Converts the Lists of strings into list of Vectors\n",
    "pfamVectorList=[]#List of vectors\n",
    "for pfamString in pfamList:\n",
    "    pfamVectorList.append(convertStringIntoVector(pfamString))\n",
    "fingerprintVectorList=[]##List of vectors\n",
    "for fingerprintString in fingerprintList:\n",
    "    fingerprintVectorList.append(convertStringIntoVector(fingerprintString))"
   ]
  },
  {
   "cell_type": "code",
   "execution_count": 141,
   "metadata": {},
   "outputs": [],
   "source": [
    "##Sets parameters for the training part of the formula (lambda*Identity*GramMatrix) and inverses it\n",
    "dimensionGeneralMatrix= len (pfamVectorList)\n",
    "lambdaa=0.01 #lambda seems to be a special character in python so lets put a double aa\n",
    "generalGramMatrix = np.zeros((dimensionGeneralMatrix,dimensionGeneralMatrix))\n",
    "for i in range (0, dimensionGeneralMatrix):\n",
    "    for j in range (0, dimensionGeneralMatrix):\n",
    "        generalGramMatrix [i,j]=gaussianKernelForPfam(pfamVectorList[i],pfamVectorList[j])#Kx with upper case"
   ]
  },
  {
   "cell_type": "code",
   "execution_count": 142,
   "metadata": {},
   "outputs": [],
   "source": [
    "sampleOf206Numbers=listOfRandomNumbers[0:206]\n",
    "sampleOf825Numbers= listOfRandomNumbers[206:]\n",
    "####This is just the same script repeated several times for the 5 subsets.\n",
    "####The last time, the length of the training and the test set changes, but the rest is the same\n",
    "\n",
    "##Creates the training part of the formula once you know the specific clusters in the training set\n",
    "\n",
    "dimensionTrainingSet = 825 #We divide 1031 by 5 for crossvalidation. We have 825 in the training and 206 in the test\n",
    "dimensionTestSet = 206\n",
    "identityMatrix=np.identity(dimensionTrainingSet)##Part of the formula\n",
    "specificGramMatrix = np.zeros((dimensionTrainingSet,dimensionTrainingSet))\n",
    "for i in range (0, dimensionTrainingSet):\n",
    "    for j in range (0, dimensionTrainingSet):\n",
    "        iIndex=sampleOf825Numbers[i]\n",
    "        jIndex=sampleOf825Numbers[j]\n",
    "        specificGramMatrix[i,j]=generalGramMatrix[iIndex,jIndex]\n",
    "inverseMatrix = np.linalg.inv( ( lambdaa * identityMatrix ) + specificGramMatrix )##Part of the formula"
   ]
  },
  {
   "cell_type": "code",
   "execution_count": 143,
   "metadata": {},
   "outputs": [],
   "source": [
    "def calculatingIOKRScore (xVector, yVector):\n",
    "    ky=np.zeros((dimensionTrainingSet,1))##kx lower case\n",
    "    kx=np.zeros((dimensionTrainingSet,1))##ky lower case\n",
    "    for i in range (0,dimensionTrainingSet):\n",
    "        iIndex=sampleOf825Numbers[i]\n",
    "        kx[i]=gaussianKernelForPfam(pfamVectorList[iIndex],xVector)\n",
    "        ky[i]=gaussianKernelForFingerprint(fingerprintVectorList[iIndex],yVector)\n",
    "    kyt=np.transpose(ky)##Transposing ky\n",
    "    result= np.matmul(np.matmul(kyt,inverseMatrix), kx)##Returns a number when doing the multiplication of the matrixes\n",
    "    return result"
   ]
  },
  {
   "cell_type": "code",
   "execution_count": 144,
   "metadata": {},
   "outputs": [],
   "source": [
    "score = np.zeros((206, 206))\n",
    "for i in range (0, 206):\n",
    "    for j in range (0, 206):\n",
    "        iIndex=sampleOf206Numbers[i]\n",
    "        jIndex=sampleOf206Numbers[j]\n",
    "        score[i,j]= calculatingIOKRScore(pfamVectorList[iIndex],fingerprintVectorList[jIndex])\n",
    "np.save(\"score21\",score)"
   ]
  },
  {
   "cell_type": "code",
   "execution_count": 145,
   "metadata": {},
   "outputs": [],
   "source": [
    "sampleOf206Numbers=listOfRandomNumbers[206:412]\n",
    "sampleOf825Numbers= listOfRandomNumbers[0:206]+listOfRandomNumbers[412:]\n",
    "##Creates the training part of the formula once you know the specific clusters in the training\n",
    "dimensionTrainingSet = 825 #We divide 1031 by 5 for crossvalidation. We have 825 in the rest\n",
    "dimensionTestSet = 206\n",
    "identityMatrix=np.identity(dimensionTrainingSet)##Part of the formula\n",
    "specificGramMatrix = np.zeros((dimensionTrainingSet,dimensionTrainingSet))\n",
    "for i in range (0, dimensionTrainingSet):\n",
    "    for j in range (0, dimensionTrainingSet):\n",
    "        iIndex=sampleOf825Numbers[i]\n",
    "        jIndex=sampleOf825Numbers[j]\n",
    "        specificGramMatrix[i,j]=generalGramMatrix[iIndex,jIndex]\n",
    "inverseMatrix = np.linalg.inv( ( lambdaa * identityMatrix ) + specificGramMatrix )##Part of the formula"
   ]
  },
  {
   "cell_type": "code",
   "execution_count": 146,
   "metadata": {},
   "outputs": [],
   "source": [
    "def calculatingIOKRScore (xVector, yVector):\n",
    "    ky=np.zeros((dimensionTrainingSet,1))##kx lower case\n",
    "    kx=np.zeros((dimensionTrainingSet,1))##ky lower case\n",
    "    for i in range (0,dimensionTrainingSet):\n",
    "        iIndex=sampleOf825Numbers[i]\n",
    "        kx[i]=gaussianKernelForPfam(pfamVectorList[iIndex],xVector)\n",
    "        ky[i]=gaussianKernelForFingerprint(fingerprintVectorList[iIndex],yVector)\n",
    "    kyt=np.transpose(ky)##Transposing ky\n",
    "    result= np.matmul(np.matmul(kyt,inverseMatrix), kx)##Returns a number when doing the multiplication of the matrixes\n",
    "    return result"
   ]
  },
  {
   "cell_type": "code",
   "execution_count": 147,
   "metadata": {},
   "outputs": [],
   "source": [
    "score2 = np.zeros((206, 206))\n",
    "for i in range (0, 206):\n",
    "    for j in range (0, 206):\n",
    "        iIndex=sampleOf206Numbers[i]\n",
    "        jIndex=sampleOf206Numbers[j]\n",
    "        score2[i,j]= calculatingIOKRScore(pfamVectorList[iIndex],fingerprintVectorList[jIndex])\n",
    "np.save(\"score22\",score2)"
   ]
  },
  {
   "cell_type": "code",
   "execution_count": 148,
   "metadata": {},
   "outputs": [],
   "source": [
    "sampleOf206Numbers=listOfRandomNumbers[412:618]\n",
    "sampleOf825Numbers= listOfRandomNumbers[0:412]+listOfRandomNumbers[618:]\n",
    "##Creates the training part of the formula once you know the specific clusters in the training\n",
    "dimensionTrainingSet = 825 #We divide 1031 by 5 for crossvalidation. We have 825 in the rest\n",
    "dimensionTestSet = 206\n",
    "identityMatrix=np.identity(dimensionTrainingSet)##Part of the formula\n",
    "specificGramMatrix = np.zeros((dimensionTrainingSet,dimensionTrainingSet))\n",
    "for i in range (0, dimensionTrainingSet):\n",
    "    for j in range (0, dimensionTrainingSet):\n",
    "        iIndex=sampleOf825Numbers[i]\n",
    "        jIndex=sampleOf825Numbers[j]\n",
    "        specificGramMatrix[i,j]=generalGramMatrix[iIndex,jIndex]\n",
    "inverseMatrix = np.linalg.inv( ( lambdaa * identityMatrix ) + specificGramMatrix )##Part of the formula"
   ]
  },
  {
   "cell_type": "code",
   "execution_count": 149,
   "metadata": {},
   "outputs": [],
   "source": [
    "def calculatingIOKRScore (xVector, yVector):\n",
    "    ky=np.zeros((dimensionTrainingSet,1))##kx lower case\n",
    "    kx=np.zeros((dimensionTrainingSet,1))##ky lower case\n",
    "    for i in range (0,dimensionTrainingSet):\n",
    "        iIndex=sampleOf825Numbers[i]\n",
    "        kx[i]=gaussianKernelForPfam(pfamVectorList[iIndex],xVector)\n",
    "        ky[i]=gaussianKernelForFingerprint(fingerprintVectorList[iIndex],yVector)\n",
    "    kyt=np.transpose(ky)##Transposing ky\n",
    "    result= np.matmul(np.matmul(kyt,inverseMatrix), kx)##Returns a number when doing the multiplication of the matrixes\n",
    "    return result"
   ]
  },
  {
   "cell_type": "code",
   "execution_count": 150,
   "metadata": {},
   "outputs": [],
   "source": [
    "score3 = np.zeros((206, 206))\n",
    "for i in range (0, 206):\n",
    "    for j in range (0, 206):\n",
    "        iIndex=sampleOf206Numbers[i]\n",
    "        jIndex=sampleOf206Numbers[j]\n",
    "        score3[i,j]= calculatingIOKRScore(pfamVectorList[iIndex],fingerprintVectorList[jIndex])\n",
    "np.save(\"score23\",score3)"
   ]
  },
  {
   "cell_type": "code",
   "execution_count": 151,
   "metadata": {},
   "outputs": [],
   "source": [
    "sampleOf206Numbers=listOfRandomNumbers[618:824]\n",
    "sampleOf825Numbers= listOfRandomNumbers[0:618]+listOfRandomNumbers[824:]\n",
    "##Creates the training part of the formula once you know the specific clusters in the training\n",
    "dimensionTrainingSet = 825 #We divide 1031 by 5 for crossvalidation. We have 825 in the rest\n",
    "dimensionTestSet = 206\n",
    "identityMatrix=np.identity(dimensionTrainingSet)##Part of the formula\n",
    "specificGramMatrix = np.zeros((dimensionTrainingSet,dimensionTrainingSet))\n",
    "for i in range (0, dimensionTrainingSet):\n",
    "    for j in range (0, dimensionTrainingSet):\n",
    "        iIndex=sampleOf825Numbers[i]\n",
    "        jIndex=sampleOf825Numbers[j]\n",
    "        specificGramMatrix[i,j]=generalGramMatrix[iIndex,jIndex]\n",
    "inverseMatrix = np.linalg.inv( ( lambdaa * identityMatrix ) + specificGramMatrix )##Part of the formula"
   ]
  },
  {
   "cell_type": "code",
   "execution_count": 152,
   "metadata": {},
   "outputs": [],
   "source": [
    "def calculatingIOKRScore (xVector, yVector):\n",
    "    ky=np.zeros((dimensionTrainingSet,1))##kx lower case\n",
    "    kx=np.zeros((dimensionTrainingSet,1))##ky lower case\n",
    "    for i in range (0,dimensionTrainingSet):\n",
    "        iIndex=sampleOf825Numbers[i]\n",
    "        kx[i]=gaussianKernelForPfam(pfamVectorList[iIndex],xVector)\n",
    "        ky[i]=gaussianKernelForFingerprint(fingerprintVectorList[iIndex],yVector)\n",
    "    kyt=np.transpose(ky)##Transposing ky\n",
    "    result= np.matmul(np.matmul(kyt,inverseMatrix), kx)##Returns a number when doing the multiplication of the matrixes\n",
    "    return result"
   ]
  },
  {
   "cell_type": "code",
   "execution_count": 153,
   "metadata": {},
   "outputs": [],
   "source": [
    "score4 = np.zeros((206, 206))\n",
    "for i in range (0, 206):\n",
    "    for j in range (0, 206):\n",
    "        iIndex=sampleOf206Numbers[i]\n",
    "        jIndex=sampleOf206Numbers[j]\n",
    "        score4[i,j]= calculatingIOKRScore(pfamVectorList[iIndex],fingerprintVectorList[jIndex])\n",
    "np.save(\"score24\",score4)"
   ]
  },
  {
   "cell_type": "code",
   "execution_count": 154,
   "metadata": {},
   "outputs": [],
   "source": [
    "sampleOf206Numbers=listOfRandomNumbers[824:]\n",
    "sampleOf825Numbers= listOfRandomNumbers[0:824]\n",
    "##Creates the training part of the formula once you know the specific clusters in the training\n",
    "dimensionTrainingSet = 824 #We divide 1031 by 5 for crossvalidation. We have 825 in the rest\n",
    "dimensionTestSet = 207\n",
    "identityMatrix=np.identity(dimensionTrainingSet)##Part of the formula\n",
    "specificGramMatrix = np.zeros((dimensionTrainingSet,dimensionTrainingSet))\n",
    "for i in range (0, dimensionTrainingSet):\n",
    "    for j in range (0, dimensionTrainingSet):\n",
    "        iIndex=sampleOf825Numbers[i]\n",
    "        jIndex=sampleOf825Numbers[j]\n",
    "        specificGramMatrix[i,j]=generalGramMatrix[iIndex,jIndex]\n",
    "inverseMatrix = np.linalg.inv( ( lambdaa * identityMatrix ) + specificGramMatrix )##Part of the formula"
   ]
  },
  {
   "cell_type": "code",
   "execution_count": 155,
   "metadata": {},
   "outputs": [],
   "source": [
    "def calculatingIOKRScore (xVector, yVector):\n",
    "    ky=np.zeros((dimensionTrainingSet,1))##kx lower case\n",
    "    kx=np.zeros((dimensionTrainingSet,1))##ky lower case\n",
    "    for i in range (0,dimensionTrainingSet):\n",
    "        iIndex=sampleOf825Numbers[i]\n",
    "        kx[i]=gaussianKernelForPfam(pfamVectorList[iIndex],xVector)\n",
    "        ky[i]=gaussianKernelForFingerprint(fingerprintVectorList[iIndex],yVector)\n",
    "    kyt=np.transpose(ky)##Transposing ky\n",
    "    result= np.matmul(np.matmul(kyt,inverseMatrix), kx)##Returns a number when doing the multiplication of the matrixes\n",
    "    return result"
   ]
  },
  {
   "cell_type": "code",
   "execution_count": 156,
   "metadata": {},
   "outputs": [],
   "source": [
    "score5 = np.zeros((207, 207))\n",
    "for i in range (0, 207):\n",
    "    for j in range (0, 207):\n",
    "        iIndex=sampleOf206Numbers[i]\n",
    "        jIndex=sampleOf206Numbers[j]\n",
    "        score5[i,j]= calculatingIOKRScore(pfamVectorList[iIndex],fingerprintVectorList[jIndex])\n",
    "np.save(\"score25\",score5)"
   ]
  },
  {
   "cell_type": "code",
   "execution_count": 157,
   "metadata": {},
   "outputs": [],
   "source": [
    "####The cell with import random has been deleted as we want to use the same order for all the parameters\n",
    "## GammaX = 0.003\n",
    "## GammaY = 0.1\n",
    "## Lambda = 0.01"
   ]
  },
  {
   "cell_type": "code",
   "execution_count": 158,
   "metadata": {},
   "outputs": [
    {
     "name": "stdout",
     "output_type": "stream",
     "text": [
      "C:\\Users\\Yoo\\Desktop\\summerProject\\hmmer-3.2.1\\trial\\usefulFiles\\machineLearningKernelPfamFingerPrints\\IKOR_TryingDifferentParameters\\sameOrderForAllConfigurations\\firstExperiment\n"
     ]
    }
   ],
   "source": [
    "cd C:\\Users\\Yoo\\Desktop\\summerProject\\hmmer-3.2.1\\trial\\usefulFiles\\machineLearningKernelPfamFingerPrints\\IKOR_TryingDifferentParameters\\sameOrderForAllConfigurations\\firstExperiment"
   ]
  },
  {
   "cell_type": "code",
   "execution_count": 159,
   "metadata": {},
   "outputs": [],
   "source": [
    "import numpy as np"
   ]
  },
  {
   "cell_type": "code",
   "execution_count": 160,
   "metadata": {},
   "outputs": [],
   "source": [
    "def convertStringIntoVector (String):##Receives a binary vector in the form of a String\n",
    "    intoList=list(String)\n",
    "    vector=np.asarray(intoList,dtype=int)\n",
    "    return vector"
   ]
  },
  {
   "cell_type": "code",
   "execution_count": 161,
   "metadata": {},
   "outputs": [],
   "source": [
    "def gaussianKernelForPfam (vector1, vector2):##Does the gaussian Kernel for two vectors\n",
    "    gamma=0.003\n",
    "    euclideanDistance=np.linalg.norm(vector1-vector2)\n",
    "    kernelValue=np.exp(-gamma*(euclideanDistance**2))\n",
    "    return kernelValue"
   ]
  },
  {
   "cell_type": "code",
   "execution_count": 162,
   "metadata": {},
   "outputs": [],
   "source": [
    "def gaussianKernelForFingerprint (vector1, vector2):##We can have a different gamma in this kernel if we want\n",
    "    gamma=0.1\n",
    "    euclideanDistance=np.linalg.norm(vector1-vector2)\n",
    "    kernelValue=np.exp(-gamma*(euclideanDistance**2))\n",
    "    return kernelValue"
   ]
  },
  {
   "cell_type": "code",
   "execution_count": 163,
   "metadata": {},
   "outputs": [],
   "source": [
    "##Opens the two files and creates one list of Strings for pfam and another one for fingerprints\n",
    "pfamFile= open (\"pfamDomains0and1ForAllClusters.txt\")\n",
    "pfamList=[]##List of Strings\n",
    "for line in pfamFile:\n",
    "    line=line.strip(\"\\n\")\n",
    "    pfamList.append(line[11:])\n",
    "pfamFile.close()\n",
    "fingerprintFile=open (\"fingerPrintsForIndividualClustersNOT478.txt\")\n",
    "fingerprintList=[]##List of strings\n",
    "for line in fingerprintFile:\n",
    "    line=line.strip(\"\\n\")\n",
    "    fingerprintList.append(line[11:])\n",
    "fingerprintFile.close()"
   ]
  },
  {
   "cell_type": "code",
   "execution_count": 164,
   "metadata": {},
   "outputs": [],
   "source": [
    "##Converts the Lists of strings into list of Vectors\n",
    "pfamVectorList=[]#List of vectors\n",
    "for pfamString in pfamList:\n",
    "    pfamVectorList.append(convertStringIntoVector(pfamString))\n",
    "fingerprintVectorList=[]##List of vectors\n",
    "for fingerprintString in fingerprintList:\n",
    "    fingerprintVectorList.append(convertStringIntoVector(fingerprintString))"
   ]
  },
  {
   "cell_type": "code",
   "execution_count": 165,
   "metadata": {},
   "outputs": [],
   "source": [
    "##Sets parameters for the training part of the formula (lambda*Identity*GramMatrix) and inverses it\n",
    "dimensionGeneralMatrix= len (pfamVectorList)\n",
    "lambdaa=0.01 #lambda seems to be a special character in python so lets put a double aa\n",
    "generalGramMatrix = np.zeros((dimensionGeneralMatrix,dimensionGeneralMatrix))\n",
    "for i in range (0, dimensionGeneralMatrix):\n",
    "    for j in range (0, dimensionGeneralMatrix):\n",
    "        generalGramMatrix [i,j]=gaussianKernelForPfam(pfamVectorList[i],pfamVectorList[j])#Kx with upper case"
   ]
  },
  {
   "cell_type": "code",
   "execution_count": 166,
   "metadata": {},
   "outputs": [],
   "source": [
    "sampleOf206Numbers=listOfRandomNumbers[0:206]\n",
    "sampleOf825Numbers= listOfRandomNumbers[206:]\n",
    "####This is just the same script repeated several times for the 5 subsets.\n",
    "####The last time, the length of the training and the test set changes, but the rest is the same\n",
    "\n",
    "##Creates the training part of the formula once you know the specific clusters in the training set\n",
    "\n",
    "dimensionTrainingSet = 825 #We divide 1031 by 5 for crossvalidation. We have 825 in the training and 206 in the test\n",
    "dimensionTestSet = 206\n",
    "identityMatrix=np.identity(dimensionTrainingSet)##Part of the formula\n",
    "specificGramMatrix = np.zeros((dimensionTrainingSet,dimensionTrainingSet))\n",
    "for i in range (0, dimensionTrainingSet):\n",
    "    for j in range (0, dimensionTrainingSet):\n",
    "        iIndex=sampleOf825Numbers[i]\n",
    "        jIndex=sampleOf825Numbers[j]\n",
    "        specificGramMatrix[i,j]=generalGramMatrix[iIndex,jIndex]\n",
    "inverseMatrix = np.linalg.inv( ( lambdaa * identityMatrix ) + specificGramMatrix )##Part of the formula"
   ]
  },
  {
   "cell_type": "code",
   "execution_count": 167,
   "metadata": {},
   "outputs": [],
   "source": [
    "def calculatingIOKRScore (xVector, yVector):\n",
    "    ky=np.zeros((dimensionTrainingSet,1))##kx lower case\n",
    "    kx=np.zeros((dimensionTrainingSet,1))##ky lower case\n",
    "    for i in range (0,dimensionTrainingSet):\n",
    "        iIndex=sampleOf825Numbers[i]\n",
    "        kx[i]=gaussianKernelForPfam(pfamVectorList[iIndex],xVector)\n",
    "        ky[i]=gaussianKernelForFingerprint(fingerprintVectorList[iIndex],yVector)\n",
    "    kyt=np.transpose(ky)##Transposing ky\n",
    "    result= np.matmul(np.matmul(kyt,inverseMatrix), kx)##Returns a number when doing the multiplication of the matrixes\n",
    "    return result"
   ]
  },
  {
   "cell_type": "code",
   "execution_count": 168,
   "metadata": {},
   "outputs": [],
   "source": [
    "score = np.zeros((206, 206))\n",
    "for i in range (0, 206):\n",
    "    for j in range (0, 206):\n",
    "        iIndex=sampleOf206Numbers[i]\n",
    "        jIndex=sampleOf206Numbers[j]\n",
    "        score[i,j]= calculatingIOKRScore(pfamVectorList[iIndex],fingerprintVectorList[jIndex])\n",
    "np.save(\"score26\",score)"
   ]
  },
  {
   "cell_type": "code",
   "execution_count": 169,
   "metadata": {},
   "outputs": [],
   "source": [
    "sampleOf206Numbers=listOfRandomNumbers[206:412]\n",
    "sampleOf825Numbers= listOfRandomNumbers[0:206]+listOfRandomNumbers[412:]\n",
    "##Creates the training part of the formula once you know the specific clusters in the training\n",
    "dimensionTrainingSet = 825 #We divide 1031 by 5 for crossvalidation. We have 825 in the rest\n",
    "dimensionTestSet = 206\n",
    "identityMatrix=np.identity(dimensionTrainingSet)##Part of the formula\n",
    "specificGramMatrix = np.zeros((dimensionTrainingSet,dimensionTrainingSet))\n",
    "for i in range (0, dimensionTrainingSet):\n",
    "    for j in range (0, dimensionTrainingSet):\n",
    "        iIndex=sampleOf825Numbers[i]\n",
    "        jIndex=sampleOf825Numbers[j]\n",
    "        specificGramMatrix[i,j]=generalGramMatrix[iIndex,jIndex]\n",
    "inverseMatrix = np.linalg.inv( ( lambdaa * identityMatrix ) + specificGramMatrix )##Part of the formula"
   ]
  },
  {
   "cell_type": "code",
   "execution_count": 170,
   "metadata": {},
   "outputs": [],
   "source": [
    "def calculatingIOKRScore (xVector, yVector):\n",
    "    ky=np.zeros((dimensionTrainingSet,1))##kx lower case\n",
    "    kx=np.zeros((dimensionTrainingSet,1))##ky lower case\n",
    "    for i in range (0,dimensionTrainingSet):\n",
    "        iIndex=sampleOf825Numbers[i]\n",
    "        kx[i]=gaussianKernelForPfam(pfamVectorList[iIndex],xVector)\n",
    "        ky[i]=gaussianKernelForFingerprint(fingerprintVectorList[iIndex],yVector)\n",
    "    kyt=np.transpose(ky)##Transposing ky\n",
    "    result= np.matmul(np.matmul(kyt,inverseMatrix), kx)##Returns a number when doing the multiplication of the matrixes\n",
    "    return result"
   ]
  },
  {
   "cell_type": "code",
   "execution_count": 171,
   "metadata": {},
   "outputs": [],
   "source": [
    "score2 = np.zeros((206, 206))\n",
    "for i in range (0, 206):\n",
    "    for j in range (0, 206):\n",
    "        iIndex=sampleOf206Numbers[i]\n",
    "        jIndex=sampleOf206Numbers[j]\n",
    "        score2[i,j]= calculatingIOKRScore(pfamVectorList[iIndex],fingerprintVectorList[jIndex])\n",
    "np.save(\"score27\",score2)"
   ]
  },
  {
   "cell_type": "code",
   "execution_count": 172,
   "metadata": {},
   "outputs": [],
   "source": [
    "sampleOf206Numbers=listOfRandomNumbers[412:618]\n",
    "sampleOf825Numbers= listOfRandomNumbers[0:412]+listOfRandomNumbers[618:]\n",
    "##Creates the training part of the formula once you know the specific clusters in the training\n",
    "dimensionTrainingSet = 825 #We divide 1031 by 5 for crossvalidation. We have 825 in the rest\n",
    "dimensionTestSet = 206\n",
    "identityMatrix=np.identity(dimensionTrainingSet)##Part of the formula\n",
    "specificGramMatrix = np.zeros((dimensionTrainingSet,dimensionTrainingSet))\n",
    "for i in range (0, dimensionTrainingSet):\n",
    "    for j in range (0, dimensionTrainingSet):\n",
    "        iIndex=sampleOf825Numbers[i]\n",
    "        jIndex=sampleOf825Numbers[j]\n",
    "        specificGramMatrix[i,j]=generalGramMatrix[iIndex,jIndex]\n",
    "inverseMatrix = np.linalg.inv( ( lambdaa * identityMatrix ) + specificGramMatrix )##Part of the formula"
   ]
  },
  {
   "cell_type": "code",
   "execution_count": 173,
   "metadata": {},
   "outputs": [],
   "source": [
    "def calculatingIOKRScore (xVector, yVector):\n",
    "    ky=np.zeros((dimensionTrainingSet,1))##kx lower case\n",
    "    kx=np.zeros((dimensionTrainingSet,1))##ky lower case\n",
    "    for i in range (0,dimensionTrainingSet):\n",
    "        iIndex=sampleOf825Numbers[i]\n",
    "        kx[i]=gaussianKernelForPfam(pfamVectorList[iIndex],xVector)\n",
    "        ky[i]=gaussianKernelForFingerprint(fingerprintVectorList[iIndex],yVector)\n",
    "    kyt=np.transpose(ky)##Transposing ky\n",
    "    result= np.matmul(np.matmul(kyt,inverseMatrix), kx)##Returns a number when doing the multiplication of the matrixes\n",
    "    return result"
   ]
  },
  {
   "cell_type": "code",
   "execution_count": 174,
   "metadata": {},
   "outputs": [],
   "source": [
    "score3 = np.zeros((206, 206))\n",
    "for i in range (0, 206):\n",
    "    for j in range (0, 206):\n",
    "        iIndex=sampleOf206Numbers[i]\n",
    "        jIndex=sampleOf206Numbers[j]\n",
    "        score3[i,j]= calculatingIOKRScore(pfamVectorList[iIndex],fingerprintVectorList[jIndex])\n",
    "np.save(\"score28\",score3)"
   ]
  },
  {
   "cell_type": "code",
   "execution_count": 175,
   "metadata": {},
   "outputs": [],
   "source": [
    "sampleOf206Numbers=listOfRandomNumbers[618:824]\n",
    "sampleOf825Numbers= listOfRandomNumbers[0:618]+listOfRandomNumbers[824:]\n",
    "##Creates the training part of the formula once you know the specific clusters in the training\n",
    "dimensionTrainingSet = 825 #We divide 1031 by 5 for crossvalidation. We have 825 in the rest\n",
    "dimensionTestSet = 206\n",
    "identityMatrix=np.identity(dimensionTrainingSet)##Part of the formula\n",
    "specificGramMatrix = np.zeros((dimensionTrainingSet,dimensionTrainingSet))\n",
    "for i in range (0, dimensionTrainingSet):\n",
    "    for j in range (0, dimensionTrainingSet):\n",
    "        iIndex=sampleOf825Numbers[i]\n",
    "        jIndex=sampleOf825Numbers[j]\n",
    "        specificGramMatrix[i,j]=generalGramMatrix[iIndex,jIndex]\n",
    "inverseMatrix = np.linalg.inv( ( lambdaa * identityMatrix ) + specificGramMatrix )##Part of the formula"
   ]
  },
  {
   "cell_type": "code",
   "execution_count": 176,
   "metadata": {},
   "outputs": [],
   "source": [
    "def calculatingIOKRScore (xVector, yVector):\n",
    "    ky=np.zeros((dimensionTrainingSet,1))##kx lower case\n",
    "    kx=np.zeros((dimensionTrainingSet,1))##ky lower case\n",
    "    for i in range (0,dimensionTrainingSet):\n",
    "        iIndex=sampleOf825Numbers[i]\n",
    "        kx[i]=gaussianKernelForPfam(pfamVectorList[iIndex],xVector)\n",
    "        ky[i]=gaussianKernelForFingerprint(fingerprintVectorList[iIndex],yVector)\n",
    "    kyt=np.transpose(ky)##Transposing ky\n",
    "    result= np.matmul(np.matmul(kyt,inverseMatrix), kx)##Returns a number when doing the multiplication of the matrixes\n",
    "    return result"
   ]
  },
  {
   "cell_type": "code",
   "execution_count": 177,
   "metadata": {},
   "outputs": [],
   "source": [
    "score4 = np.zeros((206, 206))\n",
    "for i in range (0, 206):\n",
    "    for j in range (0, 206):\n",
    "        iIndex=sampleOf206Numbers[i]\n",
    "        jIndex=sampleOf206Numbers[j]\n",
    "        score4[i,j]= calculatingIOKRScore(pfamVectorList[iIndex],fingerprintVectorList[jIndex])\n",
    "np.save(\"score29\",score4)"
   ]
  },
  {
   "cell_type": "code",
   "execution_count": 178,
   "metadata": {},
   "outputs": [],
   "source": [
    "sampleOf206Numbers=listOfRandomNumbers[824:]\n",
    "sampleOf825Numbers= listOfRandomNumbers[0:824]\n",
    "##Creates the training part of the formula once you know the specific clusters in the training\n",
    "dimensionTrainingSet = 824 #We divide 1031 by 5 for crossvalidation. We have 825 in the rest\n",
    "dimensionTestSet = 207\n",
    "identityMatrix=np.identity(dimensionTrainingSet)##Part of the formula\n",
    "specificGramMatrix = np.zeros((dimensionTrainingSet,dimensionTrainingSet))\n",
    "for i in range (0, dimensionTrainingSet):\n",
    "    for j in range (0, dimensionTrainingSet):\n",
    "        iIndex=sampleOf825Numbers[i]\n",
    "        jIndex=sampleOf825Numbers[j]\n",
    "        specificGramMatrix[i,j]=generalGramMatrix[iIndex,jIndex]\n",
    "inverseMatrix = np.linalg.inv( ( lambdaa * identityMatrix ) + specificGramMatrix )##Part of the formula"
   ]
  },
  {
   "cell_type": "code",
   "execution_count": 179,
   "metadata": {},
   "outputs": [],
   "source": [
    "def calculatingIOKRScore (xVector, yVector):\n",
    "    ky=np.zeros((dimensionTrainingSet,1))##kx lower case\n",
    "    kx=np.zeros((dimensionTrainingSet,1))##ky lower case\n",
    "    for i in range (0,dimensionTrainingSet):\n",
    "        iIndex=sampleOf825Numbers[i]\n",
    "        kx[i]=gaussianKernelForPfam(pfamVectorList[iIndex],xVector)\n",
    "        ky[i]=gaussianKernelForFingerprint(fingerprintVectorList[iIndex],yVector)\n",
    "    kyt=np.transpose(ky)##Transposing ky\n",
    "    result= np.matmul(np.matmul(kyt,inverseMatrix), kx)##Returns a number when doing the multiplication of the matrixes\n",
    "    return result"
   ]
  },
  {
   "cell_type": "code",
   "execution_count": 180,
   "metadata": {},
   "outputs": [],
   "source": [
    "score5 = np.zeros((207, 207))\n",
    "for i in range (0, 207):\n",
    "    for j in range (0, 207):\n",
    "        iIndex=sampleOf206Numbers[i]\n",
    "        jIndex=sampleOf206Numbers[j]\n",
    "        score5[i,j]= calculatingIOKRScore(pfamVectorList[iIndex],fingerprintVectorList[jIndex])\n",
    "np.save(\"score30\",score5)"
   ]
  },
  {
   "cell_type": "code",
   "execution_count": 181,
   "metadata": {},
   "outputs": [],
   "source": [
    "####The cell with import random has been deleted as we want to use the same order for all the parameters\n",
    "## GammaX = 0.003\n",
    "## GammaY = 0.3\n",
    "## Lambda = 0.01"
   ]
  },
  {
   "cell_type": "code",
   "execution_count": 182,
   "metadata": {},
   "outputs": [
    {
     "name": "stdout",
     "output_type": "stream",
     "text": [
      "C:\\Users\\Yoo\\Desktop\\summerProject\\hmmer-3.2.1\\trial\\usefulFiles\\machineLearningKernelPfamFingerPrints\\IKOR_TryingDifferentParameters\\sameOrderForAllConfigurations\\firstExperiment\n"
     ]
    }
   ],
   "source": [
    "cd C:\\Users\\Yoo\\Desktop\\summerProject\\hmmer-3.2.1\\trial\\usefulFiles\\machineLearningKernelPfamFingerPrints\\IKOR_TryingDifferentParameters\\sameOrderForAllConfigurations\\firstExperiment"
   ]
  },
  {
   "cell_type": "code",
   "execution_count": 183,
   "metadata": {},
   "outputs": [],
   "source": [
    "import numpy as np"
   ]
  },
  {
   "cell_type": "code",
   "execution_count": 184,
   "metadata": {},
   "outputs": [],
   "source": [
    "def convertStringIntoVector (String):##Receives a binary vector in the form of a String\n",
    "    intoList=list(String)\n",
    "    vector=np.asarray(intoList,dtype=int)\n",
    "    return vector"
   ]
  },
  {
   "cell_type": "code",
   "execution_count": 185,
   "metadata": {},
   "outputs": [],
   "source": [
    "def gaussianKernelForPfam (vector1, vector2):##Does the gaussian Kernel for two vectors\n",
    "    gamma=0.003\n",
    "    euclideanDistance=np.linalg.norm(vector1-vector2)\n",
    "    kernelValue=np.exp(-gamma*(euclideanDistance**2))\n",
    "    return kernelValue"
   ]
  },
  {
   "cell_type": "code",
   "execution_count": 186,
   "metadata": {},
   "outputs": [],
   "source": [
    "def gaussianKernelForFingerprint (vector1, vector2):##We can have a different gamma in this kernel if we want\n",
    "    gamma=0.3\n",
    "    euclideanDistance=np.linalg.norm(vector1-vector2)\n",
    "    kernelValue=np.exp(-gamma*(euclideanDistance**2))\n",
    "    return kernelValue"
   ]
  },
  {
   "cell_type": "code",
   "execution_count": 187,
   "metadata": {},
   "outputs": [],
   "source": [
    "##Opens the two files and creates one list of Strings for pfam and another one for fingerprints\n",
    "pfamFile= open (\"pfamDomains0and1ForAllClusters.txt\")\n",
    "pfamList=[]##List of Strings\n",
    "for line in pfamFile:\n",
    "    line=line.strip(\"\\n\")\n",
    "    pfamList.append(line[11:])\n",
    "pfamFile.close()\n",
    "fingerprintFile=open (\"fingerPrintsForIndividualClustersNOT478.txt\")\n",
    "fingerprintList=[]##List of strings\n",
    "for line in fingerprintFile:\n",
    "    line=line.strip(\"\\n\")\n",
    "    fingerprintList.append(line[11:])\n",
    "fingerprintFile.close()"
   ]
  },
  {
   "cell_type": "code",
   "execution_count": 188,
   "metadata": {},
   "outputs": [],
   "source": [
    "##Converts the Lists of strings into list of Vectors\n",
    "pfamVectorList=[]#List of vectors\n",
    "for pfamString in pfamList:\n",
    "    pfamVectorList.append(convertStringIntoVector(pfamString))\n",
    "fingerprintVectorList=[]##List of vectors\n",
    "for fingerprintString in fingerprintList:\n",
    "    fingerprintVectorList.append(convertStringIntoVector(fingerprintString))"
   ]
  },
  {
   "cell_type": "code",
   "execution_count": 189,
   "metadata": {},
   "outputs": [],
   "source": [
    "##Sets parameters for the training part of the formula (lambda*Identity*GramMatrix) and inverses it\n",
    "dimensionGeneralMatrix= len (pfamVectorList)\n",
    "lambdaa=0.01 #lambda seems to be a special character in python so lets put a double aa\n",
    "generalGramMatrix = np.zeros((dimensionGeneralMatrix,dimensionGeneralMatrix))\n",
    "for i in range (0, dimensionGeneralMatrix):\n",
    "    for j in range (0, dimensionGeneralMatrix):\n",
    "        generalGramMatrix [i,j]=gaussianKernelForPfam(pfamVectorList[i],pfamVectorList[j])#Kx with upper case"
   ]
  },
  {
   "cell_type": "code",
   "execution_count": 190,
   "metadata": {},
   "outputs": [],
   "source": [
    "sampleOf206Numbers=listOfRandomNumbers[0:206]\n",
    "sampleOf825Numbers= listOfRandomNumbers[206:]\n",
    "####This is just the same script repeated several times for the 5 subsets.\n",
    "####The last time, the length of the training and the test set changes, but the rest is the same\n",
    "\n",
    "##Creates the training part of the formula once you know the specific clusters in the training set\n",
    "\n",
    "dimensionTrainingSet = 825 #We divide 1031 by 5 for crossvalidation. We have 825 in the training and 206 in the test\n",
    "dimensionTestSet = 206\n",
    "identityMatrix=np.identity(dimensionTrainingSet)##Part of the formula\n",
    "specificGramMatrix = np.zeros((dimensionTrainingSet,dimensionTrainingSet))\n",
    "for i in range (0, dimensionTrainingSet):\n",
    "    for j in range (0, dimensionTrainingSet):\n",
    "        iIndex=sampleOf825Numbers[i]\n",
    "        jIndex=sampleOf825Numbers[j]\n",
    "        specificGramMatrix[i,j]=generalGramMatrix[iIndex,jIndex]\n",
    "inverseMatrix = np.linalg.inv( ( lambdaa * identityMatrix ) + specificGramMatrix )##Part of the formula"
   ]
  },
  {
   "cell_type": "code",
   "execution_count": 191,
   "metadata": {},
   "outputs": [],
   "source": [
    "def calculatingIOKRScore (xVector, yVector):\n",
    "    ky=np.zeros((dimensionTrainingSet,1))##kx lower case\n",
    "    kx=np.zeros((dimensionTrainingSet,1))##ky lower case\n",
    "    for i in range (0,dimensionTrainingSet):\n",
    "        iIndex=sampleOf825Numbers[i]\n",
    "        kx[i]=gaussianKernelForPfam(pfamVectorList[iIndex],xVector)\n",
    "        ky[i]=gaussianKernelForFingerprint(fingerprintVectorList[iIndex],yVector)\n",
    "    kyt=np.transpose(ky)##Transposing ky\n",
    "    result= np.matmul(np.matmul(kyt,inverseMatrix), kx)##Returns a number when doing the multiplication of the matrixes\n",
    "    return result"
   ]
  },
  {
   "cell_type": "code",
   "execution_count": 192,
   "metadata": {},
   "outputs": [],
   "source": [
    "score = np.zeros((206, 206))\n",
    "for i in range (0, 206):\n",
    "    for j in range (0, 206):\n",
    "        iIndex=sampleOf206Numbers[i]\n",
    "        jIndex=sampleOf206Numbers[j]\n",
    "        score[i,j]= calculatingIOKRScore(pfamVectorList[iIndex],fingerprintVectorList[jIndex])\n",
    "np.save(\"score31\",score)"
   ]
  },
  {
   "cell_type": "code",
   "execution_count": 193,
   "metadata": {},
   "outputs": [],
   "source": [
    "sampleOf206Numbers=listOfRandomNumbers[206:412]\n",
    "sampleOf825Numbers= listOfRandomNumbers[0:206]+listOfRandomNumbers[412:]\n",
    "##Creates the training part of the formula once you know the specific clusters in the training\n",
    "dimensionTrainingSet = 825 #We divide 1031 by 5 for crossvalidation. We have 825 in the rest\n",
    "dimensionTestSet = 206\n",
    "identityMatrix=np.identity(dimensionTrainingSet)##Part of the formula\n",
    "specificGramMatrix = np.zeros((dimensionTrainingSet,dimensionTrainingSet))\n",
    "for i in range (0, dimensionTrainingSet):\n",
    "    for j in range (0, dimensionTrainingSet):\n",
    "        iIndex=sampleOf825Numbers[i]\n",
    "        jIndex=sampleOf825Numbers[j]\n",
    "        specificGramMatrix[i,j]=generalGramMatrix[iIndex,jIndex]\n",
    "inverseMatrix = np.linalg.inv( ( lambdaa * identityMatrix ) + specificGramMatrix )##Part of the formula"
   ]
  },
  {
   "cell_type": "code",
   "execution_count": 194,
   "metadata": {},
   "outputs": [],
   "source": [
    "def calculatingIOKRScore (xVector, yVector):\n",
    "    ky=np.zeros((dimensionTrainingSet,1))##kx lower case\n",
    "    kx=np.zeros((dimensionTrainingSet,1))##ky lower case\n",
    "    for i in range (0,dimensionTrainingSet):\n",
    "        iIndex=sampleOf825Numbers[i]\n",
    "        kx[i]=gaussianKernelForPfam(pfamVectorList[iIndex],xVector)\n",
    "        ky[i]=gaussianKernelForFingerprint(fingerprintVectorList[iIndex],yVector)\n",
    "    kyt=np.transpose(ky)##Transposing ky\n",
    "    result= np.matmul(np.matmul(kyt,inverseMatrix), kx)##Returns a number when doing the multiplication of the matrixes\n",
    "    return result"
   ]
  },
  {
   "cell_type": "code",
   "execution_count": 195,
   "metadata": {},
   "outputs": [],
   "source": [
    "score2 = np.zeros((206, 206))\n",
    "for i in range (0, 206):\n",
    "    for j in range (0, 206):\n",
    "        iIndex=sampleOf206Numbers[i]\n",
    "        jIndex=sampleOf206Numbers[j]\n",
    "        score2[i,j]= calculatingIOKRScore(pfamVectorList[iIndex],fingerprintVectorList[jIndex])\n",
    "np.save(\"score32\",score2)"
   ]
  },
  {
   "cell_type": "code",
   "execution_count": 196,
   "metadata": {},
   "outputs": [],
   "source": [
    "sampleOf206Numbers=listOfRandomNumbers[412:618]\n",
    "sampleOf825Numbers= listOfRandomNumbers[0:412]+listOfRandomNumbers[618:]\n",
    "##Creates the training part of the formula once you know the specific clusters in the training\n",
    "dimensionTrainingSet = 825 #We divide 1031 by 5 for crossvalidation. We have 825 in the rest\n",
    "dimensionTestSet = 206\n",
    "identityMatrix=np.identity(dimensionTrainingSet)##Part of the formula\n",
    "specificGramMatrix = np.zeros((dimensionTrainingSet,dimensionTrainingSet))\n",
    "for i in range (0, dimensionTrainingSet):\n",
    "    for j in range (0, dimensionTrainingSet):\n",
    "        iIndex=sampleOf825Numbers[i]\n",
    "        jIndex=sampleOf825Numbers[j]\n",
    "        specificGramMatrix[i,j]=generalGramMatrix[iIndex,jIndex]\n",
    "inverseMatrix = np.linalg.inv( ( lambdaa * identityMatrix ) + specificGramMatrix )##Part of the formula"
   ]
  },
  {
   "cell_type": "code",
   "execution_count": 197,
   "metadata": {},
   "outputs": [],
   "source": [
    "def calculatingIOKRScore (xVector, yVector):\n",
    "    ky=np.zeros((dimensionTrainingSet,1))##kx lower case\n",
    "    kx=np.zeros((dimensionTrainingSet,1))##ky lower case\n",
    "    for i in range (0,dimensionTrainingSet):\n",
    "        iIndex=sampleOf825Numbers[i]\n",
    "        kx[i]=gaussianKernelForPfam(pfamVectorList[iIndex],xVector)\n",
    "        ky[i]=gaussianKernelForFingerprint(fingerprintVectorList[iIndex],yVector)\n",
    "    kyt=np.transpose(ky)##Transposing ky\n",
    "    result= np.matmul(np.matmul(kyt,inverseMatrix), kx)##Returns a number when doing the multiplication of the matrixes\n",
    "    return result"
   ]
  },
  {
   "cell_type": "code",
   "execution_count": 198,
   "metadata": {},
   "outputs": [],
   "source": [
    "score3 = np.zeros((206, 206))\n",
    "for i in range (0, 206):\n",
    "    for j in range (0, 206):\n",
    "        iIndex=sampleOf206Numbers[i]\n",
    "        jIndex=sampleOf206Numbers[j]\n",
    "        score3[i,j]= calculatingIOKRScore(pfamVectorList[iIndex],fingerprintVectorList[jIndex])\n",
    "np.save(\"score33\",score3)"
   ]
  },
  {
   "cell_type": "code",
   "execution_count": 199,
   "metadata": {},
   "outputs": [],
   "source": [
    "sampleOf206Numbers=listOfRandomNumbers[618:824]\n",
    "sampleOf825Numbers= listOfRandomNumbers[0:618]+listOfRandomNumbers[824:]\n",
    "##Creates the training part of the formula once you know the specific clusters in the training\n",
    "dimensionTrainingSet = 825 #We divide 1031 by 5 for crossvalidation. We have 825 in the rest\n",
    "dimensionTestSet = 206\n",
    "identityMatrix=np.identity(dimensionTrainingSet)##Part of the formula\n",
    "specificGramMatrix = np.zeros((dimensionTrainingSet,dimensionTrainingSet))\n",
    "for i in range (0, dimensionTrainingSet):\n",
    "    for j in range (0, dimensionTrainingSet):\n",
    "        iIndex=sampleOf825Numbers[i]\n",
    "        jIndex=sampleOf825Numbers[j]\n",
    "        specificGramMatrix[i,j]=generalGramMatrix[iIndex,jIndex]\n",
    "inverseMatrix = np.linalg.inv( ( lambdaa * identityMatrix ) + specificGramMatrix )##Part of the formula"
   ]
  },
  {
   "cell_type": "code",
   "execution_count": 200,
   "metadata": {},
   "outputs": [],
   "source": [
    "def calculatingIOKRScore (xVector, yVector):\n",
    "    ky=np.zeros((dimensionTrainingSet,1))##kx lower case\n",
    "    kx=np.zeros((dimensionTrainingSet,1))##ky lower case\n",
    "    for i in range (0,dimensionTrainingSet):\n",
    "        iIndex=sampleOf825Numbers[i]\n",
    "        kx[i]=gaussianKernelForPfam(pfamVectorList[iIndex],xVector)\n",
    "        ky[i]=gaussianKernelForFingerprint(fingerprintVectorList[iIndex],yVector)\n",
    "    kyt=np.transpose(ky)##Transposing ky\n",
    "    result= np.matmul(np.matmul(kyt,inverseMatrix), kx)##Returns a number when doing the multiplication of the matrixes\n",
    "    return result"
   ]
  },
  {
   "cell_type": "code",
   "execution_count": 201,
   "metadata": {},
   "outputs": [],
   "source": [
    "score4 = np.zeros((206, 206))\n",
    "for i in range (0, 206):\n",
    "    for j in range (0, 206):\n",
    "        iIndex=sampleOf206Numbers[i]\n",
    "        jIndex=sampleOf206Numbers[j]\n",
    "        score4[i,j]= calculatingIOKRScore(pfamVectorList[iIndex],fingerprintVectorList[jIndex])\n",
    "np.save(\"score34\",score4)"
   ]
  },
  {
   "cell_type": "code",
   "execution_count": 202,
   "metadata": {},
   "outputs": [],
   "source": [
    "sampleOf206Numbers=listOfRandomNumbers[824:]\n",
    "sampleOf825Numbers= listOfRandomNumbers[0:824]\n",
    "##Creates the training part of the formula once you know the specific clusters in the training\n",
    "dimensionTrainingSet = 824 #We divide 1031 by 5 for crossvalidation. We have 825 in the rest\n",
    "dimensionTestSet = 207\n",
    "identityMatrix=np.identity(dimensionTrainingSet)##Part of the formula\n",
    "specificGramMatrix = np.zeros((dimensionTrainingSet,dimensionTrainingSet))\n",
    "for i in range (0, dimensionTrainingSet):\n",
    "    for j in range (0, dimensionTrainingSet):\n",
    "        iIndex=sampleOf825Numbers[i]\n",
    "        jIndex=sampleOf825Numbers[j]\n",
    "        specificGramMatrix[i,j]=generalGramMatrix[iIndex,jIndex]\n",
    "inverseMatrix = np.linalg.inv( ( lambdaa * identityMatrix ) + specificGramMatrix )##Part of the formula"
   ]
  },
  {
   "cell_type": "code",
   "execution_count": 203,
   "metadata": {},
   "outputs": [],
   "source": [
    "def calculatingIOKRScore (xVector, yVector):\n",
    "    ky=np.zeros((dimensionTrainingSet,1))##kx lower case\n",
    "    kx=np.zeros((dimensionTrainingSet,1))##ky lower case\n",
    "    for i in range (0,dimensionTrainingSet):\n",
    "        iIndex=sampleOf825Numbers[i]\n",
    "        kx[i]=gaussianKernelForPfam(pfamVectorList[iIndex],xVector)\n",
    "        ky[i]=gaussianKernelForFingerprint(fingerprintVectorList[iIndex],yVector)\n",
    "    kyt=np.transpose(ky)##Transposing ky\n",
    "    result= np.matmul(np.matmul(kyt,inverseMatrix), kx)##Returns a number when doing the multiplication of the matrixes\n",
    "    return result"
   ]
  },
  {
   "cell_type": "code",
   "execution_count": 204,
   "metadata": {},
   "outputs": [],
   "source": [
    "score5 = np.zeros((207, 207))\n",
    "for i in range (0, 207):\n",
    "    for j in range (0, 207):\n",
    "        iIndex=sampleOf206Numbers[i]\n",
    "        jIndex=sampleOf206Numbers[j]\n",
    "        score5[i,j]= calculatingIOKRScore(pfamVectorList[iIndex],fingerprintVectorList[jIndex])\n",
    "np.save(\"score35\",score5)"
   ]
  },
  {
   "cell_type": "code",
   "execution_count": 205,
   "metadata": {},
   "outputs": [],
   "source": [
    "####The cell with import random has been deleted as we want to use the same order for all the parameters\n",
    "## GammaX = 3\n",
    "## GammaY = 3\n",
    "## Lambda = 0.01"
   ]
  },
  {
   "cell_type": "code",
   "execution_count": 206,
   "metadata": {},
   "outputs": [
    {
     "name": "stdout",
     "output_type": "stream",
     "text": [
      "C:\\Users\\Yoo\\Desktop\\summerProject\\hmmer-3.2.1\\trial\\usefulFiles\\machineLearningKernelPfamFingerPrints\\IKOR_TryingDifferentParameters\\sameOrderForAllConfigurations\\firstExperiment\n"
     ]
    }
   ],
   "source": [
    "cd C:\\Users\\Yoo\\Desktop\\summerProject\\hmmer-3.2.1\\trial\\usefulFiles\\machineLearningKernelPfamFingerPrints\\IKOR_TryingDifferentParameters\\sameOrderForAllConfigurations\\firstExperiment"
   ]
  },
  {
   "cell_type": "code",
   "execution_count": 207,
   "metadata": {},
   "outputs": [],
   "source": [
    "import numpy as np"
   ]
  },
  {
   "cell_type": "code",
   "execution_count": 208,
   "metadata": {},
   "outputs": [],
   "source": [
    "def convertStringIntoVector (String):##Receives a binary vector in the form of a String\n",
    "    intoList=list(String)\n",
    "    vector=np.asarray(intoList,dtype=int)\n",
    "    return vector"
   ]
  },
  {
   "cell_type": "code",
   "execution_count": 209,
   "metadata": {},
   "outputs": [],
   "source": [
    "def gaussianKernelForPfam (vector1, vector2):##Does the gaussian Kernel for two vectors\n",
    "    gamma=3\n",
    "    euclideanDistance=np.linalg.norm(vector1-vector2)\n",
    "    kernelValue=np.exp(-gamma*(euclideanDistance**2))\n",
    "    return kernelValue"
   ]
  },
  {
   "cell_type": "code",
   "execution_count": 210,
   "metadata": {},
   "outputs": [],
   "source": [
    "def gaussianKernelForFingerprint (vector1, vector2):##We can have a different gamma in this kernel if we want\n",
    "    gamma=3\n",
    "    euclideanDistance=np.linalg.norm(vector1-vector2)\n",
    "    kernelValue=np.exp(-gamma*(euclideanDistance**2))\n",
    "    return kernelValue"
   ]
  },
  {
   "cell_type": "code",
   "execution_count": 211,
   "metadata": {},
   "outputs": [],
   "source": [
    "##Opens the two files and creates one list of Strings for pfam and another one for fingerprints\n",
    "pfamFile= open (\"pfamDomains0and1ForAllClusters.txt\")\n",
    "pfamList=[]##List of Strings\n",
    "for line in pfamFile:\n",
    "    line=line.strip(\"\\n\")\n",
    "    pfamList.append(line[11:])\n",
    "pfamFile.close()\n",
    "fingerprintFile=open (\"fingerPrintsForIndividualClustersNOT478.txt\")\n",
    "fingerprintList=[]##List of strings\n",
    "for line in fingerprintFile:\n",
    "    line=line.strip(\"\\n\")\n",
    "    fingerprintList.append(line[11:])\n",
    "fingerprintFile.close()"
   ]
  },
  {
   "cell_type": "code",
   "execution_count": 212,
   "metadata": {},
   "outputs": [],
   "source": [
    "##Converts the Lists of strings into list of Vectors\n",
    "pfamVectorList=[]#List of vectors\n",
    "for pfamString in pfamList:\n",
    "    pfamVectorList.append(convertStringIntoVector(pfamString))\n",
    "fingerprintVectorList=[]##List of vectors\n",
    "for fingerprintString in fingerprintList:\n",
    "    fingerprintVectorList.append(convertStringIntoVector(fingerprintString))"
   ]
  },
  {
   "cell_type": "code",
   "execution_count": 213,
   "metadata": {},
   "outputs": [],
   "source": [
    "##Sets parameters for the training part of the formula (lambda*Identity*GramMatrix) and inverses it\n",
    "dimensionGeneralMatrix= len (pfamVectorList)\n",
    "lambdaa=0.01 #lambda seems to be a special character in python so lets put a double aa\n",
    "generalGramMatrix = np.zeros((dimensionGeneralMatrix,dimensionGeneralMatrix))\n",
    "for i in range (0, dimensionGeneralMatrix):\n",
    "    for j in range (0, dimensionGeneralMatrix):\n",
    "        generalGramMatrix [i,j]=gaussianKernelForPfam(pfamVectorList[i],pfamVectorList[j])#Kx with upper case"
   ]
  },
  {
   "cell_type": "code",
   "execution_count": 214,
   "metadata": {},
   "outputs": [],
   "source": [
    "sampleOf206Numbers=listOfRandomNumbers[0:206]\n",
    "sampleOf825Numbers= listOfRandomNumbers[206:]\n",
    "####This is just the same script repeated several times for the 5 subsets.\n",
    "####The last time, the length of the training and the test set changes, but the rest is the same\n",
    "\n",
    "##Creates the training part of the formula once you know the specific clusters in the training set\n",
    "\n",
    "dimensionTrainingSet = 825 #We divide 1031 by 5 for crossvalidation. We have 825 in the training and 206 in the test\n",
    "dimensionTestSet = 206\n",
    "identityMatrix=np.identity(dimensionTrainingSet)##Part of the formula\n",
    "specificGramMatrix = np.zeros((dimensionTrainingSet,dimensionTrainingSet))\n",
    "for i in range (0, dimensionTrainingSet):\n",
    "    for j in range (0, dimensionTrainingSet):\n",
    "        iIndex=sampleOf825Numbers[i]\n",
    "        jIndex=sampleOf825Numbers[j]\n",
    "        specificGramMatrix[i,j]=generalGramMatrix[iIndex,jIndex]\n",
    "inverseMatrix = np.linalg.inv( ( lambdaa * identityMatrix ) + specificGramMatrix )##Part of the formula"
   ]
  },
  {
   "cell_type": "code",
   "execution_count": 215,
   "metadata": {},
   "outputs": [],
   "source": [
    "def calculatingIOKRScore (xVector, yVector):\n",
    "    ky=np.zeros((dimensionTrainingSet,1))##kx lower case\n",
    "    kx=np.zeros((dimensionTrainingSet,1))##ky lower case\n",
    "    for i in range (0,dimensionTrainingSet):\n",
    "        iIndex=sampleOf825Numbers[i]\n",
    "        kx[i]=gaussianKernelForPfam(pfamVectorList[iIndex],xVector)\n",
    "        ky[i]=gaussianKernelForFingerprint(fingerprintVectorList[iIndex],yVector)\n",
    "    kyt=np.transpose(ky)##Transposing ky\n",
    "    result= np.matmul(np.matmul(kyt,inverseMatrix), kx)##Returns a number when doing the multiplication of the matrixes\n",
    "    return result"
   ]
  },
  {
   "cell_type": "code",
   "execution_count": 216,
   "metadata": {},
   "outputs": [],
   "source": [
    "score = np.zeros((206, 206))\n",
    "for i in range (0, 206):\n",
    "    for j in range (0, 206):\n",
    "        iIndex=sampleOf206Numbers[i]\n",
    "        jIndex=sampleOf206Numbers[j]\n",
    "        score[i,j]= calculatingIOKRScore(pfamVectorList[iIndex],fingerprintVectorList[jIndex])\n",
    "np.save(\"score36\",score)"
   ]
  },
  {
   "cell_type": "code",
   "execution_count": 217,
   "metadata": {},
   "outputs": [],
   "source": [
    "sampleOf206Numbers=listOfRandomNumbers[206:412]\n",
    "sampleOf825Numbers= listOfRandomNumbers[0:206]+listOfRandomNumbers[412:]\n",
    "##Creates the training part of the formula once you know the specific clusters in the training\n",
    "dimensionTrainingSet = 825 #We divide 1031 by 5 for crossvalidation. We have 825 in the rest\n",
    "dimensionTestSet = 206\n",
    "identityMatrix=np.identity(dimensionTrainingSet)##Part of the formula\n",
    "specificGramMatrix = np.zeros((dimensionTrainingSet,dimensionTrainingSet))\n",
    "for i in range (0, dimensionTrainingSet):\n",
    "    for j in range (0, dimensionTrainingSet):\n",
    "        iIndex=sampleOf825Numbers[i]\n",
    "        jIndex=sampleOf825Numbers[j]\n",
    "        specificGramMatrix[i,j]=generalGramMatrix[iIndex,jIndex]\n",
    "inverseMatrix = np.linalg.inv( ( lambdaa * identityMatrix ) + specificGramMatrix )##Part of the formula"
   ]
  },
  {
   "cell_type": "code",
   "execution_count": 218,
   "metadata": {},
   "outputs": [],
   "source": [
    "def calculatingIOKRScore (xVector, yVector):\n",
    "    ky=np.zeros((dimensionTrainingSet,1))##kx lower case\n",
    "    kx=np.zeros((dimensionTrainingSet,1))##ky lower case\n",
    "    for i in range (0,dimensionTrainingSet):\n",
    "        iIndex=sampleOf825Numbers[i]\n",
    "        kx[i]=gaussianKernelForPfam(pfamVectorList[iIndex],xVector)\n",
    "        ky[i]=gaussianKernelForFingerprint(fingerprintVectorList[iIndex],yVector)\n",
    "    kyt=np.transpose(ky)##Transposing ky\n",
    "    result= np.matmul(np.matmul(kyt,inverseMatrix), kx)##Returns a number when doing the multiplication of the matrixes\n",
    "    return result"
   ]
  },
  {
   "cell_type": "code",
   "execution_count": 219,
   "metadata": {},
   "outputs": [],
   "source": [
    "score2 = np.zeros((206, 206))\n",
    "for i in range (0, 206):\n",
    "    for j in range (0, 206):\n",
    "        iIndex=sampleOf206Numbers[i]\n",
    "        jIndex=sampleOf206Numbers[j]\n",
    "        score2[i,j]= calculatingIOKRScore(pfamVectorList[iIndex],fingerprintVectorList[jIndex])\n",
    "np.save(\"score37\",score2)"
   ]
  },
  {
   "cell_type": "code",
   "execution_count": 220,
   "metadata": {},
   "outputs": [],
   "source": [
    "sampleOf206Numbers=listOfRandomNumbers[412:618]\n",
    "sampleOf825Numbers= listOfRandomNumbers[0:412]+listOfRandomNumbers[618:]\n",
    "##Creates the training part of the formula once you know the specific clusters in the training\n",
    "dimensionTrainingSet = 825 #We divide 1031 by 5 for crossvalidation. We have 825 in the rest\n",
    "dimensionTestSet = 206\n",
    "identityMatrix=np.identity(dimensionTrainingSet)##Part of the formula\n",
    "specificGramMatrix = np.zeros((dimensionTrainingSet,dimensionTrainingSet))\n",
    "for i in range (0, dimensionTrainingSet):\n",
    "    for j in range (0, dimensionTrainingSet):\n",
    "        iIndex=sampleOf825Numbers[i]\n",
    "        jIndex=sampleOf825Numbers[j]\n",
    "        specificGramMatrix[i,j]=generalGramMatrix[iIndex,jIndex]\n",
    "inverseMatrix = np.linalg.inv( ( lambdaa * identityMatrix ) + specificGramMatrix )##Part of the formula"
   ]
  },
  {
   "cell_type": "code",
   "execution_count": 221,
   "metadata": {},
   "outputs": [],
   "source": [
    "def calculatingIOKRScore (xVector, yVector):\n",
    "    ky=np.zeros((dimensionTrainingSet,1))##kx lower case\n",
    "    kx=np.zeros((dimensionTrainingSet,1))##ky lower case\n",
    "    for i in range (0,dimensionTrainingSet):\n",
    "        iIndex=sampleOf825Numbers[i]\n",
    "        kx[i]=gaussianKernelForPfam(pfamVectorList[iIndex],xVector)\n",
    "        ky[i]=gaussianKernelForFingerprint(fingerprintVectorList[iIndex],yVector)\n",
    "    kyt=np.transpose(ky)##Transposing ky\n",
    "    result= np.matmul(np.matmul(kyt,inverseMatrix), kx)##Returns a number when doing the multiplication of the matrixes\n",
    "    return result"
   ]
  },
  {
   "cell_type": "code",
   "execution_count": 222,
   "metadata": {},
   "outputs": [],
   "source": [
    "score3 = np.zeros((206, 206))\n",
    "for i in range (0, 206):\n",
    "    for j in range (0, 206):\n",
    "        iIndex=sampleOf206Numbers[i]\n",
    "        jIndex=sampleOf206Numbers[j]\n",
    "        score3[i,j]= calculatingIOKRScore(pfamVectorList[iIndex],fingerprintVectorList[jIndex])\n",
    "np.save(\"score38\",score3)"
   ]
  },
  {
   "cell_type": "code",
   "execution_count": 223,
   "metadata": {},
   "outputs": [],
   "source": [
    "sampleOf206Numbers=listOfRandomNumbers[618:824]\n",
    "sampleOf825Numbers= listOfRandomNumbers[0:618]+listOfRandomNumbers[824:]\n",
    "##Creates the training part of the formula once you know the specific clusters in the training\n",
    "dimensionTrainingSet = 825 #We divide 1031 by 5 for crossvalidation. We have 825 in the rest\n",
    "dimensionTestSet = 206\n",
    "identityMatrix=np.identity(dimensionTrainingSet)##Part of the formula\n",
    "specificGramMatrix = np.zeros((dimensionTrainingSet,dimensionTrainingSet))\n",
    "for i in range (0, dimensionTrainingSet):\n",
    "    for j in range (0, dimensionTrainingSet):\n",
    "        iIndex=sampleOf825Numbers[i]\n",
    "        jIndex=sampleOf825Numbers[j]\n",
    "        specificGramMatrix[i,j]=generalGramMatrix[iIndex,jIndex]\n",
    "inverseMatrix = np.linalg.inv( ( lambdaa * identityMatrix ) + specificGramMatrix )##Part of the formula"
   ]
  },
  {
   "cell_type": "code",
   "execution_count": 224,
   "metadata": {},
   "outputs": [],
   "source": [
    "def calculatingIOKRScore (xVector, yVector):\n",
    "    ky=np.zeros((dimensionTrainingSet,1))##kx lower case\n",
    "    kx=np.zeros((dimensionTrainingSet,1))##ky lower case\n",
    "    for i in range (0,dimensionTrainingSet):\n",
    "        iIndex=sampleOf825Numbers[i]\n",
    "        kx[i]=gaussianKernelForPfam(pfamVectorList[iIndex],xVector)\n",
    "        ky[i]=gaussianKernelForFingerprint(fingerprintVectorList[iIndex],yVector)\n",
    "    kyt=np.transpose(ky)##Transposing ky\n",
    "    result= np.matmul(np.matmul(kyt,inverseMatrix), kx)##Returns a number when doing the multiplication of the matrixes\n",
    "    return result"
   ]
  },
  {
   "cell_type": "code",
   "execution_count": 225,
   "metadata": {},
   "outputs": [],
   "source": [
    "score4 = np.zeros((206, 206))\n",
    "for i in range (0, 206):\n",
    "    for j in range (0, 206):\n",
    "        iIndex=sampleOf206Numbers[i]\n",
    "        jIndex=sampleOf206Numbers[j]\n",
    "        score4[i,j]= calculatingIOKRScore(pfamVectorList[iIndex],fingerprintVectorList[jIndex])\n",
    "np.save(\"score39\",score4)"
   ]
  },
  {
   "cell_type": "code",
   "execution_count": 226,
   "metadata": {},
   "outputs": [],
   "source": [
    "sampleOf206Numbers=listOfRandomNumbers[824:]\n",
    "sampleOf825Numbers= listOfRandomNumbers[0:824]\n",
    "##Creates the training part of the formula once you know the specific clusters in the training\n",
    "dimensionTrainingSet = 824 #We divide 1031 by 5 for crossvalidation. We have 825 in the rest\n",
    "dimensionTestSet = 207\n",
    "identityMatrix=np.identity(dimensionTrainingSet)##Part of the formula\n",
    "specificGramMatrix = np.zeros((dimensionTrainingSet,dimensionTrainingSet))\n",
    "for i in range (0, dimensionTrainingSet):\n",
    "    for j in range (0, dimensionTrainingSet):\n",
    "        iIndex=sampleOf825Numbers[i]\n",
    "        jIndex=sampleOf825Numbers[j]\n",
    "        specificGramMatrix[i,j]=generalGramMatrix[iIndex,jIndex]\n",
    "inverseMatrix = np.linalg.inv( ( lambdaa * identityMatrix ) + specificGramMatrix )##Part of the formula"
   ]
  },
  {
   "cell_type": "code",
   "execution_count": 227,
   "metadata": {},
   "outputs": [],
   "source": [
    "def calculatingIOKRScore (xVector, yVector):\n",
    "    ky=np.zeros((dimensionTrainingSet,1))##kx lower case\n",
    "    kx=np.zeros((dimensionTrainingSet,1))##ky lower case\n",
    "    for i in range (0,dimensionTrainingSet):\n",
    "        iIndex=sampleOf825Numbers[i]\n",
    "        kx[i]=gaussianKernelForPfam(pfamVectorList[iIndex],xVector)\n",
    "        ky[i]=gaussianKernelForFingerprint(fingerprintVectorList[iIndex],yVector)\n",
    "    kyt=np.transpose(ky)##Transposing ky\n",
    "    result= np.matmul(np.matmul(kyt,inverseMatrix), kx)##Returns a number when doing the multiplication of the matrixes\n",
    "    return result"
   ]
  },
  {
   "cell_type": "code",
   "execution_count": 228,
   "metadata": {},
   "outputs": [],
   "source": [
    "score5 = np.zeros((207, 207))\n",
    "for i in range (0, 207):\n",
    "    for j in range (0, 207):\n",
    "        iIndex=sampleOf206Numbers[i]\n",
    "        jIndex=sampleOf206Numbers[j]\n",
    "        score5[i,j]= calculatingIOKRScore(pfamVectorList[iIndex],fingerprintVectorList[jIndex])\n",
    "np.save(\"score40\",score5)"
   ]
  },
  {
   "cell_type": "code",
   "execution_count": null,
   "metadata": {},
   "outputs": [],
   "source": []
  }
 ],
 "metadata": {
  "kernelspec": {
   "display_name": "Python 3",
   "language": "python",
   "name": "python3"
  },
  "language_info": {
   "codemirror_mode": {
    "name": "ipython",
    "version": 3
   },
   "file_extension": ".py",
   "mimetype": "text/x-python",
   "name": "python",
   "nbconvert_exporter": "python",
   "pygments_lexer": "ipython3",
   "version": "3.7.2"
  }
 },
 "nbformat": 4,
 "nbformat_minor": 2
}
