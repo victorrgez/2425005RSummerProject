{
 "cells": [
  {
   "cell_type": "code",
   "execution_count": 9,
   "metadata": {},
   "outputs": [],
   "source": [
    "##Deletes duplicated clusters in \"howManyTimesEachDomainInEachCluster.txt\""
   ]
  },
  {
   "cell_type": "code",
   "execution_count": 10,
   "metadata": {},
   "outputs": [
    {
     "name": "stdout",
     "output_type": "stream",
     "text": [
      "C:\\Users\\Yoo\\Desktop\\summerProject\\hmmer-3.2.1\\trial\n"
     ]
    }
   ],
   "source": [
    "cd C:\\Users\\Yoo\\Desktop\\summerProject\\hmmer-3.2.1\\trial"
   ]
  },
  {
   "cell_type": "code",
   "execution_count": 11,
   "metadata": {},
   "outputs": [],
   "source": [
    "clustersList=[]\n",
    "inputFile=open(\"onlyOneSmileMoleculePerCluster.tsv\")##Reads the smiles file and creates a list with valid clusters\n",
    "for line in inputFile:\n",
    "    line=line.strip(\"\\n\")\n",
    "    if line[0:10] not in clustersList:\n",
    "        clustersList.append(line[0:10])\n",
    "    else:\n",
    "        continue\n",
    "inputFile.close()"
   ]
  },
  {
   "cell_type": "code",
   "execution_count": 12,
   "metadata": {},
   "outputs": [],
   "source": [
    "inputFile = open (\"howManyTimesEachDomainInEachCluster.txt\")\n",
    "outputFile=open(\"filteredClustersPfamCountsHowManyTimes.txt\",\"w\")"
   ]
  },
  {
   "cell_type": "code",
   "execution_count": 13,
   "metadata": {},
   "outputs": [],
   "source": [
    "for line in inputFile:\n",
    "    line=line.strip(\"\\n\")\n",
    "    if line[0:10] in clustersList:\n",
    "        outputFile.write(line+\"\\n\")\n",
    "    else:\n",
    "        continue\n",
    "inputFile.close()\n",
    "outputFile.close()"
   ]
  },
  {
   "cell_type": "code",
   "execution_count": null,
   "metadata": {},
   "outputs": [],
   "source": []
  }
 ],
 "metadata": {
  "kernelspec": {
   "display_name": "Python 3",
   "language": "python",
   "name": "python3"
  },
  "language_info": {
   "codemirror_mode": {
    "name": "ipython",
    "version": 3
   },
   "file_extension": ".py",
   "mimetype": "text/x-python",
   "name": "python",
   "nbconvert_exporter": "python",
   "pygments_lexer": "ipython3",
   "version": "3.7.2"
  }
 },
 "nbformat": 4,
 "nbformat_minor": 2
}
