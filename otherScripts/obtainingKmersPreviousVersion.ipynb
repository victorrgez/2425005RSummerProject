{
 "cells": [
  {
   "cell_type": "code",
   "execution_count": 378,
   "metadata": {},
   "outputs": [],
   "source": [
    "#### This script was used at the start of the project but it was not efficient as every possible kmer was included\n",
    "####even if it was not found in any sequence. The storage cost were higher\n",
    "\n",
    "## Select a k-mer length and it will create a Matrix of the k-mer counts for all sequences in the file\n",
    "## With big numbers of K, the matrix is totally inefficient as it has a lot of empty columns\n",
    "## This script should be changed to the one that creates one dictionary for each cluster\n",
    "## THEREFORE, DONT USE THIS SCRIPT ANYMORE. JUST SAVED FOR FUTURE REFERENCE"
   ]
  },
  {
   "cell_type": "code",
   "execution_count": 379,
   "metadata": {},
   "outputs": [],
   "source": [
    "import numpy as np"
   ]
  },
  {
   "cell_type": "code",
   "execution_count": 380,
   "metadata": {},
   "outputs": [
    {
     "name": "stdout",
     "output_type": "stream",
     "text": [
      "C:\\Users\\Yoo\\Desktop\\summerProject\\hmmer-3.2.1\\trial\n"
     ]
    }
   ],
   "source": [
    "cd C:\\Users\\Yoo\\Desktop\\summerProject\\hmmer-3.2.1\\trial"
   ]
  },
  {
   "cell_type": "code",
   "execution_count": 381,
   "metadata": {},
   "outputs": [],
   "source": [
    "inputFile = open (\"DNASequencesFasta.txt\")"
   ]
  },
  {
   "cell_type": "code",
   "execution_count": 382,
   "metadata": {},
   "outputs": [
    {
     "data": {
      "text/plain": [
       "0"
      ]
     },
     "execution_count": 382,
     "metadata": {},
     "output_type": "execute_result"
    }
   ],
   "source": [
    "##The file is read and the number of clusters is counted\n",
    "numberOfClusters=0\n",
    "for line in inputFile:\n",
    "    if line[0:1]==\">\":\n",
    "        numberOfClusters+=1\n",
    "inputFile.seek(0)#Goes back to the start of the file for the next file handler"
   ]
  },
  {
   "cell_type": "code",
   "execution_count": 383,
   "metadata": {},
   "outputs": [],
   "source": [
    "sequence=\"\"\n",
    "clusterNumber=0\n",
    "kmerLength=8\n",
    "matrix=np.zeros((numberOfClusters,4**kmerLength))\n",
    "wrongBasesList=[\"N\",\"S\",\"W\",\"Y\",\"R\",\"K\",\"D\",\"M\",\"V\",\"H\",\"B\"] ##This bases sometimes appear in the middle of the DNA\n",
    "flag=False #So the function is not called in the first iteration"
   ]
  },
  {
   "cell_type": "code",
   "execution_count": 384,
   "metadata": {},
   "outputs": [],
   "source": [
    "def obtainingKmers (sequence,kmerLength):\n",
    "    for i in range (0,len(sequence),kmerLength):\n",
    "        kmer = sequence[i:i+kmerLength]\n",
    "        ##If the last kmer is shorter or if a kmer has a wrong base, it is ignored\n",
    "        if len(kmer)!=kmerLength or any (wrongBase in kmer for wrongBase in wrongBasesList):\n",
    "            continue\n",
    "        column=from4BasedToColumnInTheMatrix(fromKmerTo4BasedValue(kmer))##Column of the matrix for that kmer\n",
    "        matrix[clusterNumber, column]+=1 ##Increases that cell by 1 count"
   ]
  },
  {
   "cell_type": "code",
   "execution_count": 385,
   "metadata": {},
   "outputs": [],
   "source": [
    "def fromKmerTo4BasedValue(kmer): ##Converts the kmer into a quaternary number\n",
    "    lettersValue={\"A\":\"0\",\"C\":\"1\",\"G\":\"2\",\"T\":\"3\"}\n",
    "    value4Based=\"\"\n",
    "    for nucleotide in kmer:\n",
    "        value4Based+=lettersValue[nucleotide]\n",
    "    return value4Based"
   ]
  },
  {
   "cell_type": "code",
   "execution_count": 386,
   "metadata": {},
   "outputs": [],
   "source": [
    "def from4BasedToColumnInTheMatrix(value4Based): ##Takes a quaternary number and says the column of the matrix related to it\n",
    "    exponent=len(value4Based)-1\n",
    "    outputColumn=0\n",
    "    for value in value4Based:\n",
    "        outputColumn+=int(value)*(4**exponent)\n",
    "        exponent-=1\n",
    "    return outputColumn"
   ]
  },
  {
   "cell_type": "code",
   "execution_count": 387,
   "metadata": {},
   "outputs": [],
   "source": [
    "##The first time the flag is false so the function is not called yet.\n",
    "##From that point on, when we find a new cluster, the method is called for the previous cluster\n",
    "##The last line outside the loop calls the method for the last cluster\n",
    "for line in inputFile:\n",
    "    line=line.strip(\"\\n\")\n",
    "    if line[0:1]==\">\":\n",
    "        if flag:#Calls the function for the previous cluster\n",
    "            obtainingKmers(sequence,kmerLength)\n",
    "            clusterNumber+=1\n",
    "        else:\n",
    "            flag = True\n",
    "        sequence=\"\"\n",
    "    else:\n",
    "        sequence+=line\n",
    "obtainingKmers(sequence,kmerLength)"
   ]
  },
  {
   "cell_type": "code",
   "execution_count": 388,
   "metadata": {},
   "outputs": [],
   "source": [
    "inputFile.close()"
   ]
  },
  {
   "cell_type": "code",
   "execution_count": 389,
   "metadata": {},
   "outputs": [
    {
     "data": {
      "text/plain": [
       "array([[0., 0., 0., ..., 0., 0., 0.],\n",
       "       [0., 0., 0., ..., 0., 0., 0.],\n",
       "       [1., 0., 0., ..., 0., 0., 1.],\n",
       "       ...,\n",
       "       [0., 0., 0., ..., 0., 0., 0.],\n",
       "       [0., 0., 0., ..., 0., 0., 0.],\n",
       "       [0., 0., 0., ..., 0., 0., 0.]])"
      ]
     },
     "execution_count": 389,
     "metadata": {},
     "output_type": "execute_result"
    }
   ],
   "source": [
    "matrix.view()"
   ]
  },
  {
   "cell_type": "code",
   "execution_count": 390,
   "metadata": {},
   "outputs": [],
   "source": [
    "np.savetxt('trialMatrix.csv',matrix,delimiter=',',fmt=\"%d\")"
   ]
  },
  {
   "cell_type": "code",
   "execution_count": null,
   "metadata": {},
   "outputs": [],
   "source": []
  }
 ],
 "metadata": {
  "kernelspec": {
   "display_name": "Python 3",
   "language": "python",
   "name": "python3"
  },
  "language_info": {
   "codemirror_mode": {
    "name": "ipython",
    "version": 3
   },
   "file_extension": ".py",
   "mimetype": "text/x-python",
   "name": "python",
   "nbconvert_exporter": "python",
   "pygments_lexer": "ipython3",
   "version": "3.7.2"
  }
 },
 "nbformat": 4,
 "nbformat_minor": 2
}
