{
 "cells": [
  {
   "cell_type": "code",
   "execution_count": 4,
   "metadata": {},
   "outputs": [],
   "source": [
    "##This script was used when analysing results broken down into categories. The valid clusters were obtained from the normal CDK fingerprints file. In this file all the clusters without fingerprints in their json file had already been removed"
   ]
  },
  {
   "cell_type": "code",
   "execution_count": 5,
   "metadata": {},
   "outputs": [
    {
     "name": "stdout",
     "output_type": "stream",
     "text": [
      "C:\\Users\\Yoo\\Desktop\\summerProject\\hmmer-3.2.1\\trial\\usefulFiles\\breakingDownCategories\n"
     ]
    }
   ],
   "source": [
    "cd C:\\Users\\Yoo\\Desktop\\summerProject\\hmmer-3.2.1\\trial\\usefulFiles\\breakingDownCategories"
   ]
  },
  {
   "cell_type": "code",
   "execution_count": 6,
   "metadata": {},
   "outputs": [],
   "source": [
    "listOfValidClusters=[]\n",
    "inputFile= open (\"fingerPrintsForIndividualClustersNOT478.txt\")\n",
    "for line in inputFile:\n",
    "    listOfValidClusters.append(line[0:10])\n",
    "inputFile.close()"
   ]
  },
  {
   "cell_type": "code",
   "execution_count": 7,
   "metadata": {},
   "outputs": [],
   "source": [
    "outputFile= open (\"categoriesProcessed.csv\",\"w\")\n",
    "inputFile = open (\"categories.csv\")\n",
    "currentCluster=\"\"\n",
    "for line in inputFile:\n",
    "    line =line.strip(\"\\n\")\n",
    "    #print (line[0:10])\n",
    "    currentCluster= line[0:10]\n",
    "    if currentCluster in listOfValidClusters:\n",
    "        outputFile.write(line+\"\\n\")\n",
    "inputFile.close()\n",
    "outputFile.close()"
   ]
  },
  {
   "cell_type": "code",
   "execution_count": null,
   "metadata": {},
   "outputs": [],
   "source": []
  }
 ],
 "metadata": {
  "kernelspec": {
   "display_name": "Python 3",
   "language": "python",
   "name": "python3"
  },
  "language_info": {
   "codemirror_mode": {
    "name": "ipython",
    "version": 3
   },
   "file_extension": ".py",
   "mimetype": "text/x-python",
   "name": "python",
   "nbconvert_exporter": "python",
   "pygments_lexer": "ipython3",
   "version": "3.7.2"
  }
 },
 "nbformat": 4,
 "nbformat_minor": 2
}
