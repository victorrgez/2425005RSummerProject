{
 "cells": [
  {
   "cell_type": "code",
   "execution_count": 1,
   "metadata": {},
   "outputs": [],
   "source": [
    "##Simplifies the fingerprint to line[13] which is 1 in around 50% of the clusters\n",
    "##This output was used for benchmarking the neural network results with other algorithms from sckit learn\n",
    "##At first, the neural network was stuck in local optima all the time so debugging was needed."
   ]
  },
  {
   "cell_type": "code",
   "execution_count": 2,
   "metadata": {},
   "outputs": [
    {
     "name": "stdout",
     "output_type": "stream",
     "text": [
      "C:\\Users\\Yoo\\Desktop\\summerProject\\hmmer-3.2.1\\trial\\usefulFiles\\machineLearningKernelPfamFingerPrints\n"
     ]
    }
   ],
   "source": [
    "cd C:\\Users\\Yoo\\Desktop\\summerProject\\hmmer-3.2.1\\trial\\usefulFiles\\machineLearningKernelPfamFingerPrints"
   ]
  },
  {
   "cell_type": "code",
   "execution_count": 3,
   "metadata": {},
   "outputs": [],
   "source": [
    "inputFile = open (\"fingerPrintsForIndividualClustersNOT478.txt\")\n",
    "outputFile = open (\"simplifiedFingerprint.txt\",\"w\")\n",
    "for line in inputFile:\n",
    "    line = line[0:11] + line [13]+\"\\n\"\n",
    "    outputFile.write(line)\n",
    "inputFile.close()\n",
    "outputFile.close()"
   ]
  },
  {
   "cell_type": "code",
   "execution_count": null,
   "metadata": {},
   "outputs": [],
   "source": []
  }
 ],
 "metadata": {
  "kernelspec": {
   "display_name": "Python 3",
   "language": "python",
   "name": "python3"
  },
  "language_info": {
   "codemirror_mode": {
    "name": "ipython",
    "version": 3
   },
   "file_extension": ".py",
   "mimetype": "text/x-python",
   "name": "python",
   "nbconvert_exporter": "python",
   "pygments_lexer": "ipython3",
   "version": "3.7.2"
  }
 },
 "nbformat": 4,
 "nbformat_minor": 2
}
