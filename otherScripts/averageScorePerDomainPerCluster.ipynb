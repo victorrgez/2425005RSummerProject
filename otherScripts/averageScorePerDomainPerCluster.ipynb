{
 "cells": [
  {
   "cell_type": "code",
   "execution_count": 165,
   "metadata": {},
   "outputs": [
    {
     "name": "stdout",
     "output_type": "stream",
     "text": [
      "C:\\Users\\Yoo\\Desktop\\Summer Project\\hmmer-3.2.1\\trial\n"
     ]
    }
   ],
   "source": [
    "##The output file says for each cluster and pfam domain, the number of times it appears and the average Score it has\n",
    "##In the end this script was not used but the average score might work as the likelihood of the pfam domain being present in the cluster"
   ]
  },
  {
   "cell_type": "code",
   "execution_count": null,
   "metadata": {},
   "outputs": [],
   "source": [
    "cd C:\\Users\\Yoo\\Desktop\\Summer Project\\hmmer-3.2.1\\trial "
   ]
  },
  {
   "cell_type": "code",
   "execution_count": 166,
   "metadata": {},
   "outputs": [],
   "source": [
    "inputFile = open (\"everycdspfamdomains.txt\",\"r\")\n",
    "outputFile = open (\"averageScorePerDomainPerCluster.txt\",\"w\")\n",
    "clusterDictionary={}\n",
    "currentCluster=\"\""
   ]
  },
  {
   "cell_type": "code",
   "execution_count": 167,
   "metadata": {},
   "outputs": [],
   "source": [
    "##This code is kind of tricky. In the input file, the same cluster appears more than once (once for each CDS)\n",
    "##So we have to know if we are still in the same cluster or if we are in a new one\n",
    "##The lines that start with \">>\" are the lines with the name of a domain\n",
    "##Exactly three lines after that we find the score of the domain for that cluster\n",
    "##However, there can be another score just below that one, so we have to turn on the flag \"morePossibleScores\" till we know for sure there are no more scores\n",
    "##We know there is no more scores if the next line is empty. That is, the flag is on but \"If Line:\" returns false\n",
    "##When the \"lookingForTheScoreFlag\" is 3, then we get the score as we said that the score is three lines after the domain name\n",
    "##When checking the other lines with more possible scores, if the score is bigger we keep it, otherwise ignore it\n",
    "##Each cluster finishes with \"//\" and we turn the newQueryFlag on\n",
    "newQueryFlag = True\n",
    "lookingForTheScoreFlag = 4\n",
    "morePossibleScores=False\n",
    "maxScore=0.0\n",
    "for line in inputFile:\n",
    "    line=line.strip(\"\\n\")\n",
    "    if morePossibleScores:\n",
    "        if line:\n",
    "            #All those empty lines after the the possible scores just have a \"\\n\" that has been remove two lines up\n",
    "            #Only other lines with a score will be true then\n",
    "            line=\" \".join(line.split())\n",
    "            line=line.split()\n",
    "            if float(line[2]) > maxScore:\n",
    "                maxScore=float(line[2])\n",
    "        else:\n",
    "            clusterDictionary[currentCluster][domainName][1]+=maxScore\n",
    "            maxScore=0.0\n",
    "            morePossibleScores=False\n",
    "            lookingForTheScoreFlag=4\n",
    "    elif newQueryFlag:\n",
    "        if line[:6]==\"Query:\":\n",
    "            line=\" \".join(line.split())\n",
    "            line=line.split(\"|\")\n",
    "            currentCluster=line[0][7:]\n",
    "            if currentCluster not in clusterDictionary.keys():\n",
    "                clusterDictionary[currentCluster]={}\n",
    "            newQueryFlag = False\n",
    "    else:\n",
    "        if lookingForTheScoreFlag==4:\n",
    "            if line[:2]==\"//\":\n",
    "                newQueryFlag=True\n",
    "            elif line[:3]==\">> \":\n",
    "                domainName=line[3:].split(\" \")[0]\n",
    "                if domainName not in clusterDictionary[currentCluster].keys():\n",
    "                    clusterDictionary[currentCluster][domainName]=[1,0.0]\n",
    "                else:\n",
    "                    clusterDictionary[currentCluster][domainName][0] += 1\n",
    "                lookingForTheScoreFlag=0\n",
    "        else:\n",
    "            lookingForTheScoreFlag +=1\n",
    "            if lookingForTheScoreFlag==3:\n",
    "                line=\" \".join(line.split())\n",
    "                line=line.split()\n",
    "                maxScore=float(line[2])\n",
    "                morePossibleScores=True"
   ]
  },
  {
   "cell_type": "code",
   "execution_count": 168,
   "metadata": {},
   "outputs": [],
   "source": [
    "#Calculates the average of the Scores dividing the total score by the number of hits for one domain in the same cluster\n",
    "for geneClusterName in clusterDictionary.keys():\n",
    "    for domainName in sorted(clusterDictionary[geneClusterName].keys()):\n",
    "        clusterDictionary[geneClusterName][domainName][1]= \"%.2f\" % (clusterDictionary[geneClusterName][domainName][1]/clusterDictionary[geneClusterName][domainName][0])"
   ]
  },
  {
   "cell_type": "code",
   "execution_count": 162,
   "metadata": {},
   "outputs": [
    {
     "name": "stdout",
     "output_type": "stream",
     "text": [
      "{'BGC0000001': {'PCMT': [1, '89.40'], 'Methyltransf_31': [1, '38.20'], 'Methyltransf_25': [1, '33.20'], 'Methyltransf_3': [1, '19.90'], 'Methyltransf_23': [1, '20.10'], 'Methyltransf_11': [1, '18.60'], 'Fibrillarin': [1, '15.40'], 'CMAS': [1, '15.20'], 'ACP_syn_III_C': [2, '22.30'], 'Methyltransf_12': [1, '16.00'], 'GCD14': [1, '14.90'], 'MTS': [1, '13.30'], 'Methyltransf_24': [1, '14.00'], 'Methyltransf_32': [1, '13.20'], 'Methyltransf_18': [1, '13.00'], 'RrnaAD': [1, '11.40'], 'Ubie_methyltran': [1, '11.40'], 'Methyltransf_16': [1, '11.30'], 'BTAD': [2, '131.90'], 'Trans_reg_C': [2, '35.60'], 'TPR_10': [3, '10.33'], 'TPR_14': [2, '12.05'], 'p450': [2, '85.10'], 'GerE': [1, '55.50'], 'AAA_16': [2, '24.95'], 'TPR_2': [2, '16.75'], 'TPR_12': [2, '19.35'], 'TPR_19': [2, '17.70'], 'AAA_22': [2, '17.45'], 'Sigma70_r4_2': [1, '14.70'], 'HTH_10': [2, '11.50'], 'AAA_30': [2, '9.55'], 'TPR_7': [1, '20.40'], 'TPR_16': [1, '20.30'], 'TPR_1': [1, '19.90'], 'TPR_6': [1, '9.20'], 'TPR_8': [1, '12.60'], 'RHS_repeat': [1, '26.50'], 'DUF4595': [1, '11.70'], 'DUF2850': [1, '9.60'], 'TruB_C': [1, '6.70'], 'ACP_syn_III': [4, '18.43'], 'Thiolase_N': [4, '29.33'], 'FAE1_CUT1_RppA': [1, '13.50'], 'Chal_sti_synt_N': [1, '13.80'], 'ketoacyl-synt': [4, '224.65'], 'SpoVAD': [1, '10.70'], 'Hydrolase': [1, '14.40'], 'NIF': [1, '11.70'], 'Acid_PPase': [1, '5.90'], 'PP-binding': [4, '46.15'], '2-oxoacid_dh': [1, '64.90'], 'MHB': [1, '9.50'], 'DUF1100': [1, '45.20'], 'Abhydrolase_1': [2, '14.75'], 'Acyl_transf_1': [3, '224.93'], 'KR': [2, '204.50'], 'Ketoacyl-synt_C': [3, '147.80'], 'PS-DH': [2, '164.50'], 'KAsynt_C_assoc': [3, '60.60'], 'adh_short': [3, '30.00'], 'Epimerase': [2, '24.25'], 'Sacchrp_dh_NADP': [1, '22.40'], 'Polysacc_synt_2': [2, '14.25'], 'GDP_Man_Dehyd': [2, '13.30'], '3Beta_HSD': [1, '7.70'], 'NmrA': [2, '8.90'], 'NAD_binding_4': [1, '8.90'], 'SIP': [1, '7.20'], 'ADH_zinc_N_2': [2, '49.60'], 'ADH_zinc_N': [2, '40.45'], 'Docking': [2, '31.70'], 'ADH_N': [2, '17.65'], 'SAT': [1, '6.50'], 'DUF3145': [1, '7.80'], 'DUF5529': [1, '10.60'], 'TetR_C_7': [1, '87.50'], 'TetR_N': [2, '44.65'], 'HTH_Tnp_1_2': [1, '14.30'], 'HTH_IclR': [1, '11.80'], 'HTH_23': [1, '11.90'], 'HTH_40': [1, '12.20'], 'ATP-synt_ab': [1, '12.00'], 'HTH_22': [1, '11.10'], 'TetR_C_11': [1, '10.40'], 'MFS_1': [1, '187.50'], 'Sugar_tr': [1, '27.80'], 'PUCC': [1, '19.40'], 'MFS_3': [1, '10.70'], 'MFS_1_like': [1, '13.30'], 'Bac_luciferase': [1, '135.40'], 'SBP_bac_5': [1, '243.60'], 'BPD_transp_1': [2, '98.85'], 'DUF347': [1, '10.30'], 'ABC_tran': [1, '108.10'], 'AAA_21': [1, '29.00'], 'oligo_HPY': [1, '28.00'], 'AAA_33': [1, '20.80'], 'AAA_29': [1, '16.40'], 'AAA_25': [1, '19.90'], 'RsgA_GTPase': [1, '13.50'], 'DUF87': [1, '12.20'], 'MMR_HSR1': [1, '11.50'], 'AAA_23': [1, '12.80'], 'NACHT': [1, '9.50'], 'PRK': [1, '10.20'], 'AAA_18': [1, '11.40'], 'IstB_IS21': [1, '13.10'], 'AAA_5': [1, '9.00'], 'Sigma54_activat': [1, '8.30'], 'AAA_24': [1, '9.40'], 'Mg_chelatase': [1, '7.50'], 'FtsK_SpoIIIE': [1, '9.10'], 'RNA_helicase': [1, '8.00'], 'DUF3987': [1, '6.60'], 'Dynamin_N': [1, '9.90'], 'NB-ARC': [1, '7.90'], 'MobB': [1, '8.40'], 'APS_kinase': [1, '7.60'], 'Sigma54_activ_2': [1, '9.20'], 'Zeta_toxin': [1, '6.80'], 'AAA_15': [1, '7.50'], 'AAA_7': [1, '7.00'], 'AAA': [1, '7.60'], 'Clp_N': [1, '6.60'], 'Cytidylate_kin': [1, '7.90'], 'NTPase_1': [1, '6.10'], 'Roc': [1, '5.30'], 'ATPase': [1, '4.50'], 'Septin': [1, '4.30'], 'TniB': [1, '5.40'], 'CLP1_P': [1, '4.70'], 'G-alpha': [1, '6.20'], 'CoaE': [1, '5.30'], 'ATP_bind_1': [1, '4.80'], 'AAA_28': [1, '6.20'], 'ABC_ATPase': [1, '3.70'], 'Fer4_15': [1, '45.10'], 'Fer4_13': [1, '36.70'], 'Fer4_19': [1, '29.80'], 'Fer4_10': [1, '14.30'], 'Fer4_6': [1, '10.80'], 'Fer4_7': [1, '9.30'], 'Fer4': [1, '7.40'], 'FMN_red': [1, '104.70'], 'Flavodoxin_2': [1, '25.90'], 'Flavodoxin_4': [1, '11.30'], 'Thioesterase': [1, '124.40'], 'Abhydrolase_6': [1, '40.40'], 'Hydrolase_4': [1, '18.60'], 'Abhydrolase_3': [1, '18.30'], 'Lipase_3': [1, '15.10'], 'Abhydrolase_5': [1, '10.90'], 'NAD_binding_10': [1, '13.90'], 'Tox-MPTase5': [1, '15.00'], 'TetR_C_6': [1, '11.90']}}\n"
     ]
    }
   ],
   "source": [
    "print (clusterDictionary)"
   ]
  },
  {
   "cell_type": "code",
   "execution_count": 169,
   "metadata": {},
   "outputs": [],
   "source": [
    "##Writes to a file the whole cluster dictionary. Key is the cluster name and insideKey is the name of a domain\n",
    "##For each domain we have [X, Y] where X is the number of times and Y is the average score\n",
    "for key in clusterDictionary.keys():\n",
    "    line=key+\": \"\n",
    "    for insideKey in sorted(clusterDictionary[key].keys()):\n",
    "        line+= insideKey + \": \" + str(clusterDictionary[key][insideKey]) +\"; \"\n",
    "    outputFile.write(line+\"\\n\")"
   ]
  },
  {
   "cell_type": "code",
   "execution_count": 170,
   "metadata": {},
   "outputs": [],
   "source": [
    "inputFile.close()\n",
    "outputFile.close()"
   ]
  }
 ],
 "metadata": {
  "kernelspec": {
   "display_name": "Python 3",
   "language": "python",
   "name": "python3"
  },
  "language_info": {
   "codemirror_mode": {
    "name": "ipython",
    "version": 3
   },
   "file_extension": ".py",
   "mimetype": "text/x-python",
   "name": "python",
   "nbconvert_exporter": "python",
   "pygments_lexer": "ipython3",
   "version": "3.7.2"
  }
 },
 "nbformat": 4,
 "nbformat_minor": 2
}
