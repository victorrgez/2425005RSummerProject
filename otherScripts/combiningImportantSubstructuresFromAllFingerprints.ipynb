{
 "cells": [
  {
   "cell_type": "code",
   "execution_count": null,
   "metadata": {},
   "outputs": [],
   "source": [
    "##Creates one file which contains only the important substructure for each type of fingerprints.\n",
    "##This kind of output for machine learning algorithms gave scores around 5% worse than using CDK fingerprints\n",
    "##The cut-off of percentage difference between the first and the second category can be changed in the line \"if difference > X\""
   ]
  },
  {
   "cell_type": "code",
   "execution_count": 25,
   "metadata": {},
   "outputs": [],
   "source": [
    "import numpy as np"
   ]
  },
  {
   "cell_type": "code",
   "execution_count": 26,
   "metadata": {},
   "outputs": [],
   "source": [
    "##Creates one dictionary for each file\n",
    "categoriesFile = open (\"categoriesProcessed.csv\")\n",
    "categoriesDictionary={}\n",
    "for line in categoriesFile:\n",
    "    line=line.strip(\"\\n\")\n",
    "    line=line.split(\",\")\n",
    "    categoriesDictionary[line[0]]=line[1]\n",
    "categoriesFile.close()\n",
    "fingerprintsFile = open (\"allFingerprintsCombinedWithoutDuplicates.csv\")##The substructures that are always the same don't matter\n",
    "fingerprintsDictionary={}\n",
    "for line in fingerprintsFile:\n",
    "    line = line.strip(\"\\n\")\n",
    "    line = line.split(\",\")\n",
    "    fingerprintsDictionary[line[0]]=line[1]\n",
    "fingerprintsFile.close()"
   ]
  },
  {
   "cell_type": "code",
   "execution_count": 27,
   "metadata": {},
   "outputs": [],
   "source": [
    "##Joins the two dictionaries\n",
    "##This is not the ideal way of doing it but dictionaries don't accept numpy arrays as a key. The two lists are in the same order.\n",
    "listOfFingerprints=[]\n",
    "listOfCategories=[]\n",
    "for clusterName in fingerprintsDictionary.keys():\n",
    "    listOfFingerprints.append(list(fingerprintsDictionary[clusterName]))\n",
    "    listOfCategories.append(categoriesDictionary[clusterName])"
   ]
  },
  {
   "cell_type": "code",
   "execution_count": 28,
   "metadata": {},
   "outputs": [],
   "source": [
    "##Let's calculate the indexes of each category and the total number of products in each category\n",
    "alkaloidIndexes=[]\n",
    "nrpIndexes=[]\n",
    "nucleosideIndexes=[]\n",
    "otherIndexes=[]\n",
    "polyketideIndexes=[]\n",
    "rippIndexes=[]\n",
    "saccharideIndexes=[]\n",
    "terpeneIndexes=[]\n",
    "for i in range(0, 1031):\n",
    "    if listOfCategories[i] == 'Alkaloid':\n",
    "        alkaloidIndexes.append(i)\n",
    "    elif listOfCategories[i] == 'NRP':\n",
    "        nrpIndexes.append(i)\n",
    "    elif listOfCategories[i] == 'Nucleoside':\n",
    "        nucleosideIndexes.append(i)\n",
    "    elif listOfCategories[i] == 'Other':\n",
    "        otherIndexes.append(i)\n",
    "    elif listOfCategories[i] == 'Polyketide':\n",
    "        polyketideIndexes.append(i)\n",
    "    elif listOfCategories[i] == 'RiPP':\n",
    "        rippIndexes.append(i)\n",
    "    elif listOfCategories[i] == 'Saccharide':\n",
    "        saccharideIndexes.append(i)\n",
    "    elif listOfCategories[i] == 'Terpene':\n",
    "        terpeneIndexes.append(i)\n",
    "numberOfAlkaloid=len(alkaloidIndexes)\n",
    "numberOfNrp=len(nrpIndexes)\n",
    "numberOfNucleoside=len(nucleosideIndexes)\n",
    "numberOfOther=len(otherIndexes)\n",
    "numberOfPolyketide=len(polyketideIndexes)\n",
    "numberOfRipp=len(rippIndexes)\n",
    "numberOfSaccharide=len(saccharideIndexes)\n",
    "numberOfTerpene=len(terpeneIndexes)"
   ]
  },
  {
   "cell_type": "code",
   "execution_count": 29,
   "metadata": {},
   "outputs": [],
   "source": [
    "##NUCLEOSIDE WILL NOT BE TAKEN INTO ACCOUNT AS THERE IS ONLY ONE COMPOUND AND THE PERC WILL BE 0 OR 100 ALL THE TIME\n",
    "##First, let's identify which substructures are important\n",
    "importantSubstructuresList=[]\n",
    "importantSubstructuresIndexList=[]\n",
    "for i in range (0, 9365):\n",
    "    alkaloidPerc=(sum(listOfFingerprints[j][i]=='1' for j in alkaloidIndexes))/numberOfAlkaloid*100\n",
    "    nrpPerc=(sum(listOfFingerprints[j][i]=='1' for j in nrpIndexes))/numberOfNrp*100\n",
    "    otherPerc=(sum(listOfFingerprints[j][i]=='1' for j in otherIndexes))/numberOfOther*100\n",
    "    polyketidePerc=(sum(listOfFingerprints[j][i]=='1' for j in polyketideIndexes))/numberOfPolyketide*100\n",
    "    rippPerc=(sum(listOfFingerprints[j][i]=='1' for j in rippIndexes))/numberOfRipp*100\n",
    "    saccharidePerc=(sum(listOfFingerprints[j][i]=='1' for j in saccharideIndexes))/numberOfSaccharide*100\n",
    "    terpenePerc=(sum(listOfFingerprints[j][i]=='1' for j in terpeneIndexes))/numberOfTerpene*100\n",
    "    percList = []\n",
    "    percList.append (alkaloidPerc)\n",
    "    percList.append (nrpPerc)\n",
    "    percList.append (otherPerc)\n",
    "    percList.append (polyketidePerc)\n",
    "    percList.append (rippPerc)\n",
    "    percList.append (saccharidePerc)\n",
    "    percList.append (terpenePerc)\n",
    "    maximum = max(percList)\n",
    "    maximumPos = percList.index(max(percList))\n",
    "    percList.sort()\n",
    "    secondMax=percList[-2]\n",
    "    difference = maximum-secondMax\n",
    "    if difference > 30:\n",
    "        #print (str(difference) + \"  \"+str(i) + \" \" )\n",
    "        importantSubstructuresList.append(i)\n",
    "        importantSubstructuresIndexList.append(maximumPos)"
   ]
  },
  {
   "cell_type": "code",
   "execution_count": 30,
   "metadata": {},
   "outputs": [],
   "source": [
    "##Now, let's identify for which category each substructure is important\n",
    "for i in range (0, len(importantSubstructuresList)):\n",
    "    category=''\n",
    "    if importantSubstructuresIndexList[i] == 0:\n",
    "        category='Alkaloids'\n",
    "    elif importantSubstructuresIndexList[i] == 1:\n",
    "        category='NRPs'\n",
    "    elif importantSubstructuresIndexList[i] == 2:\n",
    "        category='Others'\n",
    "    elif importantSubstructuresIndexList[i] == 3:\n",
    "        category='Polyketides'\n",
    "    elif importantSubstructuresIndexList[i] == 4:\n",
    "        category='RiPPs'\n",
    "    elif importantSubstructuresIndexList[i] == 5:\n",
    "        category='Saccharides'\n",
    "    elif importantSubstructuresIndexList[i] == 6:\n",
    "        category='Terpenes'\n",
    "    #print (\"The substructure number %d is clearly differentiated for %s\" % (importantSubstructuresList[i], category))"
   ]
  },
  {
   "cell_type": "code",
   "execution_count": 31,
   "metadata": {},
   "outputs": [
    {
     "name": "stdout",
     "output_type": "stream",
     "text": [
      "451\n"
     ]
    }
   ],
   "source": [
    "print (len (importantSubstructuresList))"
   ]
  },
  {
   "cell_type": "code",
   "execution_count": 32,
   "metadata": {},
   "outputs": [],
   "source": [
    "##Creates a new file and writes only the most important substructures with more than 35% difference between the first and the second category\n",
    "outputFile = open (\"combinedImportantSubstructures.csv\",\"w\")\n",
    "inputFile = open (\"allFingerprintsCombinedWithoutDuplicates.csv\")\n",
    "for line in inputFile:\n",
    "    line = line.strip(\"\\n\")\n",
    "    outputFile.write(line[0:11])##Name Of The cluster plus \",\"\n",
    "    i=0\n",
    "    for character in line[11:]:\n",
    "        if i in importantSubstructuresList:\n",
    "            outputFile.write(character)\n",
    "        i += 1\n",
    "    outputFile.write(\"\\n\")\n",
    "inputFile.close()\n",
    "outputFile.close()"
   ]
  },
  {
   "cell_type": "code",
   "execution_count": null,
   "metadata": {},
   "outputs": [],
   "source": []
  }
 ],
 "metadata": {
  "kernelspec": {
   "display_name": "Python 3",
   "language": "python",
   "name": "python3"
  },
  "language_info": {
   "codemirror_mode": {
    "name": "ipython",
    "version": 3
   },
   "file_extension": ".py",
   "mimetype": "text/x-python",
   "name": "python",
   "nbconvert_exporter": "python",
   "pygments_lexer": "ipython3",
   "version": "3.7.2"
  }
 },
 "nbformat": 4,
 "nbformat_minor": 2
}
