{
 "cells": [
  {
   "cell_type": "code",
   "execution_count": 29,
   "metadata": {},
   "outputs": [],
   "source": [
    "##Gets all the cds from a genBank file\n",
    "##This script is no longer used as we have already one fasta file from MiBIG with all the CDS of all the clusters\n",
    "from Bio import SeqIO\n",
    "import os"
   ]
  },
  {
   "cell_type": "code",
   "execution_count": 30,
   "metadata": {},
   "outputs": [
    {
     "name": "stdout",
     "output_type": "stream",
     "text": [
      "C:\\Users\\Yoo\\Desktop\\Summer Project\\Mibig\n"
     ]
    }
   ],
   "source": [
    "cd C:\\Users\\Yoo\\Desktop\\Summer Project\\Mibig  "
   ]
  },
  {
   "cell_type": "code",
   "execution_count": 31,
   "metadata": {},
   "outputs": [],
   "source": [
    "outputFile = open (\"AminoAcidSequences.fasta\",\"w\")"
   ]
  },
  {
   "cell_type": "code",
   "execution_count": 32,
   "metadata": {},
   "outputs": [],
   "source": [
    "inputFile = open (\"BGC0000001.gbk\")\n",
    "CDSs = SeqIO.InsdcIO.GenBankCdsFeatureIterator(inputFile)\n",
    "i=1\n",
    "for cds in CDSs:\n",
    "    if i!=1:\n",
    "        outputFile.write(\"\\n\")\n",
    "    outputFile.write (\">\"+str(i))\n",
    "    outputFile.write(\"\\n\")\n",
    "    outputFile.write (str(cds.seq))\n",
    "    i+=1"
   ]
  },
  {
   "cell_type": "code",
   "execution_count": null,
   "metadata": {},
   "outputs": [],
   "source": []
  }
 ],
 "metadata": {
  "kernelspec": {
   "display_name": "Python 3",
   "language": "python",
   "name": "python3"
  },
  "language_info": {
   "codemirror_mode": {
    "name": "ipython",
    "version": 3
   },
   "file_extension": ".py",
   "mimetype": "text/x-python",
   "name": "python",
   "nbconvert_exporter": "python",
   "pygments_lexer": "ipython3",
   "version": "3.7.2"
  }
 },
 "nbformat": 4,
 "nbformat_minor": 2
}
