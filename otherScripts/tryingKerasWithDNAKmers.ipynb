{
 "cells": [
  {
   "cell_type": "code",
   "execution_count": null,
   "metadata": {},
   "outputs": [],
   "source": [
    "##Script used for obtaining keras results with DNA kmers, they are way worse than with pfam counts."
   ]
  },
  {
   "cell_type": "code",
   "execution_count": 252,
   "metadata": {},
   "outputs": [
    {
     "name": "stdout",
     "output_type": "stream",
     "text": [
      "C:\\Users\\Yoo\\Desktop\\summerProject\\hmmer-3.2.1\\trial\\usefulFiles\\dictionariesForKmerCounts\n"
     ]
    }
   ],
   "source": [
    "cd C:\\Users\\Yoo\\Desktop\\summerProject\\hmmer-3.2.1\\trial\\usefulFiles\\dictionariesForKmerCounts"
   ]
  },
  {
   "cell_type": "code",
   "execution_count": 253,
   "metadata": {},
   "outputs": [],
   "source": [
    "import numpy as np"
   ]
  },
  {
   "cell_type": "code",
   "execution_count": 254,
   "metadata": {},
   "outputs": [],
   "source": [
    "kmerToColumn={}\n",
    "i=0\n",
    "numberOfClusters=0\n",
    "inputFile = open(\"length4Processed.txt\")\n",
    "for line in inputFile:\n",
    "    if line [0:3]== \"BGC\":\n",
    "        numberOfClusters +=1\n",
    "        continue\n",
    "    line = line.strip(\"\\n\")\n",
    "    line = line.strip(\";\")\n",
    "    line = line.split(\";\")\n",
    "    for kmer in line:\n",
    "        kmer=kmer.split(\":\")\n",
    "        if kmer[0] not in kmerToColumn:\n",
    "            kmerToColumn[kmer[0]]=i\n",
    "            i+=1\n",
    "inputFile.close()"
   ]
  },
  {
   "cell_type": "code",
   "execution_count": 255,
   "metadata": {},
   "outputs": [],
   "source": [
    "inputVectorMatrix= np.zeros((numberOfClusters,i))\n",
    "i=0\n",
    "inputFile = open(\"length4Processed.txt\")\n",
    "for line in inputFile:\n",
    "    if line [0:3]== \"BGC\":\n",
    "        continue\n",
    "    thisClusterDictionary={}\n",
    "    line = line.strip(\"\\n\")\n",
    "    line = line.strip(\";\")\n",
    "    line = line.split(\";\")\n",
    "    for kmer in line:\n",
    "        kmer=kmer.split(\":\")\n",
    "        thisClusterDictionary[kmer[0]] =kmer[1]\n",
    "    for key in kmerToColumn:\n",
    "        if key in thisClusterDictionary.keys():\n",
    "            inputVectorMatrix[i,kmerToColumn[key]] = thisClusterDictionary[key]\n",
    "    i+=1\n",
    "inputFile.close()"
   ]
  },
  {
   "cell_type": "code",
   "execution_count": 256,
   "metadata": {},
   "outputs": [],
   "source": [
    "def convertStringIntoVector (String):##Receives a binary vector in the form of a String\n",
    "    intoList=list(String)\n",
    "    vector=np.asarray(intoList,dtype=int)\n",
    "    return vector"
   ]
  },
  {
   "cell_type": "code",
   "execution_count": 257,
   "metadata": {},
   "outputs": [
    {
     "name": "stdout",
     "output_type": "stream",
     "text": [
      "C:\\Users\\Yoo\\Desktop\\summerProject\\hmmer-3.2.1\\trial\\usefulFiles\\machineLearningKernelPfamFingerPrints\n"
     ]
    }
   ],
   "source": [
    "cd C:\\Users\\Yoo\\Desktop\\summerProject\\hmmer-3.2.1\\trial\\usefulFiles\\machineLearningKernelPfamFingerPrints"
   ]
  },
  {
   "cell_type": "code",
   "execution_count": 258,
   "metadata": {},
   "outputs": [],
   "source": [
    "fingerprintFile=open (\"fingerPrintsForIndividualClustersNOT478.txt\")\n",
    "fingerprintList=[]##List of strings\n",
    "for line in fingerprintFile:\n",
    "    line=line.strip(\"\\n\")\n",
    "    fingerprintList.append(line[11:])\n",
    "fingerprintFile.close()"
   ]
  },
  {
   "cell_type": "code",
   "execution_count": 259,
   "metadata": {},
   "outputs": [],
   "source": [
    "fingerprintVectorList=[]##List of vectors\n",
    "numberOfClusters=0\n",
    "for fingerprintString in fingerprintList:\n",
    "    fingerprintVectorList.append(convertStringIntoVector(fingerprintString))\n",
    "    numberOfClusters+=1\n",
    "yData=fingerprintVectorList\n",
    "xData=inputVectorMatrix"
   ]
  },
  {
   "cell_type": "code",
   "execution_count": 260,
   "metadata": {},
   "outputs": [],
   "source": [
    "####THIS CAN BE ACTIVATED FOR NORMALISATION OF EACH COLUMN\n",
    "#numberOfFeatures= xData.shape[1]\n",
    "#for i in range (0,numberOfFeatures):\n",
    "   # mean=xData.mean(0)[i]\n",
    "   # sd= xData.std(0)[i]\n",
    "    #for j in range (0, numberOfClusters):\n",
    "        #xData[j][i]= (xData[j][i]-mean)/sd"
   ]
  },
  {
   "cell_type": "code",
   "execution_count": 261,
   "metadata": {},
   "outputs": [],
   "source": [
    "yData=np.concatenate(yData,axis=0)\n",
    "yData=yData.reshape(numberOfClusters,306)\n",
    "#The reshape puts the data as one row for each training example\n",
    "inputDimension= xData.shape[1]"
   ]
  },
  {
   "cell_type": "code",
   "execution_count": 262,
   "metadata": {},
   "outputs": [],
   "source": [
    "import random\n",
    "#Creates a list of Random Numbers as big as the number of Clusters we have\n",
    "#Then we will select which ones we have for each subset\n",
    "listOfRandomNumbers=random.sample(range(numberOfClusters), numberOfClusters)"
   ]
  },
  {
   "cell_type": "code",
   "execution_count": 263,
   "metadata": {},
   "outputs": [],
   "source": [
    "xTestData = np.asarray([xData[i] for i in listOfRandomNumbers[618:824]],dtype=int)\n",
    "yTestData = np.asarray([yData[i] for i in listOfRandomNumbers[618:824]],dtype=int)\n",
    "xTrainingData = np.asarray([xData[i] for i in (listOfRandomNumbers[:618]+listOfRandomNumbers[824:])],dtype=int)\n",
    "yTrainingData = np.asarray([yData[i]for i in (listOfRandomNumbers[:618]+listOfRandomNumbers[824:])],dtype=int)"
   ]
  },
  {
   "cell_type": "code",
   "execution_count": 264,
   "metadata": {},
   "outputs": [],
   "source": [
    "from keras.models import Sequential\n",
    "from keras.layers import Dense, Activation\n",
    "from keras import optimizers\n",
    "from keras import initializers\n",
    "nn=[inputDimension, 30, 306]\n",
    "##The weights of the model are saved and loaded each time the learning rate is changed"
   ]
  },
  {
   "cell_type": "code",
   "execution_count": 265,
   "metadata": {},
   "outputs": [
    {
     "name": "stdout",
     "output_type": "stream",
     "text": [
      "Epoch 1/30\n",
      "825/825 [==============================] - 22s 27ms/step - loss: 0.7535 - binary_crossentropy: 0.7535\n",
      "Epoch 2/30\n",
      "825/825 [==============================] - 0s 112us/step - loss: 0.6849 - binary_crossentropy: 0.6849\n",
      "Epoch 3/30\n",
      "825/825 [==============================] - 0s 116us/step - loss: 0.6785 - binary_crossentropy: 0.6785\n",
      "Epoch 4/30\n",
      "825/825 [==============================] - 0s 117us/step - loss: 0.6691 - binary_crossentropy: 0.6691\n",
      "Epoch 5/30\n",
      "825/825 [==============================] - 0s 115us/step - loss: 0.6586 - binary_crossentropy: 0.6586\n",
      "Epoch 6/30\n",
      "825/825 [==============================] - 0s 120us/step - loss: 0.6384 - binary_crossentropy: 0.6384\n",
      "Epoch 7/30\n",
      "825/825 [==============================] - 0s 120us/step - loss: 0.6108 - binary_crossentropy: 0.6108\n",
      "Epoch 8/30\n",
      "825/825 [==============================] - 0s 114us/step - loss: 0.5659 - binary_crossentropy: 0.5659\n",
      "Epoch 9/30\n",
      "825/825 [==============================] - 0s 112us/step - loss: 0.4763 - binary_crossentropy: 0.4763\n",
      "Epoch 10/30\n",
      "825/825 [==============================] - 0s 118us/step - loss: 0.3271 - binary_crossentropy: 0.3271\n",
      "Epoch 11/30\n",
      "825/825 [==============================] - 0s 120us/step - loss: 0.2469 - binary_crossentropy: 0.2469\n",
      "Epoch 12/30\n",
      "825/825 [==============================] - 0s 117us/step - loss: 0.2202 - binary_crossentropy: 0.2202\n",
      "Epoch 13/30\n",
      "825/825 [==============================] - 0s 120us/step - loss: 0.2058 - binary_crossentropy: 0.2058\n",
      "Epoch 14/30\n",
      "825/825 [==============================] - 0s 120us/step - loss: 0.1966 - binary_crossentropy: 0.1966\n",
      "Epoch 15/30\n",
      "825/825 [==============================] - 0s 120us/step - loss: 0.1913 - binary_crossentropy: 0.1913\n",
      "Epoch 16/30\n",
      "825/825 [==============================] - 0s 126us/step - loss: 0.1863 - binary_crossentropy: 0.1863\n",
      "Epoch 17/30\n",
      "825/825 [==============================] - 0s 118us/step - loss: 0.1832 - binary_crossentropy: 0.1832\n",
      "Epoch 18/30\n",
      "825/825 [==============================] - 0s 126us/step - loss: 0.1839 - binary_crossentropy: 0.1839\n",
      "Epoch 19/30\n",
      "825/825 [==============================] - 0s 118us/step - loss: 0.1820 - binary_crossentropy: 0.1820\n",
      "Epoch 20/30\n",
      "825/825 [==============================] - 0s 118us/step - loss: 0.1860 - binary_crossentropy: 0.1860\n",
      "Epoch 21/30\n",
      "825/825 [==============================] - 0s 122us/step - loss: 0.1809 - binary_crossentropy: 0.1809\n",
      "Epoch 22/30\n",
      "825/825 [==============================] - 0s 137us/step - loss: 0.1809 - binary_crossentropy: 0.1809\n",
      "Epoch 23/30\n",
      "825/825 [==============================] - 0s 121us/step - loss: 0.1790 - binary_crossentropy: 0.1790\n",
      "Epoch 24/30\n",
      "825/825 [==============================] - 0s 118us/step - loss: 0.1783 - binary_crossentropy: 0.1783\n",
      "Epoch 25/30\n",
      "825/825 [==============================] - 0s 113us/step - loss: 0.1751 - binary_crossentropy: 0.1751\n",
      "Epoch 26/30\n",
      "825/825 [==============================] - 0s 126us/step - loss: 0.1784 - binary_crossentropy: 0.1784\n",
      "Epoch 27/30\n",
      "825/825 [==============================] - 0s 127us/step - loss: 0.1772 - binary_crossentropy: 0.1772\n",
      "Epoch 28/30\n",
      "825/825 [==============================] - 0s 113us/step - loss: 0.1779 - binary_crossentropy: 0.1779\n",
      "Epoch 29/30\n",
      "825/825 [==============================] - 0s 126us/step - loss: 0.1742 - binary_crossentropy: 0.1742\n",
      "Epoch 30/30\n",
      "825/825 [==============================] - 0s 121us/step - loss: 0.1802 - binary_crossentropy: 0.1802\n"
     ]
    }
   ],
   "source": [
    "lr=0.03\n",
    "model=Sequential()\n",
    "model.add(Dense(nn[0], input_dim=inputDimension, activation = 'relu', kernel_initializer=initializers.random_normal(stddev=0.1) ))\n",
    "model.add(Dense(nn[1], activation = 'relu', kernel_initializer=initializers.random_normal(stddev=0.1)))\n",
    "model.add(Dense(nn[1], activation = 'relu', kernel_initializer=initializers.random_normal(stddev=0.1)))\n",
    "model.add(Dense(nn[1], activation = 'relu',kernel_initializer=initializers.random_normal(stddev=0.1)))\n",
    "model.add(Dense(nn[2], activation = 'sigmoid',kernel_initializer=initializers.random_normal(stddev=0.1)))\n",
    "model.compile(loss='binary_crossentropy', optimizer=optimizers.SGD(lr=lr), metrics = ['binary_crossentropy'])\n",
    "model.fit(xTrainingData, yTrainingData, epochs=30)\n",
    "model.save_weights('trial.h5')"
   ]
  },
  {
   "cell_type": "code",
   "execution_count": 266,
   "metadata": {},
   "outputs": [
    {
     "name": "stdout",
     "output_type": "stream",
     "text": [
      "Epoch 1/30\n",
      "825/825 [==============================] - 23s 28ms/step - loss: 0.1671 - binary_crossentropy: 0.1671\n",
      "Epoch 2/30\n",
      "825/825 [==============================] - 0s 121us/step - loss: 0.1635 - binary_crossentropy: 0.1635\n",
      "Epoch 3/30\n",
      "825/825 [==============================] - 0s 115us/step - loss: 0.1633 - binary_crossentropy: 0.1633\n",
      "Epoch 4/30\n",
      "825/825 [==============================] - 0s 114us/step - loss: 0.1638 - binary_crossentropy: 0.1638\n",
      "Epoch 5/30\n",
      "825/825 [==============================] - 0s 120us/step - loss: 0.1635 - binary_crossentropy: 0.1635\n",
      "Epoch 6/30\n",
      "825/825 [==============================] - 0s 120us/step - loss: 0.1632 - binary_crossentropy: 0.1632\n",
      "Epoch 7/30\n",
      "825/825 [==============================] - 0s 118us/step - loss: 0.1629 - binary_crossentropy: 0.1629\n",
      "Epoch 8/30\n",
      "825/825 [==============================] - 0s 123us/step - loss: 0.1630 - binary_crossentropy: 0.1630\n",
      "Epoch 9/30\n",
      "825/825 [==============================] - 0s 124us/step - loss: 0.1634 - binary_crossentropy: 0.1634\n",
      "Epoch 10/30\n",
      "825/825 [==============================] - 0s 116us/step - loss: 0.1634 - binary_crossentropy: 0.1634\n",
      "Epoch 11/30\n",
      "825/825 [==============================] - 0s 120us/step - loss: 0.1634 - binary_crossentropy: 0.1634\n",
      "Epoch 12/30\n",
      "825/825 [==============================] - 0s 121us/step - loss: 0.1627 - binary_crossentropy: 0.1627\n",
      "Epoch 13/30\n",
      "825/825 [==============================] - 0s 118us/step - loss: 0.1624 - binary_crossentropy: 0.1624\n",
      "Epoch 14/30\n",
      "825/825 [==============================] - 0s 117us/step - loss: 0.1633 - binary_crossentropy: 0.1633\n",
      "Epoch 15/30\n",
      "825/825 [==============================] - 0s 125us/step - loss: 0.1633 - binary_crossentropy: 0.1633\n",
      "Epoch 16/30\n",
      "825/825 [==============================] - 0s 129us/step - loss: 0.1632 - binary_crossentropy: 0.1632\n",
      "Epoch 17/30\n",
      "825/825 [==============================] - 0s 122us/step - loss: 0.1631 - binary_crossentropy: 0.1631\n",
      "Epoch 18/30\n",
      "825/825 [==============================] - 0s 122us/step - loss: 0.1629 - binary_crossentropy: 0.1629\n",
      "Epoch 19/30\n",
      "825/825 [==============================] - 0s 136us/step - loss: 0.1633 - binary_crossentropy: 0.1633\n",
      "Epoch 20/30\n",
      "825/825 [==============================] - 0s 114us/step - loss: 0.1631 - binary_crossentropy: 0.1631\n",
      "Epoch 21/30\n",
      "825/825 [==============================] - 0s 120us/step - loss: 0.1633 - binary_crossentropy: 0.1633\n",
      "Epoch 22/30\n",
      "825/825 [==============================] - 0s 117us/step - loss: 0.1625 - binary_crossentropy: 0.1625\n",
      "Epoch 23/30\n",
      "825/825 [==============================] - 0s 120us/step - loss: 0.1630 - binary_crossentropy: 0.1630\n",
      "Epoch 24/30\n",
      "825/825 [==============================] - 0s 125us/step - loss: 0.1627 - binary_crossentropy: 0.1627\n",
      "Epoch 25/30\n",
      "825/825 [==============================] - 0s 127us/step - loss: 0.1628 - binary_crossentropy: 0.1628\n",
      "Epoch 26/30\n",
      "825/825 [==============================] - 0s 121us/step - loss: 0.1635 - binary_crossentropy: 0.1635\n",
      "Epoch 27/30\n",
      "825/825 [==============================] - 0s 120us/step - loss: 0.1630 - binary_crossentropy: 0.1630\n",
      "Epoch 28/30\n",
      "825/825 [==============================] - 0s 135us/step - loss: 0.1633 - binary_crossentropy: 0.1633\n",
      "Epoch 29/30\n",
      "825/825 [==============================] - 0s 126us/step - loss: 0.1635 - binary_crossentropy: 0.1635\n",
      "Epoch 30/30\n",
      "825/825 [==============================] - 0s 117us/step - loss: 0.1625 - binary_crossentropy: 0.1625\n"
     ]
    }
   ],
   "source": [
    "lr=0.01\n",
    "model=Sequential()\n",
    "model.add(Dense(nn[0], input_dim=inputDimension, activation = 'relu', kernel_initializer=initializers.random_normal(stddev=0.1) ))\n",
    "model.add(Dense(nn[1], activation = 'relu', kernel_initializer=initializers.random_normal(stddev=0.1)))\n",
    "model.add(Dense(nn[1], activation = 'relu', kernel_initializer=initializers.random_normal(stddev=0.1)))\n",
    "model.add(Dense(nn[1], activation = 'relu',kernel_initializer=initializers.random_normal(stddev=0.1)))\n",
    "model.add(Dense(nn[2], activation = 'sigmoid',kernel_initializer=initializers.random_normal(stddev=0.1)))\n",
    "model.compile(loss='binary_crossentropy', optimizer=optimizers.SGD(lr=lr), metrics = ['binary_crossentropy'])\n",
    "model.load_weights(\"trial.h5\")\n",
    "model.fit(xTrainingData, yTrainingData, epochs=30)\n",
    "model.save_weights('trial.h5')"
   ]
  },
  {
   "cell_type": "code",
   "execution_count": 267,
   "metadata": {},
   "outputs": [
    {
     "name": "stdout",
     "output_type": "stream",
     "text": [
      "Epoch 1/30\n",
      "825/825 [==============================] - 22s 27ms/step - loss: 0.1601 - binary_crossentropy: 0.1601\n",
      "Epoch 2/30\n",
      "825/825 [==============================] - 0s 114us/step - loss: 0.1598 - binary_crossentropy: 0.1598\n",
      "Epoch 3/30\n",
      "825/825 [==============================] - 0s 121us/step - loss: 0.1599 - binary_crossentropy: 0.1599\n",
      "Epoch 4/30\n",
      "825/825 [==============================] - 0s 122us/step - loss: 0.1599 - binary_crossentropy: 0.1599\n",
      "Epoch 5/30\n",
      "825/825 [==============================] - 0s 118us/step - loss: 0.1598 - binary_crossentropy: 0.1598\n",
      "Epoch 6/30\n",
      "825/825 [==============================] - 0s 124us/step - loss: 0.1597 - binary_crossentropy: 0.1597\n",
      "Epoch 7/30\n",
      "825/825 [==============================] - 0s 118us/step - loss: 0.1601 - binary_crossentropy: 0.1601\n",
      "Epoch 8/30\n",
      "825/825 [==============================] - 0s 118us/step - loss: 0.1598 - binary_crossentropy: 0.1598\n",
      "Epoch 9/30\n",
      "825/825 [==============================] - 0s 120us/step - loss: 0.1600 - binary_crossentropy: 0.1600\n",
      "Epoch 10/30\n",
      "825/825 [==============================] - 0s 127us/step - loss: 0.1598 - binary_crossentropy: 0.1598\n",
      "Epoch 11/30\n",
      "825/825 [==============================] - 0s 120us/step - loss: 0.1597 - binary_crossentropy: 0.1597\n",
      "Epoch 12/30\n",
      "825/825 [==============================] - 0s 117us/step - loss: 0.1596 - binary_crossentropy: 0.1596\n",
      "Epoch 13/30\n",
      "825/825 [==============================] - 0s 123us/step - loss: 0.1598 - binary_crossentropy: 0.1598\n",
      "Epoch 14/30\n",
      "825/825 [==============================] - 0s 117us/step - loss: 0.1597 - binary_crossentropy: 0.1597\n",
      "Epoch 15/30\n",
      "825/825 [==============================] - 0s 116us/step - loss: 0.1597 - binary_crossentropy: 0.1597\n",
      "Epoch 16/30\n",
      "825/825 [==============================] - 0s 124us/step - loss: 0.1597 - binary_crossentropy: 0.1597\n",
      "Epoch 17/30\n",
      "825/825 [==============================] - 0s 118us/step - loss: 0.1598 - binary_crossentropy: 0.1598\n",
      "Epoch 18/30\n",
      "825/825 [==============================] - 0s 118us/step - loss: 0.1596 - binary_crossentropy: 0.1596\n",
      "Epoch 19/30\n",
      "825/825 [==============================] - 0s 130us/step - loss: 0.1595 - binary_crossentropy: 0.1595\n",
      "Epoch 20/30\n",
      "825/825 [==============================] - 0s 121us/step - loss: 0.1597 - binary_crossentropy: 0.1597\n",
      "Epoch 21/30\n",
      "825/825 [==============================] - 0s 124us/step - loss: 0.1595 - binary_crossentropy: 0.1595\n",
      "Epoch 22/30\n",
      "825/825 [==============================] - 0s 121us/step - loss: 0.1596 - binary_crossentropy: 0.1596\n",
      "Epoch 23/30\n",
      "825/825 [==============================] - 0s 126us/step - loss: 0.1597 - binary_crossentropy: 0.1597\n",
      "Epoch 24/30\n",
      "825/825 [==============================] - 0s 123us/step - loss: 0.1596 - binary_crossentropy: 0.1596\n",
      "Epoch 25/30\n",
      "825/825 [==============================] - 0s 122us/step - loss: 0.1596 - binary_crossentropy: 0.1596\n",
      "Epoch 26/30\n",
      "825/825 [==============================] - 0s 129us/step - loss: 0.1598 - binary_crossentropy: 0.1598\n",
      "Epoch 27/30\n",
      "825/825 [==============================] - 0s 122us/step - loss: 0.1595 - binary_crossentropy: 0.1595\n",
      "Epoch 28/30\n",
      "825/825 [==============================] - 0s 121us/step - loss: 0.1595 - binary_crossentropy: 0.1595\n",
      "Epoch 29/30\n",
      "825/825 [==============================] - 0s 129us/step - loss: 0.1595 - binary_crossentropy: 0.1595\n",
      "Epoch 30/30\n",
      "825/825 [==============================] - 0s 124us/step - loss: 0.1592 - binary_crossentropy: 0.1592\n"
     ]
    }
   ],
   "source": [
    "lr=0.003\n",
    "model=Sequential()\n",
    "model.add(Dense(nn[0], input_dim=inputDimension, activation = 'relu', kernel_initializer=initializers.random_normal(stddev=0.1) ))\n",
    "model.add(Dense(nn[1], activation = 'relu', kernel_initializer=initializers.random_normal(stddev=0.1)))\n",
    "model.add(Dense(nn[1], activation = 'relu', kernel_initializer=initializers.random_normal(stddev=0.1)))\n",
    "model.add(Dense(nn[1], activation = 'relu',kernel_initializer=initializers.random_normal(stddev=0.1)))\n",
    "model.add(Dense(nn[2], activation = 'sigmoid',kernel_initializer=initializers.random_normal(stddev=0.1)))\n",
    "model.compile(loss='binary_crossentropy', optimizer=optimizers.SGD(lr=lr), metrics = ['binary_crossentropy'])\n",
    "model.load_weights(\"trial.h5\")\n",
    "model.fit(xTrainingData, yTrainingData, epochs=30)\n",
    "model.save_weights('trial.h5')"
   ]
  },
  {
   "cell_type": "code",
   "execution_count": 268,
   "metadata": {},
   "outputs": [],
   "source": [
    "def gaussianKernel (vector1, vector2):##Does the gaussian Kernel for two vectors\n",
    "    gamma=0.1\n",
    "    euclideanDistance=np.linalg.norm(vector1-vector2)\n",
    "    kernelValue=np.exp(-gamma*(euclideanDistance**2))\n",
    "    return kernelValue"
   ]
  },
  {
   "cell_type": "code",
   "execution_count": 269,
   "metadata": {},
   "outputs": [
    {
     "name": "stdout",
     "output_type": "stream",
     "text": [
      "112\n",
      "94\n"
     ]
    }
   ],
   "source": [
    "predictions = model.predict(xTestData)\n",
    "for i in range (0, len (predictions)):\n",
    "    for j in range (0, len (predictions[0])):##Rounds up and down the numbers to 0 and 1\n",
    "        if predictions[i][j]<0.5:\n",
    "            predictions[i][j] = 0\n",
    "        else:\n",
    "            predictions[i][j] = 1\n",
    "score = np.zeros((206, 206))##Creates the ouputfile ready to be opened with analysing Scores notebook\n",
    "\n",
    "for i in range (0, 206):\n",
    "    for j in range (0, 206):\n",
    "        score[i,j]= gaussianKernel(predictions[i],yTestData[j])\n",
    "np.save(\"kmersKerasScore\",score)"
   ]
  },
  {
   "cell_type": "code",
   "execution_count": null,
   "metadata": {},
   "outputs": [],
   "source": []
  }
 ],
 "metadata": {
  "kernelspec": {
   "display_name": "Python 3",
   "language": "python",
   "name": "python3"
  },
  "language_info": {
   "codemirror_mode": {
    "name": "ipython",
    "version": 3
   },
   "file_extension": ".py",
   "mimetype": "text/x-python",
   "name": "python",
   "nbconvert_exporter": "python",
   "pygments_lexer": "ipython3",
   "version": "3.7.2"
  }
 },
 "nbformat": 4,
 "nbformat_minor": 2
}
