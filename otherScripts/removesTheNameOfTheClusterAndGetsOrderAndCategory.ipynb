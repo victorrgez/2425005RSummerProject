{
 "cells": [
  {
   "cell_type": "code",
   "execution_count": 1,
   "metadata": {},
   "outputs": [],
   "source": [
    "##Choppes out the name of the cluster and just puts the 0-base number of each cluster. This was used\n",
    "##while analysing the broken down scores into categories.\n",
    "inputFile = open (\"categoriesProcessed.csv\")\n",
    "outputFile = open (\"orderWithCategories.csv\",\"w\")\n",
    "i=0\n",
    "for line in inputFile:\n",
    "    outputFile.write(str(i)+line[10:])\n",
    "    i+=1\n",
    "inputFile.close()\n",
    "outputFile.close()"
   ]
  },
  {
   "cell_type": "code",
   "execution_count": null,
   "metadata": {},
   "outputs": [],
   "source": []
  }
 ],
 "metadata": {
  "kernelspec": {
   "display_name": "Python 3",
   "language": "python",
   "name": "python3"
  },
  "language_info": {
   "codemirror_mode": {
    "name": "ipython",
    "version": 3
   },
   "file_extension": ".py",
   "mimetype": "text/x-python",
   "name": "python",
   "nbconvert_exporter": "python",
   "pygments_lexer": "ipython3",
   "version": "3.7.2"
  }
 },
 "nbformat": 4,
 "nbformat_minor": 2
}
